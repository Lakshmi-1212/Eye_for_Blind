{
 "cells": [
  {
   "cell_type": "markdown",
   "metadata": {},
   "source": [
    "<b>EYE FOR BLIND</b>  \n",
    "This notebook will be used to prepare the capstone project 'Eye for Blind'"
   ]
  },
  {
   "cell_type": "markdown",
   "metadata": {},
   "source": [
    "# IMPORT"
   ]
  },
  {
   "cell_type": "code",
   "execution_count": 1,
   "metadata": {
    "ExecuteTime": {
     "end_time": "2021-12-05T15:59:52.037377Z",
     "start_time": "2021-12-05T15:59:49.792495Z"
    }
   },
   "outputs": [],
   "source": [
    "import glob\n",
    "from PIL import Image\n",
    "from matplotlib.pyplot import imshow\n",
    "\n",
    "#from matplotlib.pyplot import figure, imshow, axis\n",
    "\n",
    "import os\n",
    "import pandas as pd\n",
    "import numpy as np \n",
    "\n",
    "from sklearn.model_selection import train_test_split\n",
    "\n",
    "import tensorflow as tf \n",
    "#from tensorflow import keras \n",
    "from tensorflow.keras import layers,Model \n",
    "from tensorflow.keras.datasets import mnist \n",
    "from tensorflow.keras.utils import plot_model \n",
    "#from tensorflow.keras.utils.vis_utils import plot_model\n",
    "\n",
    "from tqdm import tqdm\n",
    "import time\n",
    "import datetime\n",
    "import collections\n",
    "\n",
    "import warnings\n",
    "warnings.filterwarnings(\"ignore\")\n",
    "\n",
    "pd.set_option('display.max_colwidth', None)"
   ]
  },
  {
   "cell_type": "markdown",
   "metadata": {},
   "source": [
    "Let's read the dataset"
   ]
  },
  {
   "cell_type": "markdown",
   "metadata": {},
   "source": [
    "# DATA LOADING\n"
   ]
  },
  {
   "cell_type": "markdown",
   "metadata": {},
   "source": [
    "1.Import the dataset and read image & captions into two seperate variables\n",
    "\n",
    "2.Visualise both the images & text present in the dataset\n",
    "\n",
    "3.Create a dataframe which summarizes the image, path & captions as a dataframe\n",
    "\n",
    "4.Create a list which contains all the captions & path\n",
    "\n",
    "5.Visualise the top 30 occuring words in the captions"
   ]
  },
  {
   "cell_type": "markdown",
   "metadata": {},
   "source": [
    "## Read the image paths"
   ]
  },
  {
   "cell_type": "code",
   "execution_count": 2,
   "metadata": {
    "ExecuteTime": {
     "end_time": "2021-12-05T15:59:52.059540Z",
     "start_time": "2021-12-05T15:59:52.038285Z"
    }
   },
   "outputs": [
    {
     "name": "stdout",
     "output_type": "stream",
     "text": [
      "The total images present in the dataset: 8091\n"
     ]
    }
   ],
   "source": [
    "#Import the dataset and read the image into a seperate variable\n",
    "\n",
    "images='data/Images'\n",
    "\n",
    "all_imgs = glob.glob(images + '/*.jpg',recursive=True)\n",
    "print(\"The total images present in the dataset: {}\".format(len(all_imgs)))\n",
    "#all_imgs[0]"
   ]
  },
  {
   "cell_type": "markdown",
   "metadata": {
    "ExecuteTime": {
     "end_time": "2021-12-02T11:07:07.983393Z",
     "start_time": "2021-12-02T11:07:07.972544Z"
    }
   },
   "source": [
    "## Read the captions file"
   ]
  },
  {
   "cell_type": "code",
   "execution_count": 3,
   "metadata": {
    "ExecuteTime": {
     "end_time": "2021-12-05T15:59:52.109170Z",
     "start_time": "2021-12-05T15:59:52.060342Z"
    }
   },
   "outputs": [
    {
     "data": {
      "text/html": [
       "<div>\n",
       "<style scoped>\n",
       "    .dataframe tbody tr th:only-of-type {\n",
       "        vertical-align: middle;\n",
       "    }\n",
       "\n",
       "    .dataframe tbody tr th {\n",
       "        vertical-align: top;\n",
       "    }\n",
       "\n",
       "    .dataframe thead th {\n",
       "        text-align: right;\n",
       "    }\n",
       "</style>\n",
       "<table border=\"1\" class=\"dataframe\">\n",
       "  <thead>\n",
       "    <tr style=\"text-align: right;\">\n",
       "      <th></th>\n",
       "      <th>image</th>\n",
       "      <th>caption</th>\n",
       "    </tr>\n",
       "  </thead>\n",
       "  <tbody>\n",
       "    <tr>\n",
       "      <th>count</th>\n",
       "      <td>40455</td>\n",
       "      <td>40455</td>\n",
       "    </tr>\n",
       "    <tr>\n",
       "      <th>unique</th>\n",
       "      <td>8091</td>\n",
       "      <td>40201</td>\n",
       "    </tr>\n",
       "    <tr>\n",
       "      <th>top</th>\n",
       "      <td>1000268201_693b08cb0e.jpg</td>\n",
       "      <td>Two dogs playing in the snow .</td>\n",
       "    </tr>\n",
       "    <tr>\n",
       "      <th>freq</th>\n",
       "      <td>5</td>\n",
       "      <td>7</td>\n",
       "    </tr>\n",
       "  </tbody>\n",
       "</table>\n",
       "</div>"
      ],
      "text/plain": [
       "                            image                         caption\n",
       "count                       40455                           40455\n",
       "unique                       8091                           40201\n",
       "top     1000268201_693b08cb0e.jpg  Two dogs playing in the snow .\n",
       "freq                            5                               7"
      ]
     },
     "metadata": {},
     "output_type": "display_data"
    },
    {
     "data": {
      "text/html": [
       "<div>\n",
       "<style scoped>\n",
       "    .dataframe tbody tr th:only-of-type {\n",
       "        vertical-align: middle;\n",
       "    }\n",
       "\n",
       "    .dataframe tbody tr th {\n",
       "        vertical-align: top;\n",
       "    }\n",
       "\n",
       "    .dataframe thead th {\n",
       "        text-align: right;\n",
       "    }\n",
       "</style>\n",
       "<table border=\"1\" class=\"dataframe\">\n",
       "  <thead>\n",
       "    <tr style=\"text-align: right;\">\n",
       "      <th></th>\n",
       "      <th>image</th>\n",
       "      <th>caption</th>\n",
       "    </tr>\n",
       "  </thead>\n",
       "  <tbody>\n",
       "    <tr>\n",
       "      <th>0</th>\n",
       "      <td>1000268201_693b08cb0e.jpg</td>\n",
       "      <td>A child in a pink dress is climbing up a set of stairs in an entry way .</td>\n",
       "    </tr>\n",
       "    <tr>\n",
       "      <th>1</th>\n",
       "      <td>1000268201_693b08cb0e.jpg</td>\n",
       "      <td>A girl going into a wooden building .</td>\n",
       "    </tr>\n",
       "  </tbody>\n",
       "</table>\n",
       "</div>"
      ],
      "text/plain": [
       "                       image  \\\n",
       "0  1000268201_693b08cb0e.jpg   \n",
       "1  1000268201_693b08cb0e.jpg   \n",
       "\n",
       "                                                                    caption  \n",
       "0  A child in a pink dress is climbing up a set of stairs in an entry way .  \n",
       "1                                     A girl going into a wooden building .  "
      ]
     },
     "metadata": {},
     "output_type": "display_data"
    }
   ],
   "source": [
    "#Import the dataset and read the text file into a seperate variable\n",
    "\n",
    "captions_file = 'data/captions.txt'\n",
    "def load_doc(filename):\n",
    "    \n",
    "    text_df = pd.read_csv(filename,sep=',')\n",
    "    \n",
    "    return text_df\n",
    "\n",
    "captions_df = load_doc(captions_file)\n",
    "display(captions_df.describe())\n",
    "display(captions_df.head(2))"
   ]
  },
  {
   "cell_type": "markdown",
   "metadata": {},
   "source": [
    "## Visualize a sample image and its captions"
   ]
  },
  {
   "cell_type": "code",
   "execution_count": 4,
   "metadata": {
    "ExecuteTime": {
     "end_time": "2021-12-05T15:59:52.251275Z",
     "start_time": "2021-12-05T15:59:52.110530Z"
    }
   },
   "outputs": [
    {
     "name": "stdout",
     "output_type": "stream",
     "text": [
      "Captions:\n",
      "12105         A girl is smiling at the camera with a crowd of people behind her .\n",
      "12106    A girl with long dark hair wearing a yellow and white shirt is smiling .\n",
      "12107                                       A young girl smiling for the camera .\n",
      "12108                            A young smiling girl wearing yellow in a crowd .\n",
      "12109                              Young girl posing with crowd in the background\n",
      "Name: caption, dtype: object\n"
     ]
    },
    {
     "data": {
      "image/png": "[encoded data removed]",
      "text/plain": [
       "<Figure size 432x288 with 1 Axes>"
      ]
     },
     "metadata": {
      "needs_background": "light"
     },
     "output_type": "display_data"
    }
   ],
   "source": [
    "#Visualise both the images & text present in the dataset\n",
    "image_path = all_imgs[1]\n",
    "image_filename = os.path.basename(image_path)\n",
    "im = Image.open(image_path)\n",
    "imshow(im)\n",
    "\n",
    "print(f'Captions:\\n{captions_df[captions_df[\"image\"]==image_filename][\"caption\"]}')"
   ]
  },
  {
   "cell_type": "code",
   "execution_count": 5,
   "metadata": {
    "ExecuteTime": {
     "end_time": "2021-12-05T15:59:52.253801Z",
     "start_time": "2021-12-05T15:59:52.252258Z"
    }
   },
   "outputs": [],
   "source": [
    "# #Import the dataset and read the text file into a seperate variable\n",
    "\n",
    "# def load_doc(filename):\n",
    "    \n",
    "#     #your code here\n",
    "    \n",
    "#     return text\n",
    "\n",
    "# doc = load_doc(text_file)\n",
    "# print(doc[:300])"
   ]
  },
  {
   "cell_type": "markdown",
   "metadata": {},
   "source": [
    "## Create a combined dataframe"
   ]
  },
  {
   "cell_type": "markdown",
   "metadata": {},
   "source": [
    "Create a dataframe which summarizes the image, path & captions as a dataframe\n",
    "\n",
    "Each image id has 5 captions associated with it therefore the total dataset should have 40455 samples."
   ]
  },
  {
   "cell_type": "code",
   "execution_count": 6,
   "metadata": {
    "ExecuteTime": {
     "end_time": "2021-12-05T15:59:52.271328Z",
     "start_time": "2021-12-05T15:59:52.254434Z"
    },
    "scrolled": true
   },
   "outputs": [
    {
     "name": "stdout",
     "output_type": "stream",
     "text": [
      "Shape:(40455, 3)\n"
     ]
    },
    {
     "data": {
      "text/html": [
       "<div>\n",
       "<style scoped>\n",
       "    .dataframe tbody tr th:only-of-type {\n",
       "        vertical-align: middle;\n",
       "    }\n",
       "\n",
       "    .dataframe tbody tr th {\n",
       "        vertical-align: top;\n",
       "    }\n",
       "\n",
       "    .dataframe thead th {\n",
       "        text-align: right;\n",
       "    }\n",
       "</style>\n",
       "<table border=\"1\" class=\"dataframe\">\n",
       "  <thead>\n",
       "    <tr style=\"text-align: right;\">\n",
       "      <th></th>\n",
       "      <th>filename</th>\n",
       "      <th>path</th>\n",
       "      <th>caption</th>\n",
       "    </tr>\n",
       "  </thead>\n",
       "  <tbody>\n",
       "    <tr>\n",
       "      <th>0</th>\n",
       "      <td>2387197355_237f6f41ee.jpg</td>\n",
       "      <td>data/Images/2387197355_237f6f41ee.jpg</td>\n",
       "      <td>A group of people are partying at a masquerade party .</td>\n",
       "    </tr>\n",
       "    <tr>\n",
       "      <th>1</th>\n",
       "      <td>2387197355_237f6f41ee.jpg</td>\n",
       "      <td>data/Images/2387197355_237f6f41ee.jpg</td>\n",
       "      <td>A lady in red and black grins at the camera at a costume party .</td>\n",
       "    </tr>\n",
       "    <tr>\n",
       "      <th>2</th>\n",
       "      <td>2387197355_237f6f41ee.jpg</td>\n",
       "      <td>data/Images/2387197355_237f6f41ee.jpg</td>\n",
       "      <td>A woman in a domino mask and severe hair is at a party .</td>\n",
       "    </tr>\n",
       "    <tr>\n",
       "      <th>3</th>\n",
       "      <td>2387197355_237f6f41ee.jpg</td>\n",
       "      <td>data/Images/2387197355_237f6f41ee.jpg</td>\n",
       "      <td>A woman in a red dress and black mask is on a crowded dance floor</td>\n",
       "    </tr>\n",
       "    <tr>\n",
       "      <th>4</th>\n",
       "      <td>2387197355_237f6f41ee.jpg</td>\n",
       "      <td>data/Images/2387197355_237f6f41ee.jpg</td>\n",
       "      <td>A woman wears a red dress and a black mask while people dance behind her .</td>\n",
       "    </tr>\n",
       "  </tbody>\n",
       "</table>\n",
       "</div>"
      ],
      "text/plain": [
       "                    filename                                   path  \\\n",
       "0  2387197355_237f6f41ee.jpg  data/Images/2387197355_237f6f41ee.jpg   \n",
       "1  2387197355_237f6f41ee.jpg  data/Images/2387197355_237f6f41ee.jpg   \n",
       "2  2387197355_237f6f41ee.jpg  data/Images/2387197355_237f6f41ee.jpg   \n",
       "3  2387197355_237f6f41ee.jpg  data/Images/2387197355_237f6f41ee.jpg   \n",
       "4  2387197355_237f6f41ee.jpg  data/Images/2387197355_237f6f41ee.jpg   \n",
       "\n",
       "                                                                      caption  \n",
       "0                      A group of people are partying at a masquerade party .  \n",
       "1            A lady in red and black grins at the camera at a costume party .  \n",
       "2                    A woman in a domino mask and severe hair is at a party .  \n",
       "3           A woman in a red dress and black mask is on a crowded dance floor  \n",
       "4  A woman wears a red dress and a black mask while people dance behind her .  "
      ]
     },
     "execution_count": 6,
     "metadata": {},
     "output_type": "execute_result"
    }
   ],
   "source": [
    "filepaths_df = pd.DataFrame({'filename' : [os.path.basename(image_path) for image_path in all_imgs],\n",
    "              'path' : all_imgs })\n",
    "df = pd.merge(filepaths_df,captions_df,left_on='filename',right_on='image')\n",
    "df.drop('image',axis=1, inplace=True)\n",
    "\n",
    "print(f'Shape:{df.shape}')\n",
    "df.head()"
   ]
  },
  {
   "cell_type": "code",
   "execution_count": null,
   "metadata": {},
   "outputs": [],
   "source": []
  },
  {
   "cell_type": "code",
   "execution_count": null,
   "metadata": {},
   "outputs": [],
   "source": []
  },
  {
   "cell_type": "code",
   "execution_count": null,
   "metadata": {},
   "outputs": [],
   "source": []
  },
  {
   "cell_type": "markdown",
   "metadata": {},
   "source": [
    "# TEMP CODE - CONSIDER ONLY TOP 1000 ROWS - TESTING"
   ]
  },
  {
   "cell_type": "code",
   "execution_count": 7,
   "metadata": {
    "ExecuteTime": {
     "end_time": "2021-12-05T15:59:52.273696Z",
     "start_time": "2021-12-05T15:59:52.272195Z"
    }
   },
   "outputs": [],
   "source": [
    "df = df.head(100)"
   ]
  },
  {
   "cell_type": "code",
   "execution_count": 8,
   "metadata": {
    "ExecuteTime": {
     "end_time": "2021-12-05T15:59:52.276448Z",
     "start_time": "2021-12-05T15:59:52.274360Z"
    }
   },
   "outputs": [
    {
     "data": {
      "text/plain": [
       "(100, 3)"
      ]
     },
     "execution_count": 8,
     "metadata": {},
     "output_type": "execute_result"
    }
   ],
   "source": [
    "df.shape"
   ]
  },
  {
   "cell_type": "code",
   "execution_count": 9,
   "metadata": {
    "ExecuteTime": {
     "end_time": "2021-12-05T15:59:52.281770Z",
     "start_time": "2021-12-05T15:59:52.277059Z"
    }
   },
   "outputs": [],
   "source": [
    "# CLEAR CHECKPOINTS\n",
    "import os\n",
    "import glob\n",
    "\n",
    "REMOVE_CHECKPOINTS = True\n",
    "if (REMOVE_CHECKPOINTS):\n",
    "    files = glob.glob('./checkpoints/train_chkpts/*')\n",
    "    for f in files:\n",
    "        os.remove(f)"
   ]
  },
  {
   "cell_type": "code",
   "execution_count": null,
   "metadata": {},
   "outputs": [],
   "source": []
  },
  {
   "cell_type": "code",
   "execution_count": null,
   "metadata": {},
   "outputs": [],
   "source": []
  },
  {
   "cell_type": "code",
   "execution_count": null,
   "metadata": {},
   "outputs": [],
   "source": []
  },
  {
   "cell_type": "markdown",
   "metadata": {},
   "source": [
    "# DATA PREPROCESSING"
   ]
  },
  {
   "cell_type": "code",
   "execution_count": 10,
   "metadata": {
    "ExecuteTime": {
     "end_time": "2021-12-05T15:59:52.288009Z",
     "start_time": "2021-12-05T15:59:52.286636Z"
    }
   },
   "outputs": [],
   "source": [
    "# all_img_id= #store all the image id here\n",
    "# all_img_vector= #store all the image path here\n",
    "# annotations= #store all the captions here\n",
    "\n",
    "# df = pd.DataFrame(list(zip(all_img_id, all_img_vector,annotations)),columns =['ID','Path', 'Captions']) \n",
    "    \n",
    "# df"
   ]
  },
  {
   "cell_type": "markdown",
   "metadata": {},
   "source": [
    "## Variables Initialization"
   ]
  },
  {
   "cell_type": "code",
   "execution_count": 11,
   "metadata": {
    "ExecuteTime": {
     "end_time": "2021-12-05T15:59:52.290182Z",
     "start_time": "2021-12-05T15:59:52.288622Z"
    }
   },
   "outputs": [],
   "source": [
    " # Length of the vocabulary  \n",
    "VOCAB_LENGTH = 5000\n",
    "\n",
    "# Set batch size\n",
    "BATCH_SIZE=16\n",
    "\n",
    "# Set the buffer size\n",
    "BUFFER_SIZE = 1000"
   ]
  },
  {
   "cell_type": "code",
   "execution_count": 12,
   "metadata": {
    "ExecuteTime": {
     "end_time": "2021-12-05T15:59:52.292476Z",
     "start_time": "2021-12-05T15:59:52.290873Z"
    }
   },
   "outputs": [],
   "source": [
    "# Stores .npy file with features from InceptionV3 for each image\n",
    "# Can be done once and reused to save computation time\n",
    "CREATE_FEATURE_NUMPY_FILE = False # Takes ~8min to create the batch features numpy file for all the images\n"
   ]
  },
  {
   "cell_type": "markdown",
   "metadata": {},
   "source": [
    "## Pre-processing Captions"
   ]
  },
  {
   "cell_type": "markdown",
   "metadata": {},
   "source": [
    "### Add the start & end tokens"
   ]
  },
  {
   "cell_type": "code",
   "execution_count": 13,
   "metadata": {
    "ExecuteTime": {
     "end_time": "2021-12-05T15:59:52.295336Z",
     "start_time": "2021-12-05T15:59:52.293130Z"
    }
   },
   "outputs": [],
   "source": [
    "df['caption'] = df['caption'].apply(lambda x: f'<start> {x} <end>')"
   ]
  },
  {
   "cell_type": "code",
   "execution_count": 14,
   "metadata": {
    "ExecuteTime": {
     "end_time": "2021-12-05T15:59:52.299044Z",
     "start_time": "2021-12-05T15:59:52.296437Z"
    }
   },
   "outputs": [
    {
     "name": "stdout",
     "output_type": "stream",
     "text": [
      "Total captions present in the dataset: 100\n",
      "Total images present in the dataset: 20\n"
     ]
    }
   ],
   "source": [
    "\n",
    "print(\"Total captions present in the dataset: \"+ str(len(df['caption'].unique())))\n",
    "print(\"Total images present in the dataset: \" + str(len(df['path'].unique())))"
   ]
  },
  {
   "cell_type": "code",
   "execution_count": 15,
   "metadata": {
    "ExecuteTime": {
     "end_time": "2021-12-05T15:59:52.301625Z",
     "start_time": "2021-12-05T15:59:52.300070Z"
    }
   },
   "outputs": [],
   "source": [
    "# #Create a list which contains all the captions\n",
    "# annotations=list(df['caption'].unique())\n",
    " \n",
    "\n",
    "# #Create a list which contains all the path to the images\n",
    "# all_img_path=list(df['path'].unique())\n",
    "\n",
    "# print(\"Total captions present in the dataset: \"+ str(len(annotations)))\n",
    "# print(\"Total images present in the dataset: \" + str(len(all_img_path)))"
   ]
  },
  {
   "cell_type": "code",
   "execution_count": 16,
   "metadata": {
    "ExecuteTime": {
     "end_time": "2021-12-05T15:59:52.303708Z",
     "start_time": "2021-12-05T15:59:52.302275Z"
    }
   },
   "outputs": [],
   "source": [
    "# #Create the vocabulary & the counter for the captions\n",
    "\n",
    "# vocabulary= #write your code here\n",
    "\n",
    "# val_count=Counter(vocabulary)\n",
    "# val_count"
   ]
  },
  {
   "cell_type": "code",
   "execution_count": 17,
   "metadata": {
    "ExecuteTime": {
     "end_time": "2021-12-05T15:59:52.305328Z",
     "start_time": "2021-12-05T15:59:52.304253Z"
    }
   },
   "outputs": [],
   "source": [
    "#Visualise the top 30 occuring words in the captions\n",
    "#df['caption'].value_count()\n",
    "\n",
    "#write your code here"
   ]
  },
  {
   "cell_type": "markdown",
   "metadata": {},
   "source": [
    "1.Create the tokenized vectors by tokenizing the captions fore ex :split them using spaces & other filters. \n",
    "This gives us a vocabulary of all of the unique words in the data. Keep the total vocaublary to top 5,000 words for saving memory.\n",
    "\n",
    "2.Replace all other words with the unknown token \"UNK\" .\n",
    "\n",
    "3.Create word-to-index and index-to-word mappings.\n",
    "\n",
    "4.Pad all sequences to be the same length as the longest one."
   ]
  },
  {
   "cell_type": "markdown",
   "metadata": {},
   "source": [
    "### Tokenize to words"
   ]
  },
  {
   "cell_type": "code",
   "execution_count": 18,
   "metadata": {
    "ExecuteTime": {
     "end_time": "2021-12-05T15:59:52.309027Z",
     "start_time": "2021-12-05T15:59:52.306043Z"
    }
   },
   "outputs": [],
   "source": [
    "# create the tokenizer\n",
    "# Replace captions with UNK if word is not in the frequent words list\n",
    "\n",
    "tokenizer = tf.keras.preprocessing.text.Tokenizer(num_words=VOCAB_LENGTH,\n",
    "                                                  oov_token=\"<UNK>\",\n",
    "                                                  filters='!\"#$%&()*+.,-/:;=?@[\\]^_`{|}~')\n",
    "tokenizer.fit_on_texts(df['caption'])    \n"
   ]
  },
  {
   "cell_type": "markdown",
   "metadata": {},
   "source": [
    "### Pad sequences to longest length"
   ]
  },
  {
   "cell_type": "code",
   "execution_count": 19,
   "metadata": {
    "ExecuteTime": {
     "end_time": "2021-12-05T15:59:52.314329Z",
     "start_time": "2021-12-05T15:59:52.309767Z"
    }
   },
   "outputs": [
    {
     "name": "stdout",
     "output_type": "stream",
     "text": [
      "Total no. of captions      = 100\n",
      "Total no. of token words   = 335\n",
      "Vocab length for tokenizer = 5000\n",
      "Maximum caption length     = 23\n"
     ]
    }
   ],
   "source": [
    "    \n",
    "# Add the <pad> tag to the vocabulary\n",
    "tokenizer.word_index['<pad>'] = 0\n",
    "tokenizer.index_word[0] = '<pad>'\n",
    "\n",
    "# Create the tokenized vectors: word-to-index mapping\n",
    "caption_seqs = tokenizer.texts_to_sequences(df['caption'])\n",
    "\n",
    "# Pad all sequences to be the same length as the longest one\n",
    "captions_vector = tf.keras.preprocessing.sequence.pad_sequences(caption_seqs, padding='post')\n",
    "\n",
    "# Map each caption to captions vector\n",
    "cap_to_cap_vector = collections.defaultdict(list)\n",
    "for cap, cap_vector in zip(df['caption'], captions_vector):\n",
    "    cap_to_cap_vector[cap] = cap_vector\n",
    "\n",
    "\n",
    "# Calculate the max_length of the caption, which is used to store the attention weights\n",
    "max_length = max(len(x) for x in caption_seqs)\n",
    "\n",
    "\n",
    "print(f'Total no. of captions      = {len(caption_seqs)}')\n",
    "print(f'Total no. of token words   = {len(tokenizer.word_index) + 1}')\n",
    "print(f'Vocab length for tokenizer = {VOCAB_LENGTH}')\n",
    "print(f'Maximum caption length     = {max_length}')"
   ]
  },
  {
   "cell_type": "code",
   "execution_count": 20,
   "metadata": {
    "ExecuteTime": {
     "end_time": "2021-12-05T15:59:52.323306Z",
     "start_time": "2021-12-05T15:59:52.314910Z"
    },
    "scrolled": true
   },
   "outputs": [
    {
     "data": {
      "text/plain": [
       "defaultdict(list,\n",
       "            {'<start> A group of people are partying at a masquerade party . <end>': array([  3,   2, 142,  14,  41,  24, 143,  21,   2, 144,  42,   4,   0,\n",
       "                      0,   0,   0,   0,   0,   0,   0,   0,   0,   0], dtype=int32),\n",
       "             '<start> A lady in red and black grins at the camera at a costume party . <end>': array([  3,   2,  89,   5,  19,   7,  20, 145,  21,   6,  35,  21,   2,\n",
       "                    146,  42,   4,   0,   0,   0,   0,   0,   0,   0], dtype=int32),\n",
       "             '<start> A woman in a domino mask and severe hair is at a party . <end>': array([  3,   2,  12,   5,   2, 147,  60,   7, 148,  36,  10,  21,   2,\n",
       "                     42,   4,   0,   0,   0,   0,   0,   0,   0,   0], dtype=int32),\n",
       "             '<start> A woman in a red dress and black mask is on a crowded dance floor <end>': array([  3,   2,  12,   5,   2,  19,  90,   7,  20,  60,  10,  11,   2,\n",
       "                    149,  91, 150,   4,   0,   0,   0,   0,   0,   0], dtype=int32),\n",
       "             '<start> A woman wears a red dress and a black mask while people dance behind her . <end>': array([ 3,  2, 12, 92,  2, 19, 90,  7,  2, 20, 60, 31, 41, 91, 93, 37,  4,\n",
       "                     0,  0,  0,  0,  0,  0], dtype=int32),\n",
       "             '<start> A girl is smiling at the camera with a crowd of people behind her . <end>': array([ 3,  2, 13, 10, 43, 21,  6, 35,  9,  2, 61, 14, 41, 93, 37,  4,  0,\n",
       "                     0,  0,  0,  0,  0,  0], dtype=int32),\n",
       "             '<start> A girl with long dark hair wearing a yellow and white shirt is smiling . <end>': array([  3,   2,  13,   9, 151, 152,  36,  22,   2,  51,   7,  23,  25,\n",
       "                     10,  43,   4,   0,   0,   0,   0,   0,   0,   0], dtype=int32),\n",
       "             '<start> A young girl smiling for the camera . <end>': array([ 3,  2, 18, 13, 43, 32,  6, 35,  4,  0,  0,  0,  0,  0,  0,  0,  0,\n",
       "                     0,  0,  0,  0,  0,  0], dtype=int32),\n",
       "             '<start> A young smiling girl wearing yellow in a crowd . <end>': array([ 3,  2, 18, 43, 13, 22, 51,  5,  2, 61,  4,  0,  0,  0,  0,  0,  0,\n",
       "                     0,  0,  0,  0,  0,  0], dtype=int32),\n",
       "             '<start> Young girl posing with crowd in the background <end>': array([ 3, 18, 13, 94,  9, 61,  5,  6, 95,  4,  0,  0,  0,  0,  0,  0,  0,\n",
       "                     0,  0,  0,  0,  0,  0], dtype=int32),\n",
       "             '<start> A man in a neon-colored vest holding up a section of wood <end>': array([  3,   2,   8,   5,   2,  96, 153,  97,  52,  62,   2, 154,  14,\n",
       "                     98,   4,   0,   0,   0,   0,   0,   0,   0,   0], dtype=int32),\n",
       "             '<start> a man in a neon yellow vest carrying a wooden crate <end>': array([  3,   2,   8,   5,   2,  96,  51,  97, 155,   2,  63, 156,   4,\n",
       "                      0,   0,   0,   0,   0,   0,   0,   0,   0,   0], dtype=int32),\n",
       "             '<start> A man in construction gear is moving a large plank of wood to a new destination . <end>': array([  3,   2,   8,   5, 157, 158,  10, 159,   2,  53, 160,  14,  98,\n",
       "                     17,   2, 161, 162,   4,   0,   0,   0,   0,   0], dtype=int32),\n",
       "             '<start> A man wearing yellow hi-viz is grasping a wooden board . <end>': array([  3,   2,   8,  22,  51, 163, 164,  10, 165,   2,  63, 166,   4,\n",
       "                      0,   0,   0,   0,   0,   0,   0,   0,   0,   0], dtype=int32),\n",
       "             '<start> Man with short hair moves wooden structure . <end>': array([  3,   8,   9, 167,  36, 168,  63, 169,   4,   0,   0,   0,   0,\n",
       "                      0,   0,   0,   0,   0,   0,   0,   0,   0,   0], dtype=int32),\n",
       "             '<start> A black and white dog jumping over a red and white bar . <end>': array([ 3,  2, 20,  7, 23, 44, 54, 38,  2, 19,  7, 23, 99,  4,  0,  0,  0,\n",
       "                     0,  0,  0,  0,  0,  0], dtype=int32),\n",
       "             '<start> A black and white dog jumps over a red and white pole while a boy in a green shirt watches . <end>': array([  3,   2,  20,   7,  23,  44, 100,  38,   2,  19,   7,  23,  64,\n",
       "                     31,   2,  15,   5,   2, 170,  25, 171,   4,   0], dtype=int32),\n",
       "             '<start> A dog is jumping over a red and white bar . <end>': array([ 3,  2, 44, 10, 54, 38,  2, 19,  7, 23, 99,  4,  0,  0,  0,  0,  0,\n",
       "                     0,  0,  0,  0,  0,  0], dtype=int32),\n",
       "             '<start> A dog jumping over a pole with a boy in the background <end>': array([ 3,  2, 44, 54, 38,  2, 64,  9,  2, 15,  5,  6, 95,  4,  0,  0,  0,\n",
       "                     0,  0,  0,  0,  0,  0], dtype=int32),\n",
       "             '<start> Dog jumps over red and white pole while boy looks on <end>': array([  3,  44, 100,  38,  19,   7,  23,  64,  31,  15, 101,  11,   4,\n",
       "                      0,   0,   0,   0,   0,   0,   0,   0,   0,   0], dtype=int32),\n",
       "             '<start> A man and woman , on a park trail , pose in front of a lake and distant mountain . <end>': array([  3,   2,   8,   7,  12,  11,   2,  65, 172, 173,   5,  66,  14,\n",
       "                      2, 174,   7, 175, 102,   4,   0,   0,   0,   0], dtype=int32),\n",
       "             '<start> A man and woman posing for a picture on a mountain hike . <end>': array([  3,   2,   8,   7,  12,  94,  32,   2, 103,  11,   2, 102, 176,\n",
       "                      4,   0,   0,   0,   0,   0,   0,   0,   0,   0], dtype=int32),\n",
       "             '<start> A man holds his arms open wide while standing with a woman . <end>': array([  3,   2,   8,  67,  55,  56, 177, 178,  31,  45,   9,   2,  12,\n",
       "                      4,   0,   0,   0,   0,   0,   0,   0,   0,   0], dtype=int32),\n",
       "             '<start> A man without a shirt poses with his arms spread next to a woman . <end>': array([  3,   2,   8, 179,   2,  25, 104,   9,  55,  56, 180,  39,  17,\n",
       "                      2,  12,   4,   0,   0,   0,   0,   0,   0,   0], dtype=int32),\n",
       "             '<start> A shirtless man poses with a girl hiking in a park . <end>': array([  3,   2, 181,   8, 104,   9,   2,  13, 182,   5,   2,  65,   4,\n",
       "                      0,   0,   0,   0,   0,   0,   0,   0,   0,   0], dtype=int32),\n",
       "             '<start> A man in a kayak is holding his paddle up high . <end>': array([  3,   2,   8,   5,   2,  68,  10,  52,  55, 105,  62, 183,   4,\n",
       "                      0,   0,   0,   0,   0,   0,   0,   0,   0,   0], dtype=int32),\n",
       "             '<start> A man is kayaking through rough water . <end>': array([  3,   2,   8,  10, 184,  69, 185,  46,   4,   0,   0,   0,   0,\n",
       "                      0,   0,   0,   0,   0,   0,   0,   0,   0,   0], dtype=int32),\n",
       "             \"<start> Kayak rider raises arms as he 's splashed with water . <end>\": array([  3,  68, 186, 187,  56,  70, 188, 106, 189,   9,  46,   4,   0,\n",
       "                      0,   0,   0,   0,   0,   0,   0,   0,   0,   0], dtype=int32),\n",
       "             '<start> Spray obscures the face and torso of the paddle wielding man in the red kayak . <end>': array([  3, 190, 191,   6,  71,   7, 192,  14,   6, 105, 193,   8,   5,\n",
       "                      6,  19,  68,   4,   0,   0,   0,   0,   0,   0], dtype=int32),\n",
       "             '<start> The kayaker holding an oar , is raising both arms in the air , while waves splash around him . <end>': array([  3,   6, 194,  52, 107, 195,  10, 196, 197,  56,   5,   6, 198,\n",
       "                     31, 199, 200, 108, 109,   4,   0,   0,   0,   0], dtype=int32),\n",
       "             '<start> Boy skating across a metal rail . <end>': array([  3,  15, 201, 202,   2, 110,  72,   4,   0,   0,   0,   0,   0,\n",
       "                      0,   0,   0,   0,   0,   0,   0,   0,   0,   0], dtype=int32),\n",
       "             '<start> One boy skateboarding on a rail and three boys watching . <end>': array([  3,  73,  15, 203,  11,   2,  72,   7,  74, 111, 204,   4,   0,\n",
       "                      0,   0,   0,   0,   0,   0,   0,   0,   0,   0], dtype=int32),\n",
       "             '<start> Teenager grinding skateboard down a railing while other teenagers watch . <end>': array([  3, 205, 112, 206,  75,   2, 207,  31,  47, 208, 209,   4,   0,\n",
       "                      0,   0,   0,   0,   0,   0,   0,   0,   0,   0], dtype=int32),\n",
       "             '<start> The skateboarder is riding the silver rail while three other young men look on . <end>': array([  3,   6, 210,  10, 113,   6, 211,  72,  31,  74,  47,  18, 212,\n",
       "                    213,  11,   4,   0,   0,   0,   0,   0,   0,   0], dtype=int32),\n",
       "             '<start> Young man grinding , three other boys observing <end>': array([  3,  18,   8, 112,  74,  47, 111, 214,   4,   0,   0,   0,   0,\n",
       "                      0,   0,   0,   0,   0,   0,   0,   0,   0,   0], dtype=int32),\n",
       "             '<start> a woman holding a baby hanging from a branch and a small child hanging on that same branch . <end>': array([  3,   2,  12,  52,   2,  48,  76,  77,   2,  49,   7,   2, 114,\n",
       "                     33,  76,  11, 215, 216,  49,   4,   0,   0,   0], dtype=int32),\n",
       "             '<start> Two asian kids are playing with a very large tree branch . <end>': array([  3,  16, 217, 218,  24,  26,   9,   2, 219,  53,  78,  49,   4,\n",
       "                      0,   0,   0,   0,   0,   0,   0,   0,   0,   0], dtype=int32),\n",
       "             '<start> Two children and an adult standing next to a tree limb . <end>': array([  3,  16,  79,   7, 107, 220,  45,  39,  17,   2,  78, 221,   4,\n",
       "                      0,   0,   0,   0,   0,   0,   0,   0,   0,   0], dtype=int32),\n",
       "             '<start> Two children hang from a low tree branch <end>': array([  3,  16,  79, 222,  77,   2, 223,  78,  49,   4,   0,   0,   0,\n",
       "                      0,   0,   0,   0,   0,   0,   0,   0,   0,   0], dtype=int32),\n",
       "             '<start> Two children hanging on a large branch . <end>': array([ 3, 16, 79, 76, 11,  2, 53, 49,  4,  0,  0,  0,  0,  0,  0,  0,  0,\n",
       "                     0,  0,  0,  0,  0,  0], dtype=int32),\n",
       "             '<start> A child covered with paint sits amid trays of multicolored paint on a surface thoroughly saturated with paint . <end>': array([  3,   2,  33, 115,   9,  34, 224, 225, 226,  14, 227,  34,  11,\n",
       "                      2, 228, 229, 230,   9,  34,   4,   0,   0,   0], dtype=int32),\n",
       "             '<start> A child plays with paint . <end>': array([  3,   2,  33, 116,   9,  34,   4,   0,   0,   0,   0,   0,   0,\n",
       "                      0,   0,   0,   0,   0,   0,   0,   0,   0,   0], dtype=int32),\n",
       "             '<start> A little girl in a white shirt has been playing with paint and covered herself and her room . <end>': array([  3,   2,  27,  13,   5,   2,  23,  25,  80, 231,  26,   9,  34,\n",
       "                      7, 115, 232,   7,  37, 233,   4,   0,   0,   0], dtype=int32),\n",
       "             '<start> A young child sitting in a mess of paint . <end>': array([  3,   2,  18,  33,  28,   5,   2, 117,  14,  34,   4,   0,   0,\n",
       "                      0,   0,   0,   0,   0,   0,   0,   0,   0,   0], dtype=int32),\n",
       "             '<start> a young child sitting in a mess of paint spilled everywhere . <end>': array([  3,   2,  18,  33,  28,   5,   2, 117,  14,  34, 234, 235,   4,\n",
       "                      0,   0,   0,   0,   0,   0,   0,   0,   0,   0], dtype=int32),\n",
       "             '<start> A man and a woman are sitting down and eating . <end>': array([ 3,  2,  8,  7,  2, 12, 24, 28, 75,  7, 57,  4,  0,  0,  0,  0,  0,\n",
       "                     0,  0,  0,  0,  0,  0], dtype=int32),\n",
       "             '<start> A woman eating at a restaurant with other people . <end>': array([  3,   2,  12,  57,  21,   2, 236,   9,  47,  41,   4,   0,   0,\n",
       "                      0,   0,   0,   0,   0,   0,   0,   0,   0,   0], dtype=int32),\n",
       "             '<start> A Woman sitting by a man is eating a plate of french fries . <end>': array([  3,   2,  12,  28, 118,   2,   8,  10,  57,   2, 119,  14, 120,\n",
       "                    121,   4,   0,   0,   0,   0,   0,   0,   0,   0], dtype=int32),\n",
       "             '<start> A young woman leans over her plate at a meal . <end>': array([  3,   2,  18,  12, 237,  38,  37, 119,  21,   2, 238,   4,   0,\n",
       "                      0,   0,   0,   0,   0,   0,   0,   0,   0,   0], dtype=int32),\n",
       "             '<start> The girl sitting next to the man wearing a white t-shirt is eating french fries . <end>': array([  3,   6,  13,  28,  39,  17,   6,   8,  22,   2,  23, 239,  25,\n",
       "                     10,  57, 120, 121,   4,   0,   0,   0,   0,   0], dtype=int32),\n",
       "             '<start> A lady laughs as she and a man drink coffee . <end>': array([  3,   2,  89, 240,  70, 241,   7,   2,   8, 122, 123,   4,   0,\n",
       "                      0,   0,   0,   0,   0,   0,   0,   0,   0,   0], dtype=int32),\n",
       "             '<start> A man and a girl are sitting down and have a drink . <end>': array([  3,   2,   8,   7,   2,  13,  24,  28,  75,   7, 242,   2, 122,\n",
       "                      4,   0,   0,   0,   0,   0,   0,   0,   0,   0], dtype=int32),\n",
       "             '<start> A man and a woman are drinking from ceramic cups in front of a brick wall . <end>': array([  3,   2,   8,   7,   2,  12,  24, 243,  77, 244, 245,   5,  66,\n",
       "                     14,   2, 124,  40,   4,   0,   0,   0,   0,   0], dtype=int32),\n",
       "             '<start> a woman in black is sitting next to a man wearing glasses in a coffee shop . <end>': array([  3,   2,  12,   5,  20,  10,  28,  39,  17,   2,   8,  22, 125,\n",
       "                      5,   2, 123, 246,   4,   0,   0,   0,   0,   0], dtype=int32),\n",
       "             '<start> People sitting in building having drinks <end>': array([  3,  41,  28,   5, 126, 247, 248,   4,   0,   0,   0,   0,   0,\n",
       "                      0,   0,   0,   0,   0,   0,   0,   0,   0,   0], dtype=int32),\n",
       "             '<start> A little girl in a rain puddle . <end>': array([  3,   2,  27,  13,   5,   2, 127,  29,   4,   0,   0,   0,   0,\n",
       "                      0,   0,   0,   0,   0,   0,   0,   0,   0,   0], dtype=int32),\n",
       "             '<start> A little girl is walking in a puddle of rain water in a hole in the road . <end>': array([  3,   2,  27,  13,  10, 249,   5,   2,  29,  14, 127,  46,   5,\n",
       "                      2, 250,   5,   6, 251,   4,   0,   0,   0,   0], dtype=int32),\n",
       "             '<start> A little girl stands in a puddle of water in the middle of the street . <end>': array([  3,   2,  27,  13,  50,   5,   2,  29,  14,  46,   5,   6, 252,\n",
       "                     14,   6, 253,   4,   0,   0,   0,   0,   0,   0], dtype=int32),\n",
       "             '<start> A little girl stands in a puddle on the concrete , shrowded in darkness . <end>': array([  3,   2,  27,  13,  50,   5,   2,  29,  11,   6, 254, 255,   5,\n",
       "                    256,   4,   0,   0,   0,   0,   0,   0,   0,   0], dtype=int32),\n",
       "             '<start> A little girl stands in a puddle outside . <end>': array([ 3,  2, 27, 13, 50,  5,  2, 29, 81,  4,  0,  0,  0,  0,  0,  0,  0,\n",
       "                     0,  0,  0,  0,  0,  0], dtype=int32),\n",
       "             '<start> A boy in a party hat splashes in the water . <end>': array([  3,   2,  15,   5,   2,  42,  82, 257,   5,   6,  46,   4,   0,\n",
       "                      0,   0,   0,   0,   0,   0,   0,   0,   0,   0], dtype=int32),\n",
       "             '<start> A boy wearing a birthday hat plays in a puddle . <end>': array([  3,   2,  15,  22,   2, 258,  82, 116,   5,   2,  29,   4,   0,\n",
       "                      0,   0,   0,   0,   0,   0,   0,   0,   0,   0], dtype=int32),\n",
       "             '<start> A little boy in blue is playing in a stream . <end>': array([  3,   2,  27,  15,   5,  58,  10,  26,   5,   2, 259,   4,   0,\n",
       "                      0,   0,   0,   0,   0,   0,   0,   0,   0,   0], dtype=int32),\n",
       "             '<start> A little boy wearing a blue stiped shirt has a party hat on his head and is playing in a puddle . <end>': array([  3,   2,  27,  15,  22,   2,  58, 260,  25,  80,   2,  42,  82,\n",
       "                     11,  55, 261,   7,  10,  26,   5,   2,  29,   4], dtype=int32),\n",
       "             '<start> A young kid is jumping in a puddle . <end>': array([  3,   2,  18, 128,  10,  54,   5,   2,  29,   4,   0,   0,   0,\n",
       "                      0,   0,   0,   0,   0,   0,   0,   0,   0,   0], dtype=int32),\n",
       "             '<start> A baby crawls at a playground . <end>': array([  3,   2,  48, 129,  21,   2, 262,   4,   0,   0,   0,   0,   0,\n",
       "                      0,   0,   0,   0,   0,   0,   0,   0,   0,   0], dtype=int32),\n",
       "             '<start> A baby in a baseball shirt crawls through a tube . <end>': array([  3,   2,  48,   5,   2, 263,  25, 129,  69,   2,  83,   4,   0,\n",
       "                      0,   0,   0,   0,   0,   0,   0,   0,   0,   0], dtype=int32),\n",
       "             '<start> A baby smiling for the camera . <end>': array([ 3,  2, 48, 43, 32,  6, 35,  4,  0,  0,  0,  0,  0,  0,  0,  0,  0,\n",
       "                     0,  0,  0,  0,  0,  0], dtype=int32),\n",
       "             '<start> A small baby at a park in a tube . <end>': array([  3,   2, 114,  48,  21,   2,  65,   5,   2,  83,   4,   0,   0,\n",
       "                      0,   0,   0,   0,   0,   0,   0,   0,   0,   0], dtype=int32),\n",
       "             '<start> A young boy looks through a tube . <end>': array([  3,   2,  18,  15, 101,  69,   2,  83,   4,   0,   0,   0,   0,\n",
       "                      0,   0,   0,   0,   0,   0,   0,   0,   0,   0], dtype=int32),\n",
       "             '<start> A girl in a black outfir is standing with 2 pug dogs <end>': array([  3,   2,  13,   5,   2,  20, 264,  10,  45,   9, 265, 130,  30,\n",
       "                      4,   0,   0,   0,   0,   0,   0,   0,   0,   0], dtype=int32),\n",
       "             '<start> A person stands with two leashed pugs and wears plaid pants with a black shirt set . <end>': array([  3,   2, 266,  50,   9,  16, 267, 268,   7,  92, 269, 270,   9,\n",
       "                      2,  20,  25, 271,   4,   0,   0,   0,   0,   0], dtype=int32),\n",
       "             '<start> A woman with a Mohawk holds the leash for two smaller pug dogs . <end>': array([  3,   2,  12,   9,   2, 272,  67,   6, 273,  32,  16, 274, 130,\n",
       "                     30,   4,   0,   0,   0,   0,   0,   0,   0,   0], dtype=int32),\n",
       "             '<start> A woman with colorful hair walks two dogs . <end>': array([  3,   2,  12,   9, 275,  36, 276,  16,  30,   4,   0,   0,   0,\n",
       "                      0,   0,   0,   0,   0,   0,   0,   0,   0,   0], dtype=int32),\n",
       "             '<start> A woman with purple hair has two dogs on leashes . <end>': array([  3,   2,  12,   9, 277,  36,  80,  16,  30,  11, 278,   4,   0,\n",
       "                      0,   0,   0,   0,   0,   0,   0,   0,   0,   0], dtype=int32),\n",
       "             '<start> A blond woman with her hand on the throat of a blond girl . <end>': array([  3,   2,  84,  12,   9,  37, 279,  11,   6, 280,  14,   2,  84,\n",
       "                     13,   4,   0,   0,   0,   0,   0,   0,   0,   0], dtype=int32),\n",
       "             '<start> A mother is asking her daughter to make a nice face for the camera . <end>': array([  3,   2, 281,  10, 282,  37, 283,  17, 284,   2, 285,  71,  32,\n",
       "                      6,  35,   4,   0,   0,   0,   0,   0,   0,   0], dtype=int32),\n",
       "             '<start> There are two blond hair women in the picture with one pretending to choke the other . <end>': array([  3, 286,  24,  16,  84,  36,  85,   5,   6, 103,   9,  73, 287,\n",
       "                     17, 288,   6,  47,   4,   0,   0,   0,   0,   0], dtype=int32),\n",
       "             '<start> Two blonde women , one in glasses . <end>': array([  3,  16, 289,  85,  73,   5, 125,   4,   0,   0,   0,   0,   0,\n",
       "                      0,   0,   0,   0,   0,   0,   0,   0,   0,   0], dtype=int32),\n",
       "             '<start> Two women joking around are caught on camera . <end>': array([  3,  16,  85, 290, 108,  24, 291,  11,  35,   4,   0,   0,   0,\n",
       "                      0,   0,   0,   0,   0,   0,   0,   0,   0,   0], dtype=int32),\n",
       "             '<start> A boy getting ready as the man wearing all black straps him into a black harness to climb the wall . <end>': array([  3,   2,  15, 131, 132,  70,   6,   8,  22, 292,  20, 293, 109,\n",
       "                    294,   2,  20, 133,  17,  86,   6,  40,   4,   0], dtype=int32),\n",
       "             '<start> A man and a boy preparing to go up a climbing wall . <end>': array([  3,   2,   8,   7,   2,  15, 295,  17, 296,  62,   2, 134,  40,\n",
       "                      4,   0,   0,   0,   0,   0,   0,   0,   0,   0], dtype=int32),\n",
       "             \"<start> A man holds a rope for a boy who 's about to climb a wall . <end>\": array([  3,   2,   8,  67,   2, 297,  32,   2,  15, 298, 106, 299,  17,\n",
       "                     86,   2,  40,   4,   0,   0,   0,   0,   0,   0], dtype=int32),\n",
       "             '<start> A man prepares a safety harness for a boy standing before a rock climbing wall . <end>': array([  3,   2,   8, 300,   2, 301, 133,  32,   2,  15,  45, 302,   2,\n",
       "                    135, 134,  40,   4,   0,   0,   0,   0,   0,   0], dtype=int32),\n",
       "             '<start> A young boy is getting harnessed and ready to climb a manmade rock wall . <end>': array([  3,   2,  18,  15,  10, 131, 303,   7, 132,  17,  86,   2, 304,\n",
       "                    135,  40,   4,   0,   0,   0,   0,   0,   0,   0], dtype=int32),\n",
       "             '<start> A man is talking to a mounted policeman outside a stadium . <end>': array([  3,   2,   8,  10, 305,  17,   2, 136,  87,  81,   2, 306,   4,\n",
       "                      0,   0,   0,   0,   0,   0,   0,   0,   0,   0], dtype=int32),\n",
       "             '<start> A man talks to a mounted policeman . <end>': array([  3,   2,   8, 307,  17,   2, 136,  87,   4,   0,   0,   0,   0,\n",
       "                      0,   0,   0,   0,   0,   0,   0,   0,   0,   0], dtype=int32),\n",
       "             '<start> A policeman on a horse surrounded by on-lookers . <end>': array([  3,   2,  87,  11,   2,  88, 308, 118,  11, 309,   4,   0,   0,\n",
       "                      0,   0,   0,   0,   0,   0,   0,   0,   0,   0], dtype=int32),\n",
       "             '<start> A police officer on a horse stands in front of a red brick , multistory building . <end>': array([  3,   2, 137, 310,  11,   2,  88,  50,   5,  66,  14,   2,  19,\n",
       "                    124, 311, 126,   4,   0,   0,   0,   0,   0,   0], dtype=int32),\n",
       "             '<start> A police woman riding on a brown horse next to a man in a black jacket . <end>': array([  3,   2, 137,  12, 113,  11,   2, 312,  88,  39,  17,   2,   8,\n",
       "                      5,   2,  20, 313,   4,   0,   0,   0,   0,   0], dtype=int32),\n",
       "             '<start> Two Dobermans fighting or playing together on a lawn . <end>': array([  3,  16, 314, 138, 315,  26, 139,  11,   2, 316,   4,   0,   0,\n",
       "                      0,   0,   0,   0,   0,   0,   0,   0,   0,   0], dtype=int32),\n",
       "             '<start> Two dogs fight on the grass . <end>': array([  3,  16,  30, 317,  11,   6, 140,   4,   0,   0,   0,   0,   0,\n",
       "                      0,   0,   0,   0,   0,   0,   0,   0,   0,   0], dtype=int32),\n",
       "             '<start> two dogs play together . <end>': array([  3,  16,  30, 318, 139,   4,   0,   0,   0,   0,   0,   0,   0,\n",
       "                      0,   0,   0,   0,   0,   0,   0,   0,   0,   0], dtype=int32),\n",
       "             '<start> Two dogs wrestle in the grass . <end>': array([  3,  16,  30, 319,   5,   6, 140,   4,   0,   0,   0,   0,   0,\n",
       "                      0,   0,   0,   0,   0,   0,   0,   0,   0,   0], dtype=int32),\n",
       "             '<start> Two large dogs are fighting with teeth bared near some trees . <end>': array([  3,  16,  53,  30,  24, 138,   9, 320, 321, 322, 323, 324,   4,\n",
       "                      0,   0,   0,   0,   0,   0,   0,   0,   0,   0], dtype=int32),\n",
       "             '<start> A child in a bright blue sweatshirt playing in the woods with a red wagon . <end>': array([  3,   2,  33,   5,   2, 325,  58, 141,  26,   5,   6, 326,   9,\n",
       "                      2,  19,  59,   4,   0,   0,   0,   0,   0,   0], dtype=int32),\n",
       "             '<start> A child wearing a blue sweatshirt makes a funny face standing next to a wagon . <end>': array([  3,   2,  33,  22,   2,  58, 141, 327,   2, 328,  71,  45,  39,\n",
       "                     17,   2,  59,   4,   0,   0,   0,   0,   0,   0], dtype=int32),\n",
       "             '<start> A girl in a forest carries a metal bowl towards a red wagon . <end>': array([  3,   2,  13,   5,   2, 329, 330,   2, 110, 331, 332,   2,  19,\n",
       "                     59,   4,   0,   0,   0,   0,   0,   0,   0,   0], dtype=int32),\n",
       "             '<start> A kid playing outside with a wagon . <end>': array([  3,   2, 128,  26,  81,   9,   2,  59,   4,   0,   0,   0,   0,\n",
       "                      0,   0,   0,   0,   0,   0,   0,   0,   0,   0], dtype=int32),\n",
       "             '<start> A young boy is playing in the yard . <end>': array([  3,   2,  18,  15,  10,  26,   5,   6, 333,   4,   0,   0,   0,\n",
       "                      0,   0,   0,   0,   0,   0,   0,   0,   0,   0], dtype=int32)})"
      ]
     },
     "execution_count": 20,
     "metadata": {},
     "output_type": "execute_result"
    }
   ],
   "source": [
    "cap_to_cap_vector"
   ]
  },
  {
   "cell_type": "code",
   "execution_count": 21,
   "metadata": {
    "ExecuteTime": {
     "end_time": "2021-12-05T15:59:52.326900Z",
     "start_time": "2021-12-05T15:59:52.324860Z"
    }
   },
   "outputs": [],
   "source": [
    "# #### TEST - CHK & REMOVE LATER\n",
    "\n",
    "# # testwords = test['caption'].cat(sep=\"--\")\n",
    "# # testwords\n",
    "# test = df.head()\n",
    "# test['caption'] = test['caption'].str.replace(r'\\?|\\.|\\'', ' ').str.lower()\n",
    "# list_of_words = ' '.join(test['caption']).split()\n",
    "# print(list_of_words)\n",
    "# print(list(set(list_of_words)))\n",
    "\n",
    "# # from collections import Counter\n",
    "# # counts = Counter(list_of_words)\n",
    "# # print(counts)\n",
    "\n",
    "# most_freq_words = [word for word,cnt in counts.most_common(10)]\n",
    "# print(most_freq_words)\n",
    "\n",
    "\n",
    "# # from nltk.tokenize import word_tokenize\n",
    "\n",
    "# # # Get the list of unique words to create the vocabulary\n",
    "# # # words = df.apply(lambda row: word_tokenize(row['caption']), axis=1)\n",
    "# # all_captions = df['caption'].str.replace(r'\\?|\\.|\\'', ' ').str.lower()\n",
    "# # all_words = ' '.join(all_captions).split()\n",
    "# # vocab = list(set(all_words)) \n",
    "# # print(f'all words length:{len(all_words)}')\n",
    "# # print(f'vocab length:{len(vocab)}')\n",
    "\n",
    "# # # Get the top 5000 frequently occuring words from this vocabulary\n",
    "# # VOCAB_LENGTH = 5000\n",
    "# # from collections import Counter\n",
    "# # vocab_count = Counter(all_words)\n",
    "# # most_freq_words = [word for word,cnt in vocab_count.most_common(VOCAB_LENGTH)]\n",
    "# # #print(len(most_freq_words))\n",
    "# # print(f'most frequently occuring words:{len(most_freq_words)}')"
   ]
  },
  {
   "cell_type": "code",
   "execution_count": 22,
   "metadata": {
    "ExecuteTime": {
     "end_time": "2021-12-05T15:59:52.329562Z",
     "start_time": "2021-12-05T15:59:52.327895Z"
    }
   },
   "outputs": [],
   "source": [
    "# # create the tokenizer\n",
    "\n",
    "# # # Replace captions with UNK if word is not in the frequent words list\n",
    " \n",
    "# # Get the top 5000 frequently occuring words from this vocabulary\n",
    "# VOCAB_LENGTH = 5000\n",
    "# tokenizer = tf.keras.preprocessing.text.Tokenizer(num_words=VOCAB_LENGTH,\n",
    "#                                                   oov_token=\"<UNK>\",\n",
    "#                                                   filters='!\"#$%&()*+.,-/:;=?@[\\]^_`{|}~')\n",
    "# tokenizer.fit_on_texts(df['caption'])    \n",
    "    \n",
    "# # Add the <pad> tag to the vocabulary\n",
    "# tokenizer.word_index['<pad>'] = 0\n",
    "# tokenizer.index_word[0] = '<pad>'\n",
    "\n",
    "\n",
    "# # Create the tokenized vectors\n",
    "# caption_seqs = tokenizer.texts_to_sequences(df['caption'])\n",
    "\n",
    "\n",
    "# # Pad all sequences to be the same length as the longest one\n",
    "# captions_vector = tf.keras.preprocessing.sequence.pad_sequences(caption_seqs, padding='post')\n",
    "\n",
    "\n",
    "# # # Calculates the max_length, which is used to store the attention weights\n",
    "# max_length = calc_max_length(caption_seqs)\n",
    "\n",
    "\n",
    "# print(f'Total no. of captions      = {len(caption_seqs)}')\n",
    "# print(f'Total no. of token words   = {len(tokenizer.word_index) + 1}')\n",
    "# print(f'Vocab length for tokenizer = {VOCAB_LENGTH}')\n",
    "# print(f'Maximum caption length     = {max_length}')"
   ]
  },
  {
   "cell_type": "code",
   "execution_count": 23,
   "metadata": {
    "ExecuteTime": {
     "end_time": "2021-12-05T15:59:52.331630Z",
     "start_time": "2021-12-05T15:59:52.330196Z"
    }
   },
   "outputs": [],
   "source": [
    "# Create word-to-index and index-to-word mappings.\n",
    "# Add index to each word and create the captions column with index values \n",
    "\n",
    "#your code here"
   ]
  },
  {
   "cell_type": "markdown",
   "metadata": {},
   "source": [
    "### Visualize top-30 words"
   ]
  },
  {
   "cell_type": "code",
   "execution_count": 24,
   "metadata": {
    "ExecuteTime": {
     "end_time": "2021-12-05T15:59:52.337613Z",
     "start_time": "2021-12-05T15:59:52.332404Z"
    }
   },
   "outputs": [
    {
     "data": {
      "text/html": [
       "<div>\n",
       "<style scoped>\n",
       "    .dataframe tbody tr th:only-of-type {\n",
       "        vertical-align: middle;\n",
       "    }\n",
       "\n",
       "    .dataframe tbody tr th {\n",
       "        vertical-align: top;\n",
       "    }\n",
       "\n",
       "    .dataframe thead th {\n",
       "        text-align: right;\n",
       "    }\n",
       "</style>\n",
       "<table border=\"1\" class=\"dataframe\">\n",
       "  <thead>\n",
       "    <tr style=\"text-align: right;\">\n",
       "      <th></th>\n",
       "      <th>word</th>\n",
       "      <th>frequency</th>\n",
       "    </tr>\n",
       "  </thead>\n",
       "  <tbody>\n",
       "    <tr>\n",
       "      <th>0</th>\n",
       "      <td>a</td>\n",
       "      <td>191</td>\n",
       "    </tr>\n",
       "    <tr>\n",
       "      <th>1</th>\n",
       "      <td>&lt;start&gt;</td>\n",
       "      <td>100</td>\n",
       "    </tr>\n",
       "    <tr>\n",
       "      <th>2</th>\n",
       "      <td>&lt;end&gt;</td>\n",
       "      <td>100</td>\n",
       "    </tr>\n",
       "    <tr>\n",
       "      <th>3</th>\n",
       "      <td>in</td>\n",
       "      <td>50</td>\n",
       "    </tr>\n",
       "    <tr>\n",
       "      <th>4</th>\n",
       "      <td>the</td>\n",
       "      <td>31</td>\n",
       "    </tr>\n",
       "    <tr>\n",
       "      <th>5</th>\n",
       "      <td>and</td>\n",
       "      <td>30</td>\n",
       "    </tr>\n",
       "    <tr>\n",
       "      <th>6</th>\n",
       "      <td>man</td>\n",
       "      <td>28</td>\n",
       "    </tr>\n",
       "    <tr>\n",
       "      <th>7</th>\n",
       "      <td>with</td>\n",
       "      <td>26</td>\n",
       "    </tr>\n",
       "    <tr>\n",
       "      <th>8</th>\n",
       "      <td>is</td>\n",
       "      <td>23</td>\n",
       "    </tr>\n",
       "    <tr>\n",
       "      <th>9</th>\n",
       "      <td>on</td>\n",
       "      <td>20</td>\n",
       "    </tr>\n",
       "    <tr>\n",
       "      <th>10</th>\n",
       "      <td>woman</td>\n",
       "      <td>19</td>\n",
       "    </tr>\n",
       "    <tr>\n",
       "      <th>11</th>\n",
       "      <td>girl</td>\n",
       "      <td>17</td>\n",
       "    </tr>\n",
       "    <tr>\n",
       "      <th>12</th>\n",
       "      <td>of</td>\n",
       "      <td>16</td>\n",
       "    </tr>\n",
       "    <tr>\n",
       "      <th>13</th>\n",
       "      <td>boy</td>\n",
       "      <td>16</td>\n",
       "    </tr>\n",
       "    <tr>\n",
       "      <th>14</th>\n",
       "      <td>two</td>\n",
       "      <td>16</td>\n",
       "    </tr>\n",
       "    <tr>\n",
       "      <th>15</th>\n",
       "      <td>to</td>\n",
       "      <td>15</td>\n",
       "    </tr>\n",
       "    <tr>\n",
       "      <th>16</th>\n",
       "      <td>young</td>\n",
       "      <td>12</td>\n",
       "    </tr>\n",
       "    <tr>\n",
       "      <th>17</th>\n",
       "      <td>red</td>\n",
       "      <td>11</td>\n",
       "    </tr>\n",
       "    <tr>\n",
       "      <th>18</th>\n",
       "      <td>black</td>\n",
       "      <td>11</td>\n",
       "    </tr>\n",
       "    <tr>\n",
       "      <th>19</th>\n",
       "      <td>at</td>\n",
       "      <td>9</td>\n",
       "    </tr>\n",
       "    <tr>\n",
       "      <th>20</th>\n",
       "      <td>wearing</td>\n",
       "      <td>9</td>\n",
       "    </tr>\n",
       "    <tr>\n",
       "      <th>21</th>\n",
       "      <td>white</td>\n",
       "      <td>9</td>\n",
       "    </tr>\n",
       "    <tr>\n",
       "      <th>22</th>\n",
       "      <td>are</td>\n",
       "      <td>8</td>\n",
       "    </tr>\n",
       "    <tr>\n",
       "      <th>23</th>\n",
       "      <td>shirt</td>\n",
       "      <td>8</td>\n",
       "    </tr>\n",
       "    <tr>\n",
       "      <th>24</th>\n",
       "      <td>playing</td>\n",
       "      <td>8</td>\n",
       "    </tr>\n",
       "    <tr>\n",
       "      <th>25</th>\n",
       "      <td>little</td>\n",
       "      <td>8</td>\n",
       "    </tr>\n",
       "    <tr>\n",
       "      <th>26</th>\n",
       "      <td>sitting</td>\n",
       "      <td>8</td>\n",
       "    </tr>\n",
       "    <tr>\n",
       "      <th>27</th>\n",
       "      <td>puddle</td>\n",
       "      <td>8</td>\n",
       "    </tr>\n",
       "    <tr>\n",
       "      <th>28</th>\n",
       "      <td>dogs</td>\n",
       "      <td>8</td>\n",
       "    </tr>\n",
       "    <tr>\n",
       "      <th>29</th>\n",
       "      <td>while</td>\n",
       "      <td>7</td>\n",
       "    </tr>\n",
       "  </tbody>\n",
       "</table>\n",
       "</div>"
      ],
      "text/plain": [
       "       word  frequency\n",
       "0         a        191\n",
       "1   <start>        100\n",
       "2     <end>        100\n",
       "3        in         50\n",
       "4       the         31\n",
       "5       and         30\n",
       "6       man         28\n",
       "7      with         26\n",
       "8        is         23\n",
       "9        on         20\n",
       "10    woman         19\n",
       "11     girl         17\n",
       "12       of         16\n",
       "13      boy         16\n",
       "14      two         16\n",
       "15       to         15\n",
       "16    young         12\n",
       "17      red         11\n",
       "18    black         11\n",
       "19       at          9\n",
       "20  wearing          9\n",
       "21    white          9\n",
       "22      are          8\n",
       "23    shirt          8\n",
       "24  playing          8\n",
       "25   little          8\n",
       "26  sitting          8\n",
       "27   puddle          8\n",
       "28     dogs          8\n",
       "29    while          7"
      ]
     },
     "metadata": {},
     "output_type": "display_data"
    }
   ],
   "source": [
    "sort_orders = sorted(tokenizer.word_counts.items(), key=lambda x: x[1], reverse=True)\n",
    "common_words = [{\"word\":i[0], \"frequency\":i[1]} for i in sort_orders]\n",
    "common_words_df = pd.DataFrame(common_words)\n",
    "display(common_words_df.head(30)) "
   ]
  },
  {
   "cell_type": "code",
   "execution_count": 25,
   "metadata": {
    "ExecuteTime": {
     "end_time": "2021-12-05T15:59:52.477004Z",
     "start_time": "2021-12-05T15:59:52.338532Z"
    }
   },
   "outputs": [
    {
     "data": {
      "image/png": "[encoded data removed]",
      "text/plain": [
       "<Figure size 1152x576 with 1 Axes>"
      ]
     },
     "metadata": {
      "needs_background": "light"
     },
     "output_type": "display_data"
    }
   ],
   "source": [
    "import seaborn as sns\n",
    "import matplotlib.pyplot as plt\n",
    "fig, ax = plt.subplots(figsize=(16, 8))\n",
    "sns.set_theme(style=\"darkgrid\")\n",
    "sns.barplot(x=\"word\", y = 'frequency', data = common_words_df.head(30))\n",
    "plt.xlabel(\"Words\")\n",
    "plt.ylabel(\"Frequency\")\n",
    "plt.title(\"Frequently Occuring Words\") # You can comment this line out if you don't need title\n",
    "plt.show()"
   ]
  },
  {
   "cell_type": "code",
   "execution_count": null,
   "metadata": {},
   "outputs": [],
   "source": []
  },
  {
   "cell_type": "markdown",
   "metadata": {},
   "source": [
    "## Pre-processing Images"
   ]
  },
  {
   "cell_type": "markdown",
   "metadata": {
    "ExecuteTime": {
     "end_time": "2021-12-03T14:23:52.617065Z",
     "start_time": "2021-12-03T14:23:52.608624Z"
    }
   },
   "source": [
    "\n",
    "1.Resize them into the shape of (299, 299)\n",
    "\n",
    "3.Normalize the image within the range of -1 to 1, such that it is in correct format for InceptionV3. "
   ]
  },
  {
   "cell_type": "markdown",
   "metadata": {},
   "source": [
    "<b> FAQs on how to resize the images::</b>\n",
    "* Since you have a list which contains all the image path, you need to first convert them to a dataset using <i>tf.data.Dataset.from_tensor_slices</i>. Once you have created a dataset consisting of image paths, you need to apply a function to the dataset which will apply the necessary preprocessing to each image. \n",
    "* This function should resize them and also should do the necessary preprocessing that it is in correct format for InceptionV3.\n"
   ]
  },
  {
   "cell_type": "code",
   "execution_count": 26,
   "metadata": {
    "ExecuteTime": {
     "end_time": "2021-12-05T15:59:52.479469Z",
     "start_time": "2021-12-05T15:59:52.478035Z"
    }
   },
   "outputs": [],
   "source": [
    "#write your code here to create the dataset consisting of image paths"
   ]
  },
  {
   "cell_type": "code",
   "execution_count": 27,
   "metadata": {
    "ExecuteTime": {
     "end_time": "2021-12-05T15:59:52.482709Z",
     "start_time": "2021-12-05T15:59:52.480501Z"
    }
   },
   "outputs": [],
   "source": [
    "# Load an image from the path and preprocess it for InceptionV3\n",
    "def load_image(image_path):\n",
    "    #write your pre-processing steps here\n",
    "    img = tf.io.read_file(image_path)\n",
    "    img = tf.io.decode_jpeg(img, channels=3)\n",
    "    img = tf.image.resize(img, (299, 299))\n",
    "    # Preprocess the images using the preprocess_input method to normalize the image so that it \n",
    "    # contains pixels in the range of -1 to 1, which matches the format of the images used to train InceptionV3.\n",
    "    img = tf.keras.applications.inception_v3.preprocess_input(img)\n",
    "    return img, image_path"
   ]
  },
  {
   "cell_type": "markdown",
   "metadata": {},
   "source": [
    "# STORE PRETRAINED MODEL WEIGHTS"
   ]
  },
  {
   "cell_type": "markdown",
   "metadata": {},
   "source": [
    "## Load all images using tf data"
   ]
  },
  {
   "cell_type": "code",
   "execution_count": 28,
   "metadata": {
    "ExecuteTime": {
     "end_time": "2021-12-05T15:59:52.523443Z",
     "start_time": "2021-12-05T15:59:52.486757Z"
    }
   },
   "outputs": [],
   "source": [
    "# Load dataset and apply the preprocessing to each image\n",
    "\n",
    "# Get unique image paths\n",
    "img_paths = sorted(df['path'].unique())\n",
    "\n",
    "\n",
    "image_dataset = tf.data.Dataset.from_tensor_slices(img_paths)\n",
    "image_dataset = image_dataset.map(\n",
    "  load_image, num_parallel_calls=tf.data.AUTOTUNE).batch(BATCH_SIZE)\n",
    "    \n",
    "\n"
   ]
  },
  {
   "cell_type": "markdown",
   "metadata": {},
   "source": [
    "## Create an InceptionV3 model"
   ]
  },
  {
   "cell_type": "code",
   "execution_count": 29,
   "metadata": {
    "ExecuteTime": {
     "end_time": "2021-12-05T15:59:53.355008Z",
     "start_time": "2021-12-05T15:59:52.524399Z"
    }
   },
   "outputs": [],
   "source": [
    "image_model = tf.keras.applications.InceptionV3(include_top=False,weights='imagenet')\n",
    "\n",
    "new_input = image_model.input\n",
    "hidden_layer = image_model.layers[-1].output\n",
    "\n",
    "#build the final model using both input & output layer\n",
    "image_features_extract_model = tf.keras.Model(new_input, hidden_layer)\n"
   ]
  },
  {
   "cell_type": "markdown",
   "metadata": {},
   "source": [
    "## Load the pretrained Imagenet weights of Inception net V3\n",
    "\n",
    "1.To save the memory(RAM) from getting exhausted, extract the features of the images using the last layer of pre-trained model. Including this as part of training will lead to higher computational time.\n",
    "\n",
    "2.The shape of the output of this layer is 8x8x2048. \n",
    "\n",
    "3.Use a function to extract the features of each image in the train & test dataset such that the shape of each image should be (batch_size, 8*8, 2048)\n",
    "\n"
   ]
  },
  {
   "cell_type": "code",
   "execution_count": 30,
   "metadata": {
    "ExecuteTime": {
     "end_time": "2021-12-05T15:59:53.357932Z",
     "start_time": "2021-12-05T15:59:53.355694Z"
    }
   },
   "outputs": [],
   "source": [
    "# Apply the InceptionV3 model on each image & resize it.\n",
    "# Save the features for each image to be used later for training\n",
    "\n",
    "if(CREATE_FEATURE_NUMPY_FILE):\n",
    "    for imgs,paths in image_dataset:\n",
    "        batch_features = image_features_extract_model(imgs)\n",
    "        # batch_features.shape = (16, 8, 8, 2048) \n",
    "        # Reshape feature to (batch_size, 8*8, 2048)\n",
    "        batch_features = tf.reshape(batch_features,\n",
    "                                  (batch_features.shape[0], -1, batch_features.shape[3]))\n",
    "        # Creates a .npy file for each image which has the features extracted from InceptionV3 for that image\n",
    "        for bf, p in zip(batch_features, paths):\n",
    "            path_of_feature = p.numpy().decode(\"utf-8\")\n",
    "            np.save(path_of_feature, bf.numpy())\n",
    " "
   ]
  },
  {
   "cell_type": "markdown",
   "metadata": {},
   "source": [
    "<b> FAQs on how to store the features: </b>\n",
    "* You can store the features using a dictionary with the path as the key and values as the feature extracted by the inception net v3 model OR\n",
    "* You can store using numpy(np.save) to store the resulting vector."
   ]
  },
  {
   "cell_type": "markdown",
   "metadata": {},
   "source": [
    "# PREPARE DATASET"
   ]
  },
  {
   "cell_type": "markdown",
   "metadata": {},
   "source": [
    "\n",
    "1. Apply train_test_split on both image path & captions to create the train & test list. Create the train-test spliit using 80-20 ratio & random state = 42\n",
    "\n",
    "2. Create a function which maps the image path to their feature. \n",
    "\n",
    "3. Create a builder function to create train & test dataset & apply the function to transform the dataset  \n",
    "a. Make sure you have done Shuffle and batch while building the dataset   \n",
    "b. The shape of each image in the dataset after building should be (batch_size, 8*8, 2048)   \n",
    "c. The shape of each caption in the dataset after building should be(batch_size, max_len)\n"
   ]
  },
  {
   "cell_type": "markdown",
   "metadata": {},
   "source": [
    "## Train/Test Split"
   ]
  },
  {
   "cell_type": "markdown",
   "metadata": {},
   "source": [
    "Apply train_test_split on both image path & captions to create the train & test list. Create the train-test spliit using 80-20 ratio & random state = 42"
   ]
  },
  {
   "cell_type": "code",
   "execution_count": 31,
   "metadata": {
    "ExecuteTime": {
     "end_time": "2021-12-05T15:59:53.360906Z",
     "start_time": "2021-12-05T15:59:53.358487Z"
    }
   },
   "outputs": [],
   "source": [
    "path_train, path_test, cap_train_list, cap_test_list = train_test_split(\n",
    "                                                    #df[['filename','path']],\n",
    "                                                    df[['path']],\n",
    "                                                    df['caption'],\n",
    "                                                    test_size = 0.2, \n",
    "                                                    random_state = 42)\n",
    "\n",
    "\n"
   ]
  },
  {
   "cell_type": "code",
   "execution_count": null,
   "metadata": {
    "ExecuteTime": {
     "end_time": "2021-12-04T05:31:38.430196Z",
     "start_time": "2021-12-04T05:31:38.427844Z"
    }
   },
   "outputs": [],
   "source": []
  },
  {
   "cell_type": "code",
   "execution_count": 32,
   "metadata": {
    "ExecuteTime": {
     "end_time": "2021-12-05T15:59:53.363230Z",
     "start_time": "2021-12-05T15:59:53.361564Z"
    }
   },
   "outputs": [],
   "source": [
    "cap_train = []\n",
    "for caption in cap_train_list:\n",
    "    cap_train.append(cap_to_cap_vector[caption])\n",
    "    \n",
    "    \n",
    "cap_test = []\n",
    "for caption in cap_test_list:\n",
    "    cap_test.append(cap_to_cap_vector[caption])"
   ]
  },
  {
   "cell_type": "code",
   "execution_count": 33,
   "metadata": {
    "ExecuteTime": {
     "end_time": "2021-12-05T15:59:53.365740Z",
     "start_time": "2021-12-05T15:59:53.363775Z"
    }
   },
   "outputs": [
    {
     "name": "stdout",
     "output_type": "stream",
     "text": [
      "Training data for images: 80\n",
      "Testing data for images: 20\n",
      "Training data for Captions: 80\n",
      "Testing data for Captions: 20\n"
     ]
    }
   ],
   "source": [
    "print(\"Training data for images: \" + str(len(path_train)))\n",
    "print(\"Testing data for images: \" + str(len(path_test)))\n",
    "print(\"Training data for Captions: \" + str(len(cap_train)))\n",
    "print(\"Testing data for Captions: \" + str(len(cap_test)))"
   ]
  },
  {
   "cell_type": "markdown",
   "metadata": {},
   "source": []
  },
  {
   "cell_type": "markdown",
   "metadata": {},
   "source": [
    "## Builder function to load features"
   ]
  },
  {
   "cell_type": "code",
   "execution_count": 34,
   "metadata": {
    "ExecuteTime": {
     "end_time": "2021-12-05T15:59:53.368053Z",
     "start_time": "2021-12-05T15:59:53.366397Z"
    }
   },
   "outputs": [],
   "source": [
    "# Mapping function to load the InceptionV3 features for the given image path\n",
    "\n",
    "def map_func(img_name, cap):\n",
    "  img_tensor = np.load(img_name[0].numpy().decode('utf-8')+'.npy')\n",
    "  return img_tensor, cap"
   ]
  },
  {
   "cell_type": "code",
   "execution_count": 35,
   "metadata": {
    "ExecuteTime": {
     "end_time": "2021-12-05T15:59:53.371083Z",
     "start_time": "2021-12-05T15:59:53.368877Z"
    }
   },
   "outputs": [],
   "source": [
    "# This function should transform the created dataset(img_path,cap) to (features,cap) using the map_func \n",
    "\n",
    "def gen_dataset(img_path,cap_data):\n",
    "    img_dataset = tf.data.Dataset.from_tensor_slices((img_path,cap_data))\n",
    "    \n",
    "    img_dataset = img_dataset.map(lambda item1, item2: tf.py_function(\n",
    "          map_func, [item1, item2], [tf.float32, tf.int32]), ### NOTE: TO be changed to tf.int32 instead of tf.string?? after string-index mapping is implemented\n",
    "          num_parallel_calls=tf.data.AUTOTUNE)\n",
    "    # your code goes here to create the dataset & transform it\n",
    "    \n",
    "    # Shuffle and batch\n",
    "    img_dataset = img_dataset.shuffle(BUFFER_SIZE).batch(BATCH_SIZE)\n",
    "    img_dataset = img_dataset.prefetch(buffer_size=tf.data.AUTOTUNE)\n",
    "    \n",
    "    return img_dataset,cap_data\n",
    "\n"
   ]
  },
  {
   "cell_type": "code",
   "execution_count": 36,
   "metadata": {
    "ExecuteTime": {
     "end_time": "2021-12-05T15:59:53.388369Z",
     "start_time": "2021-12-05T15:59:53.371743Z"
    }
   },
   "outputs": [],
   "source": [
    "# Read the preprocessed train & test datasets\n",
    "train_dataset,cap_train_data=gen_dataset(path_train,cap_train)\n",
    "test_dataset,cap_test_data=gen_dataset(path_test,cap_test)"
   ]
  },
  {
   "cell_type": "code",
   "execution_count": 37,
   "metadata": {
    "ExecuteTime": {
     "end_time": "2021-12-05T15:59:53.435967Z",
     "start_time": "2021-12-05T15:59:53.389090Z"
    }
   },
   "outputs": [
    {
     "name": "stdout",
     "output_type": "stream",
     "text": [
      "(16, 64, 2048)\n",
      "(16, 23)\n"
     ]
    },
    {
     "name": "stderr",
     "output_type": "stream",
     "text": [
      "2021-12-05 21:29:53.392214: I tensorflow/compiler/mlir/mlir_graph_optimization_pass.cc:116] None of the MLIR optimization passes are enabled (registered 2)\n",
      "2021-12-05 21:29:53.392333: W tensorflow/core/platform/profile_utils/cpu_utils.cc:126] Failed to get CPU frequency: 0 Hz\n"
     ]
    }
   ],
   "source": [
    "# For verification\n",
    "sample_img_batch, sample_cap_batch = next(iter(train_dataset)) \n",
    "print(sample_img_batch.shape)  #(batch_size, 8*8, 2048)\n",
    "print(sample_cap_batch.shape) #(batch_size,max_len)"
   ]
  },
  {
   "cell_type": "code",
   "execution_count": null,
   "metadata": {},
   "outputs": [],
   "source": []
  },
  {
   "cell_type": "markdown",
   "metadata": {},
   "source": [
    "# MODEL BUILDING\n"
   ]
  },
  {
   "cell_type": "markdown",
   "metadata": {},
   "source": [
    "## Set Parameters"
   ]
  },
  {
   "cell_type": "code",
   "execution_count": 38,
   "metadata": {
    "ExecuteTime": {
     "end_time": "2021-12-05T15:59:53.438860Z",
     "start_time": "2021-12-05T15:59:53.436659Z"
    }
   },
   "outputs": [
    {
     "name": "stdout",
     "output_type": "stream",
     "text": [
      "Vocabulary size:5001\n",
      "No. of train batches:5\n",
      "No. of test batches:1\n"
     ]
    }
   ],
   "source": [
    "embedding_dim = 256 \n",
    "units = 512\n",
    "vocab_size = VOCAB_LENGTH + 1 #top 5,000 words +1\n",
    "train_num_batches = len(path_train) // BATCH_SIZE\n",
    "test_num_batches =  len(path_test) // BATCH_SIZE\n",
    "\n",
    "print(f'Vocabulary size:{vocab_size}')\n",
    "print(f'No. of train batches:{train_num_batches}')\n",
    "print(f'No. of test batches:{test_num_batches}')"
   ]
  },
  {
   "cell_type": "markdown",
   "metadata": {},
   "source": [
    "## Encoder"
   ]
  },
  {
   "cell_type": "markdown",
   "metadata": {},
   "source": [
    "CNN Encoder:  \n",
    "input image --> INCEPTIONV3 --> features --> FC DENSE LAYER (256) --> RELU --> encoder output (size: batch, 64, 256)"
   ]
  },
  {
   "cell_type": "code",
   "execution_count": 39,
   "metadata": {
    "ExecuteTime": {
     "end_time": "2021-12-05T15:59:53.447852Z",
     "start_time": "2021-12-05T15:59:53.439414Z"
    }
   },
   "outputs": [],
   "source": [
    "class Encoder(Model):\n",
    "    # Pass the features extracted from V3 inception through a fully connected dense layer  \n",
    "    def __init__(self,embed_dim):\n",
    "        super(Encoder, self).__init__()\n",
    "        self.dense = tf.keras.layers.Dense(embed_dim)\n",
    "        \n",
    "    def call(self, features): \n",
    "        # extract the features from the image shape: (batch, 8*8, embed_dim)\n",
    "        features =  self.dense(features) \n",
    "        features = tf.nn.relu(features)  \n",
    "        return features\n",
    "    "
   ]
  },
  {
   "cell_type": "code",
   "execution_count": 40,
   "metadata": {
    "ExecuteTime": {
     "end_time": "2021-12-05T15:59:53.468768Z",
     "start_time": "2021-12-05T15:59:53.448550Z"
    }
   },
   "outputs": [],
   "source": [
    "encoder=Encoder(embedding_dim)"
   ]
  },
  {
   "cell_type": "markdown",
   "metadata": {},
   "source": [
    "## Attention model"
   ]
  },
  {
   "cell_type": "markdown",
   "metadata": {},
   "source": [
    "(1) ATTENTION WEIGHTS\n",
    "\n",
    "(a)  \n",
    "&emsp;&emsp;    Encoder output  --> FC DENSE LAYER --> W1  \n",
    "&emsp;&emsp;    (Feature Vector)  \n",
    "&emsp;&emsp;    [INPUT 1: features]\n",
    "\n",
    "(b)    \n",
    "&emsp;&emsp;    RNN Hidden State --> FC DENSE LAYER --> W2  \n",
    "&emsp;&emsp;    [INPUT 2: hidden]\n",
    "\n",
    "(c)   \n",
    "&emsp;&emsp;    W1 SUM W2 --> tanh --> FC DENSE LAYER (V) --> SOFTMAX --> Attention Weights\n",
    "\n",
    "\n",
    "\n",
    "(2) CONTEXT VECTOR\n",
    "\n",
    "&emsp;&emsp;Context Vector = Attention Weights x Feature Map\n"
   ]
  },
  {
   "cell_type": "code",
   "execution_count": null,
   "metadata": {},
   "outputs": [],
   "source": []
  },
  {
   "cell_type": "code",
   "execution_count": 41,
   "metadata": {
    "ExecuteTime": {
     "end_time": "2021-12-05T15:59:53.472687Z",
     "start_time": "2021-12-05T15:59:53.469605Z"
    }
   },
   "outputs": [],
   "source": [
    "class Attention_model(Model):\n",
    "    def __init__(self, units):\n",
    "        super(Attention_model, self).__init__()\n",
    "        \n",
    "        # Build dense layer for encoder output (feature vector)\n",
    "        self.W1 = tf.keras.layers.Dense(units)\n",
    "        \n",
    "        # Build dense layer for RNN hidden layer\n",
    "        self.W2 = tf.keras.layers.Dense(units)\n",
    "        \n",
    "        # Build the dense layer to combine the output of W1 and W2\n",
    "        self.V = tf.keras.layers.Dense(1)  \n",
    "        \n",
    "        self.units=units\n",
    "\n",
    "    def call(self, features, hidden):\n",
    "        # input: features shape: (batch_size, 8*8, embedding_dim)\n",
    "        # input: hidden shape: (batch_size, hidden_size)\n",
    "        \n",
    "        # Expand the hidden shape to: (batch_size, 1, hidden_size)\n",
    "        hidden_with_time_axis =  tf.expand_dims(hidden, 1)\n",
    "         \n",
    "        # Build the score function to shape: (batch_size, 8*8, units)\n",
    "        # This gives an unnormalized score for each image feature.\n",
    "        score = self.V(tf.nn.tanh(self.W1(features) + self.W2(hidden_with_time_axis)))\n",
    "         \n",
    "        # Extract the normalized attention weights with shape: (batch_size, 8*8, 1)\n",
    "        attention_weights = tf.nn.softmax(score, axis=1) \n",
    "        \n",
    "        # Create the context vector with shape (batch_size, 8*8,embedding_dim)\n",
    "        context_vector =  attention_weights * features\n",
    "         \n",
    "        # Reduce the shape to (batch_size, embedding_dim)\n",
    "        context_vector = tf.reduce_sum(context_vector, axis=1)\n",
    "         \n",
    "        return context_vector, attention_weights"
   ]
  },
  {
   "cell_type": "markdown",
   "metadata": {},
   "source": [
    "## Decoder"
   ]
  },
  {
   "cell_type": "markdown",
   "metadata": {
    "ExecuteTime": {
     "end_time": "2021-12-03T06:43:29.124238Z",
     "start_time": "2021-12-03T06:43:29.115563Z"
    }
   },
   "source": [
    "RNN DECODER:  \n",
    "\n",
    "1.   \n",
    "Caption --> EMBEDDING LAYER --> Embedded Caption  \n",
    "\n",
    "\n",
    "2.  \n",
    "Image Features --> ATTENTION MODEL --> Context Vector\n",
    "    \n",
    "    \n",
    "3.  \n",
    "Embedded Caption CONCAT Context Vector --> GRU --> FC DENSE LAYER --> LOGITS DENSE LAYER --> Caption Output\n",
    "    "
   ]
  },
  {
   "cell_type": "markdown",
   "metadata": {},
   "source": []
  },
  {
   "cell_type": "code",
   "execution_count": 42,
   "metadata": {
    "ExecuteTime": {
     "end_time": "2021-12-05T15:59:53.477820Z",
     "start_time": "2021-12-05T15:59:53.473365Z"
    }
   },
   "outputs": [],
   "source": [
    "class Decoder(Model):\n",
    "    def __init__(self, embed_dim, units, vocab_size):\n",
    "        super(Decoder, self).__init__()\n",
    "        self.units=units\n",
    "        \n",
    "        # Initialize the Attention model\n",
    "        self.attention = Attention_model(self.units)\n",
    "        \n",
    "        # Build the embedding layer for the caption\n",
    "        self.embed = tf.keras.layers.Embedding(vocab_size, embed_dim)\n",
    "        \n",
    "        # Build the GRU for the RNN layer\n",
    "        self.gru = tf.keras.layers.GRU(self.units,\n",
    "                                       return_sequences=True,\n",
    "                                       return_state=True,\n",
    "                                       recurrent_initializer='glorot_uniform')\n",
    "        \n",
    "        # Build the fully connected dense layer\n",
    "        self.d1 = tf.keras.layers.Dense(self.units)\n",
    "        \n",
    "        # Build the final fully connected logits layer to make the caption prediction from the vocabulary \n",
    "        self.d2 = tf.keras.layers.Dense(vocab_size)\n",
    "        \n",
    "\n",
    "    #@tf.autograph.experimental.do_not_convert\n",
    "    def call(self,x,features, hidden):\n",
    "    \n",
    "        # Get the context vector & attention weights from the attention model\n",
    "        # features shape:(16, 64, 256), hidden shape:(16, 512)\n",
    "        # context_vector shape:(16, 256), attention_weights shape:(16, 64, 1)\n",
    "        context_vector, attention_weights = self.attention(features, hidden) \n",
    "        \n",
    "        # Embed the input caption word \n",
    "        # x shape after passing through embedding == (batch_size, 1, embedding_dim)\n",
    "        # x shape: (16,1), embed shape:(16, 1, 256)\n",
    "        embed =  self.embed(x) \n",
    "         \n",
    "        # Concatenate the embedded input word with the context vector from attention layer. \n",
    "        # Shape after concatenation: (batch_size, 1, embedding_dim + hidden_size)\n",
    "        # embed-concat shape:(16, 1, 512)\n",
    "        embed =  tf.concat([tf.expand_dims(context_vector, 1), embed], axis=-1) \n",
    "         \n",
    "        # Extract the output & hidden state from GRU layer. \n",
    "        # Output shape : (batch_size, max_length, hidden_size)\n",
    "        # output shape:(16, 1, 512)\n",
    "        output,state = self.gru(embed)\n",
    "        \n",
    "        # Pass the output through a fully connected dense layer\n",
    "        # shape == (batch_size, max_length, hidden_size)\n",
    "        # output shape d1:(16, 1, 512)\n",
    "        output = self.d1(output)\n",
    "         \n",
    "        # shape : (batch_size * max_length, hidden_size)\n",
    "        # output reshape:(16, 512)\n",
    "        output = tf.reshape(output, (-1, output.shape[2]))\n",
    "         \n",
    "        # Pass through the logits layer to get the final prediction\n",
    "        # shape : (batch_size * max_length, vocab_size)\n",
    "        # output shape d2:(16, 5001)\n",
    "        output = self.d2(output) \n",
    "         \n",
    "        return output,state, attention_weights\n",
    "    \n",
    "    def init_state(self, batch_size):\n",
    "        return tf.zeros((batch_size, self.units))\n",
    "    \n",
    "    "
   ]
  },
  {
   "cell_type": "code",
   "execution_count": 43,
   "metadata": {
    "ExecuteTime": {
     "end_time": "2021-12-05T15:59:53.487002Z",
     "start_time": "2021-12-05T15:59:53.478564Z"
    }
   },
   "outputs": [],
   "source": [
    "decoder=Decoder(embedding_dim, units, vocab_size)"
   ]
  },
  {
   "cell_type": "code",
   "execution_count": 44,
   "metadata": {
    "ExecuteTime": {
     "end_time": "2021-12-05T15:59:53.526306Z",
     "start_time": "2021-12-05T15:59:53.487621Z"
    }
   },
   "outputs": [
    {
     "name": "stdout",
     "output_type": "stream",
     "text": [
      "Feature shape from Encoder: (16, 64, 256)\n",
      "Predictions shape from Decoder: (16, 5001)\n",
      "Attention weights shape from Decoder: (16, 64, 1)\n"
     ]
    }
   ],
   "source": [
    "features=encoder(sample_img_batch)\n",
    "\n",
    "hidden = decoder.init_state(batch_size=sample_cap_batch.shape[0])\n",
    "dec_input = tf.expand_dims([tokenizer.word_index['<start>']] * sample_cap_batch.shape[0], 1)\n",
    "\n",
    "predictions, hidden_out, attention_weights= decoder(dec_input, features, hidden)\n",
    "print('Feature shape from Encoder: {}'.format(features.shape)) #(batch, 8*8, embed_dim)\n",
    "print('Predictions shape from Decoder: {}'.format(predictions.shape)) #(batch,vocab_size)\n",
    "print('Attention weights shape from Decoder: {}'.format(attention_weights.shape)) #(batch, 8*8, embed_dim)"
   ]
  },
  {
   "cell_type": "markdown",
   "metadata": {},
   "source": [
    "# MODEL TRAINING & OPTIMIZATION"
   ]
  },
  {
   "cell_type": "markdown",
   "metadata": {},
   "source": [
    "1.Set the optimizer & loss object\n",
    "\n",
    "2.Create the checkpoint path\n",
    "\n",
    "3.Create the training & testing step functions\n",
    "\n",
    "4.Create the loss function for the test dataset"
   ]
  },
  {
   "cell_type": "markdown",
   "metadata": {},
   "source": [
    "## Initialize variables & checkpoints"
   ]
  },
  {
   "cell_type": "code",
   "execution_count": 45,
   "metadata": {
    "ExecuteTime": {
     "end_time": "2021-12-05T15:59:53.528885Z",
     "start_time": "2021-12-05T15:59:53.526999Z"
    }
   },
   "outputs": [],
   "source": [
    "# Define the optimizer\n",
    "optimizer = tf.keras.optimizers.Adam()\n",
    "\n",
    "# Define the loss object\n",
    "loss_object = tf.keras.losses.SparseCategoricalCrossentropy(\n",
    "    from_logits=True, reduction='none')\n"
   ]
  },
  {
   "cell_type": "code",
   "execution_count": 46,
   "metadata": {
    "ExecuteTime": {
     "end_time": "2021-12-05T15:59:53.531480Z",
     "start_time": "2021-12-05T15:59:53.529529Z"
    }
   },
   "outputs": [],
   "source": [
    "# Define the loss function to ignore the padded characters\n",
    "def loss_function(real, pred):\n",
    "    mask = tf.math.logical_not(tf.math.equal(real, 0))\n",
    "    loss_ = loss_object(real, pred)\n",
    "\n",
    "    mask = tf.cast(mask, dtype=loss_.dtype)\n",
    "    loss_ *= mask\n",
    "\n",
    "    return tf.reduce_mean(loss_)"
   ]
  },
  {
   "cell_type": "code",
   "execution_count": 47,
   "metadata": {
    "ExecuteTime": {
     "end_time": "2021-12-05T15:59:53.534438Z",
     "start_time": "2021-12-05T15:59:53.532365Z"
    }
   },
   "outputs": [],
   "source": [
    "# Set the checkpoints to store intermediate results\n",
    "checkpoint_path = \"./checkpoints/train_chkpts\"\n",
    "ckpt = tf.train.Checkpoint(encoder=encoder,\n",
    "                           decoder=decoder,\n",
    "                           optimizer = optimizer)\n",
    "ckpt_manager = tf.train.CheckpointManager(ckpt, checkpoint_path, max_to_keep=5)"
   ]
  },
  {
   "cell_type": "code",
   "execution_count": 48,
   "metadata": {
    "ExecuteTime": {
     "end_time": "2021-12-05T15:59:53.537320Z",
     "start_time": "2021-12-05T15:59:53.535242Z"
    }
   },
   "outputs": [
    {
     "name": "stdout",
     "output_type": "stream",
     "text": [
      "Start epoch:0\n"
     ]
    }
   ],
   "source": [
    "start_epoch = 0\n",
    "if ckpt_manager.latest_checkpoint:\n",
    "    start_epoch = int(ckpt_manager.latest_checkpoint.split('-')[-1])\n",
    "    print(f'Restoring latest checkpoint:{ckpt_manager.latest_checkpoint}')\n",
    "    # restoring the latest checkpoint in checkpoint_path\n",
    "    ckpt.restore(ckpt_manager.latest_checkpoint)\n",
    "    \n",
    "    \n",
    "print(f'Start epoch:{start_epoch}')"
   ]
  },
  {
   "cell_type": "markdown",
   "metadata": {},
   "source": [
    "* While creating the training step for your model, you will apply Teacher forcing.\n",
    "* Teacher forcing is a technique where the target/real word is passed as the next input to the decoder instead of previous prediciton."
   ]
  },
  {
   "cell_type": "markdown",
   "metadata": {},
   "source": [
    "## Train step function - teacher forcing"
   ]
  },
  {
   "cell_type": "code",
   "execution_count": 49,
   "metadata": {
    "ExecuteTime": {
     "end_time": "2021-12-05T15:59:53.541018Z",
     "start_time": "2021-12-05T15:59:53.538043Z"
    }
   },
   "outputs": [],
   "source": [
    "# Create the training step function \n",
    "@tf.function\n",
    "def train_step(img_tensor, target):\n",
    "    loss = 0\n",
    "    \n",
    "    #print(f'Train step target: {target.shape}')\n",
    "    # target.shape = (16,39)\n",
    "    # initialize the hidden state for each batch as the captions are not related from image to image\n",
    "    hidden = decoder.init_state(batch_size=target.shape[0])\n",
    "    dec_input = tf.expand_dims([tokenizer.word_index['<start>']] * target.shape[0], 1)\n",
    "     \n",
    "    with tf.GradientTape() as tape: \n",
    "        features = encoder(img_tensor) \n",
    "        \n",
    "        for i in range(1, target.shape[1]):\n",
    "             \n",
    "        \n",
    "            # passing the features through the decoder\n",
    "            #print(f'before decoder - {i}')\n",
    "            predictions, hidden, _ = decoder(dec_input, features, hidden) \n",
    "            #print(f'after decoder - {i}')\n",
    "            loss += loss_function(target[:, i], predictions) \n",
    "\n",
    "            # using teacher forcing\n",
    "            dec_input = tf.expand_dims(target[:, i], 1)\n",
    "\n",
    "    avg_loss = (loss / int(target.shape[1]))\n",
    "\n",
    "    trainable_variables = encoder.trainable_variables + decoder.trainable_variables\n",
    "\n",
    "    gradients = tape.gradient(loss, trainable_variables)\n",
    "\n",
    "    optimizer.apply_gradients(zip(gradients, trainable_variables)) \n",
    "        \n",
    "    #print('end of train step')\n",
    "    return loss, avg_loss"
   ]
  },
  {
   "cell_type": "markdown",
   "metadata": {},
   "source": [
    "* While creating the test step for your model, you will pass your previous prediciton as the next input to the decoder."
   ]
  },
  {
   "cell_type": "markdown",
   "metadata": {},
   "source": [
    "## Test step function"
   ]
  },
  {
   "cell_type": "code",
   "execution_count": 50,
   "metadata": {
    "ExecuteTime": {
     "end_time": "2021-12-05T15:59:53.544384Z",
     "start_time": "2021-12-05T15:59:53.541706Z"
    }
   },
   "outputs": [],
   "source": [
    "# Test step function - actual prediction passed as input to the decoder.\n",
    "\n",
    "@tf.function\n",
    "def test_step(img_tensor, target):\n",
    "    loss = 0\n",
    "    \n",
    "    # target.shape = (16,39)\n",
    "    # initialize the hidden state for each batch as the captions are not related from image to image\n",
    "    hidden = decoder.init_state(batch_size=target.shape[0])\n",
    "    dec_input = tf.expand_dims([tokenizer.word_index['<start>']] * target.shape[0], 1)\n",
    "     \n",
    "    features = encoder(img_tensor)\n",
    "    for i in range(1, target.shape[1]):\n",
    "        # passing the features through the decoder\n",
    "        \n",
    "        predictions, hidden, _ = decoder(dec_input, features, hidden) \n",
    "\n",
    "        loss += loss_function(target[:, i], predictions)\n",
    "        predicted_id = tf.argmax(predictions[0])\n",
    "        dec_input = tf.expand_dims([predicted_id] * target.shape[0] , 1)\n",
    "\n",
    "    avg_loss = (loss / int(target.shape[1])) \n",
    "    return loss, avg_loss "
   ]
  },
  {
   "cell_type": "code",
   "execution_count": 51,
   "metadata": {
    "ExecuteTime": {
     "end_time": "2021-12-05T15:59:53.547609Z",
     "start_time": "2021-12-05T15:59:53.545119Z"
    }
   },
   "outputs": [],
   "source": [
    "def test_loss_cal(test_dataset):\n",
    "    print(f'TEST LOSS CALC')\n",
    "    total_loss = 0\n",
    "\n",
    "    #write your code to get the average loss result on your test data\n",
    "    for (batch, (img_tensor, target)) in enumerate(test_dataset): \n",
    "        print(f'batch:{batch}, target shape:{target.shape}')\n",
    "        total_batch_loss, avg_batch_loss = test_step(img_tensor, target)\n",
    "        print(f'total_batch_loss:{total_batch_loss}, avg_batch_loss:{avg_batch_loss}')\n",
    "        total_loss += avg_batch_loss \n",
    "        \n",
    "        \n",
    "        if batch % 500 == 0:\n",
    "            print(f'Test Loss: Batch: {batch}, '\\\n",
    "                  f'Total Batch Loss: {total_batch_loss:.4f}, Avg Batch Loss: {avg_batch_loss:.4f}, '\\\n",
    "                  f'Total Loss: {total_loss:.4f}')\n",
    "         \n",
    "    print(f'Test Loss: Batch: {batch}, Total Batch Loss: {total_batch_loss:.4f}, Avg Batch Loss: {avg_batch_loss:.4f}, Total Loss: {total_loss:.4f}')\n",
    "    avg_test_loss = total_loss/test_num_batches\n",
    "    return avg_test_loss"
   ]
  },
  {
   "cell_type": "markdown",
   "metadata": {
    "ExecuteTime": {
     "end_time": "2021-12-03T11:38:34.178987Z",
     "start_time": "2021-12-03T11:38:34.171610Z"
    }
   },
   "source": [
    "## Train the model"
   ]
  },
  {
   "cell_type": "code",
   "execution_count": null,
   "metadata": {
    "ExecuteTime": {
     "end_time": "2021-12-05T15:53:12.276718Z",
     "start_time": "2021-12-05T15:53:12.269068Z"
    }
   },
   "outputs": [],
   "source": []
  },
  {
   "cell_type": "code",
   "execution_count": 52,
   "metadata": {
    "ExecuteTime": {
     "end_time": "2021-12-05T15:59:53.549606Z",
     "start_time": "2021-12-05T15:59:53.548334Z"
    }
   },
   "outputs": [],
   "source": [
    "# loss_plot = []\n",
    "# test_loss_plot = []\n",
    "# EPOCHS = 3\n",
    "\n",
    "# for epoch in tqdm(range(start_epoch, start_epoch+EPOCHS)):\n",
    "#     print(f'EPOCH:{epoch}')\n",
    "#     avg_test_loss = test_loss_cal(test_dataset) \n",
    "    \n",
    "    \n"
   ]
  },
  {
   "cell_type": "code",
   "execution_count": null,
   "metadata": {},
   "outputs": [],
   "source": []
  },
  {
   "cell_type": "code",
   "execution_count": null,
   "metadata": {},
   "outputs": [],
   "source": []
  },
  {
   "cell_type": "code",
   "execution_count": null,
   "metadata": {},
   "outputs": [],
   "source": []
  },
  {
   "cell_type": "code",
   "execution_count": null,
   "metadata": {
    "ExecuteTime": {
     "start_time": "2021-12-05T15:59:49.889Z"
    },
    "scrolled": false
   },
   "outputs": [
    {
     "name": "stderr",
     "output_type": "stream",
     "text": [
      "\r",
      "  0%|                                                                            | 0/3 [00:00<?, ?it/s]"
     ]
    },
    {
     "name": "stdout",
     "output_type": "stream",
     "text": [
      "START OF EPOCH:1/3\n",
      "Before train step - batch: 0\n",
      "WARNING:tensorflow:AutoGraph could not transform <function train_step at 0x28043c550> and will run it as-is.\n",
      "Please report this to the TensorFlow team. When filing the bug, set the verbosity to 10 (on Linux, `export AUTOGRAPH_VERBOSITY=10`) and attach the full output.\n",
      "Cause: module 'gast' has no attribute 'Index'\n",
      "To silence this warning, decorate the function with @tf.autograph.experimental.do_not_convert\n",
      "WARNING: AutoGraph could not transform <function train_step at 0x28043c550> and will run it as-is.\n",
      "Please report this to the TensorFlow team. When filing the bug, set the verbosity to 10 (on Linux, `export AUTOGRAPH_VERBOSITY=10`) and attach the full output.\n",
      "Cause: module 'gast' has no attribute 'Index'\n",
      "To silence this warning, decorate the function with @tf.autograph.experimental.do_not_convert\n",
      "WARNING:tensorflow:AutoGraph could not transform <bound method Decoder.call of <__main__.Decoder object at 0x280172df0>> and will run it as-is.\n",
      "Please report this to the TensorFlow team. When filing the bug, set the verbosity to 10 (on Linux, `export AUTOGRAPH_VERBOSITY=10`) and attach the full output.\n",
      "Cause: module 'gast' has no attribute 'Index'\n",
      "To silence this warning, decorate the function with @tf.autograph.experimental.do_not_convert\n",
      "WARNING: AutoGraph could not transform <bound method Decoder.call of <__main__.Decoder object at 0x280172df0>> and will run it as-is.\n",
      "Please report this to the TensorFlow team. When filing the bug, set the verbosity to 10 (on Linux, `export AUTOGRAPH_VERBOSITY=10`) and attach the full output.\n",
      "Cause: module 'gast' has no attribute 'Index'\n",
      "To silence this warning, decorate the function with @tf.autograph.experimental.do_not_convert\n",
      "After train step - batch: 0\n",
      "Train Loss: Epoch: 1, Batch: 0, Total Batch Loss: 97.3732, Avg Batch Loss: 4.2336, Total Loss: 4.2336\n",
      "Before train step - batch: 1\n",
      "After train step - batch: 1\n",
      "Train Loss: Epoch: 1, Batch: 1, Total Batch Loss: 102.6990, Avg Batch Loss: 4.4652, Total Loss: 8.6988\n",
      "Before train step - batch: 2\n",
      "After train step - batch: 2\n",
      "Train Loss: Epoch: 1, Batch: 2, Total Batch Loss: 98.5790, Avg Batch Loss: 4.2860, Total Loss: 12.9848\n",
      "Before train step - batch: 3\n",
      "After train step - batch: 3\n",
      "Train Loss: Epoch: 1, Batch: 3, Total Batch Loss: 71.6800, Avg Batch Loss: 3.1165, Total Loss: 16.1014\n",
      "Before train step - batch: 4\n",
      "After train step - batch: 4\n",
      "Train Loss: Epoch: 1, Batch: 4, Total Batch Loss: 84.3402, Avg Batch Loss: 3.6670, Total Loss: 19.7683\n",
      "Training completed for Epoch: 1, Batch: 4,  Total Loss: 19.7683,  Avg Train Loss: 3.9537, - 12.03 sec\n",
      "TEST LOSS CALC\n",
      "batch:0, target shape:(16, 23)\n",
      "WARNING:tensorflow:AutoGraph could not transform <function test_step at 0x28043c9d0> and will run it as-is.\n",
      "Please report this to the TensorFlow team. When filing the bug, set the verbosity to 10 (on Linux, `export AUTOGRAPH_VERBOSITY=10`) and attach the full output.\n",
      "Cause: module 'gast' has no attribute 'Index'\n",
      "To silence this warning, decorate the function with @tf.autograph.experimental.do_not_convert\n",
      "WARNING: AutoGraph could not transform <function test_step at 0x28043c9d0> and will run it as-is.\n",
      "Please report this to the TensorFlow team. When filing the bug, set the verbosity to 10 (on Linux, `export AUTOGRAPH_VERBOSITY=10`) and attach the full output.\n",
      "Cause: module 'gast' has no attribute 'Index'\n",
      "To silence this warning, decorate the function with @tf.autograph.experimental.do_not_convert\n",
      "total_batch_loss:79.77156829833984, avg_batch_loss:3.4683291912078857\n",
      "Test Loss: Batch: 0, Total Batch Loss: 79.7716, Avg Batch Loss: 3.4683, Total Loss: 3.4683\n",
      "batch:1, target shape:(4, 23)\n",
      "total_batch_loss:79.72457885742188, avg_batch_loss:3.4662861824035645\n",
      "Test Loss: Batch: 1, Total Batch Loss: 79.7246, Avg Batch Loss: 3.4663, Total Loss: 6.9346\n",
      "Epoch: 1, Average Train Loss: 3.9537, Average Test Loss: 6.9346\n",
      "Time taken for 1 epoch 17.69 sec\n",
      "\n",
      "Test loss has been reduced from 100.000 to 6.935, epoch - 1\n"
     ]
    },
    {
     "name": "stderr",
     "output_type": "stream",
     "text": [
      "\r",
      " 33%|██████████████████████▋                                             | 1/3 [00:17<00:35, 17.89s/it]"
     ]
    },
    {
     "name": "stdout",
     "output_type": "stream",
     "text": [
      "START OF EPOCH:2/3\n",
      "Before train step - batch: 0\n",
      "After train step - batch: 0\n",
      "Train Loss: Epoch: 2, Batch: 0, Total Batch Loss: 66.9644, Avg Batch Loss: 2.9115, Total Loss: 2.9115\n",
      "Before train step - batch: 1\n",
      "After train step - batch: 1\n",
      "Train Loss: Epoch: 2, Batch: 1, Total Batch Loss: 75.1242, Avg Batch Loss: 3.2663, Total Loss: 6.1778\n",
      "Before train step - batch: 2\n",
      "After train step - batch: 2\n",
      "Train Loss: Epoch: 2, Batch: 2, Total Batch Loss: 56.2471, Avg Batch Loss: 2.4455, Total Loss: 8.6233\n",
      "Before train step - batch: 3\n",
      "After train step - batch: 3\n",
      "Train Loss: Epoch: 2, Batch: 3, Total Batch Loss: 52.1003, Avg Batch Loss: 2.2652, Total Loss: 10.8885\n",
      "Before train step - batch: 4\n"
     ]
    }
   ],
   "source": [
    "loss_plot = []\n",
    "test_loss_plot = []\n",
    "EPOCHS = 3\n",
    "\n",
    "best_test_loss=100\n",
    "for epoch in tqdm(range(start_epoch, start_epoch+EPOCHS)):\n",
    "    \n",
    "    print(f\"START OF EPOCH:{epoch+1}/{start_epoch+EPOCHS}\")\n",
    "    start = time.time()\n",
    "    total_loss = 0\n",
    "\n",
    "    for (batch, (img_tensor, target)) in enumerate(train_dataset):\n",
    "        print(f\"Before train step - batch: {batch}\")\n",
    "        total_batch_loss, avg_batch_loss = train_step(img_tensor, target)\n",
    "        print(f\"After train step - batch: {batch}\")\n",
    "        total_loss += avg_batch_loss\n",
    "        \n",
    "        if batch % 1 == 0:\n",
    "            print(f'Train Loss: Epoch: {epoch+1}, Batch: {batch}, '\\\n",
    "                  f'Total Batch Loss: {total_batch_loss:.4f}, Avg Batch Loss: {avg_batch_loss:.4f}, '\\\n",
    "                  f'Total Loss: {total_loss:.4f}')\n",
    "    \n",
    "    avg_train_loss=total_loss / train_num_batches\n",
    "    \n",
    "    # storing the epoch end loss value to plot later\n",
    "    loss_plot.append(avg_train_loss)    \n",
    "    \n",
    "    print(f'Training completed for Epoch: {epoch+1}, Batch: {batch}, '\\\n",
    "          f' Total Loss: {total_loss:.4f},  Avg Train Loss: {avg_train_loss:.4f}, - '\\\n",
    "          f'{time.time()-start:.2f} sec')\n",
    "    \n",
    "    \n",
    "    #test_loss=0\n",
    "    #avg_test_loss = 0.9*best_test_loss\n",
    "    avg_test_loss = test_loss_cal(test_dataset) \n",
    "    test_loss_plot.append(avg_test_loss)\n",
    "    \n",
    "    \n",
    "    print(f'Epoch: {epoch+1}, Average Train Loss: {avg_train_loss:.4f}, Average Test Loss: {avg_test_loss:.4f}')\n",
    "    print(f'Time taken for 1 epoch {time.time()-start:.2f} sec\\n')\n",
    "    \n",
    "    if avg_test_loss < best_test_loss:\n",
    "        print(f'Test loss has been reduced from {best_test_loss:.3f} to {avg_test_loss:.3f}, epoch - {epoch+1}')\n",
    "        best_test_loss = avg_test_loss\n",
    "        #ckpt_manager.save()\n",
    "        \n",
    "    # Save after every epoch\n",
    "    ckpt_manager.save()"
   ]
  },
  {
   "cell_type": "markdown",
   "metadata": {},
   "source": [
    "## Plot train vs test loss"
   ]
  },
  {
   "cell_type": "code",
   "execution_count": null,
   "metadata": {
    "ExecuteTime": {
     "start_time": "2021-12-05T15:59:49.891Z"
    }
   },
   "outputs": [],
   "source": [
    "plt.plot(loss_plot)\n",
    "plt.plot(test_loss_plot)\n",
    "plt.xlabel('Epochs')\n",
    "plt.ylabel('Loss')\n",
    "plt.title('Loss Plot')\n",
    "plt.legend([\"Train Loss\", \"Test Loss\"], loc =\"upper right\")\n",
    "plt.show()"
   ]
  },
  {
   "cell_type": "markdown",
   "metadata": {},
   "source": [
    "<b> NOTE:  </b>\n",
    "* Since there is a difference between the train & test steps ( Presence of teacher forcing), you may observe that the train loss is decreasing while your test loss is not. \n",
    "* This doesn't mean that the model is overfitting, as we can't compare the train & test results here, as both approach is different.\n",
    "* Also, if you want to achieve better results you can run it more epochs, but the intent of this capstone is to give you an idea on how to integrate attention mechanism with E-D architecture for images. The intent is not to create the state of art model. "
   ]
  },
  {
   "cell_type": "markdown",
   "metadata": {},
   "source": [
    "# MODEL EVALUATION\n",
    "1.Define your evaluation function using greedy search\n",
    "\n",
    "2.Define your evaluation function using beam search ( optional)\n",
    "\n",
    "3.Test it on a sample data using BLEU score"
   ]
  },
  {
   "cell_type": "markdown",
   "metadata": {},
   "source": [
    "### Greedy Search"
   ]
  },
  {
   "cell_type": "code",
   "execution_count": null,
   "metadata": {
    "ExecuteTime": {
     "start_time": "2021-12-05T15:59:49.893Z"
    }
   },
   "outputs": [],
   "source": [
    "def evaluate(image):\n",
    "    attention_plot = np.zeros((max_length, 64))\n",
    "\n",
    "    hidden = decoder.init_state(batch_size=1)\n",
    "\n",
    "    temp_input = tf.expand_dims(load_image(image)[0], 0) #process the input image to desired format before extracting features\n",
    "    img_tensor_val = image_features_extract_model(temp_input) # Extract features using our feature extraction model\n",
    "    img_tensor_val = tf.reshape(img_tensor_val, (img_tensor_val.shape[0], -1, img_tensor_val.shape[3]))\n",
    "\n",
    "    features = encoder(img_tensor_val)# extract the features by passing the input to encoder\n",
    "\n",
    "    dec_input = tf.expand_dims([tokenizer.word_index['<start>']], 0)\n",
    "    result = []\n",
    "\n",
    "    for i in range(max_length):\n",
    "        predictions, hidden, attention_weights = decoder(dec_input,\n",
    "                                                         features,\n",
    "                                                         hidden)# get the output from decoder\n",
    "\n",
    "        attention_plot[i] = tf.reshape(attention_weights, (-1, )).numpy()\n",
    "\n",
    "        predicted_id = tf.random.categorical(predictions, 1)[0][0].numpy()#extract the predicted id(embedded value) which carries the max value\n",
    "        #map the id to the word from tokenizer and append the value to the result list\n",
    "        result.append(tokenizer.index_word[predicted_id])\n",
    "\n",
    "        if tokenizer.index_word[predicted_id] == '<end>':\n",
    "            return result, attention_plot,predictions\n",
    "\n",
    "        dec_input = tf.expand_dims([predicted_id], 0)\n",
    "\n",
    "    attention_plot = attention_plot[:len(result), :]\n",
    "    return result, attention_plot,predictions\n"
   ]
  },
  {
   "cell_type": "code",
   "execution_count": null,
   "metadata": {
    "ExecuteTime": {
     "start_time": "2021-12-05T15:59:49.895Z"
    }
   },
   "outputs": [],
   "source": [
    "len(tokenizer.word_index) + 1"
   ]
  },
  {
   "cell_type": "markdown",
   "metadata": {},
   "source": [
    "### Beam Search(optional)"
   ]
  },
  {
   "cell_type": "code",
   "execution_count": null,
   "metadata": {
    "ExecuteTime": {
     "start_time": "2021-12-05T15:59:49.896Z"
    }
   },
   "outputs": [],
   "source": [
    "# def beam_evaluate(image, beam_index = #your value for beam index):\n",
    "\n",
    "#     #write your code to evaluate the result using beam search\n",
    "                  \n",
    "#     return final_caption\n",
    "\n"
   ]
  },
  {
   "cell_type": "code",
   "execution_count": null,
   "metadata": {
    "ExecuteTime": {
     "start_time": "2021-12-05T15:59:49.897Z"
    }
   },
   "outputs": [],
   "source": [
    "def plot_attmap(caption, weights, image):\n",
    "\n",
    "    fig = plt.figure(figsize=(10, 10))\n",
    "    temp_img = np.array(Image.open(image))\n",
    "    \n",
    "    len_cap = len(caption)\n",
    "    for cap in range(len_cap):\n",
    "        weights_img = np.reshape(weights[cap], (8,8))\n",
    "        weights_img = np.array(Image.fromarray(weights_img).resize((224, 224), Image.LANCZOS))\n",
    "        \n",
    "        ax = fig.add_subplot(len_cap//2, len_cap//2, cap+1)\n",
    "        ax.set_title(caption[cap], fontsize=15)\n",
    "        \n",
    "        img=ax.imshow(temp_img)\n",
    "        \n",
    "        ax.imshow(weights_img, cmap='gist_heat', alpha=0.6,extent=img.get_extent())\n",
    "        ax.axis('off')\n",
    "    plt.subplots_adjust(hspace=0.2, wspace=0.2)\n",
    "    plt.show()"
   ]
  },
  {
   "cell_type": "code",
   "execution_count": null,
   "metadata": {
    "ExecuteTime": {
     "start_time": "2021-12-05T15:59:49.899Z"
    }
   },
   "outputs": [],
   "source": [
    "from nltk.translate.bleu_score import sentence_bleu"
   ]
  },
  {
   "cell_type": "code",
   "execution_count": null,
   "metadata": {
    "ExecuteTime": {
     "start_time": "2021-12-05T15:59:49.900Z"
    }
   },
   "outputs": [],
   "source": [
    "def filt_text(text):\n",
    "    filt=['<start>','<unk>','<end>'] \n",
    "    temp= text.split()\n",
    "    [temp.remove(j) for k in filt for j in temp if k==j]\n",
    "    text=' '.join(temp)\n",
    "    return text"
   ]
  },
  {
   "cell_type": "code",
   "execution_count": null,
   "metadata": {
    "ExecuteTime": {
     "start_time": "2021-12-05T15:59:49.902Z"
    }
   },
   "outputs": [],
   "source": [
    "df.shape[0]"
   ]
  },
  {
   "cell_type": "code",
   "execution_count": null,
   "metadata": {
    "ExecuteTime": {
     "start_time": "2021-12-05T15:59:49.904Z"
    }
   },
   "outputs": [],
   "source": [
    "rid = np.random.randint(0, df.shape[0])\n",
    "test_image = df['path'][rid]\n",
    "\n",
    "real_caption = df['caption'][rid]\n",
    "print(f\"{test_image}\")\n",
    "print(f\"{real_caption}\")\n",
    "\n",
    "Image.open(test_image)"
   ]
  },
  {
   "cell_type": "code",
   "execution_count": null,
   "metadata": {
    "ExecuteTime": {
     "start_time": "2021-12-05T15:59:49.905Z"
    }
   },
   "outputs": [],
   "source": [
    "# rid = np.random.randint(0, len(img_test))\n",
    "# test_image = img_test[rid]\n",
    "\n",
    "#real_caption = ' '.join([tokenizer.index_word[i] for i in cap_test[rid] if i not in [0]])\n",
    "\n",
    "# test_image = 'data/Images/480200554_6155e9dfeb.jpg'\n",
    "# real_caption = '<start> An elderly man wearing a sombrero riding a mobility scooter while shopping for shoes . <end>'\n",
    "\n",
    "result, attention_plot,pred_test = evaluate(test_image)\n",
    "real_caption=filt_text(real_caption)      \n",
    "pred_caption=' '.join(result).rsplit(' ', 1)[0]\n",
    "\n",
    "real_appn = []\n",
    "real_appn.append(real_caption.split())\n",
    "reference = real_appn\n",
    "candidate = pred_caption.split()\n",
    "\n",
    "#score = sentence_bleu(reference, candidate, weights=#set your weights)\n",
    "score = sentence_bleu(reference, candidate)\n",
    "\n",
    "print(f\"BLEU score: {score*100}\")\n",
    "                      \n",
    "print ('Real Caption:', real_caption)\n",
    "print ('Prediction Caption:', pred_caption)\n",
    "plot_attmap(result, attention_plot, test_image)\n",
    "\n",
    "Image.open(test_image)"
   ]
  },
  {
   "cell_type": "code",
   "execution_count": null,
   "metadata": {
    "ExecuteTime": {
     "start_time": "2021-12-05T15:59:49.907Z"
    }
   },
   "outputs": [],
   "source": [
    "# captions=beam_evaluate(test_image)\n",
    "# print(captions)"
   ]
  },
  {
   "cell_type": "code",
   "execution_count": null,
   "metadata": {},
   "outputs": [],
   "source": []
  },
  {
   "cell_type": "code",
   "execution_count": null,
   "metadata": {},
   "outputs": [],
   "source": []
  },
  {
   "cell_type": "markdown",
   "metadata": {},
   "source": [
    "# SAVE MODELS"
   ]
  },
  {
   "cell_type": "code",
   "execution_count": null,
   "metadata": {
    "ExecuteTime": {
     "start_time": "2021-12-05T15:59:49.911Z"
    }
   },
   "outputs": [],
   "source": [
    "current_time = datetime.datetime.now().strftime(\"%Y_%m_%d-%I_%M_%S_%p\")\n",
    "current_time"
   ]
  },
  {
   "cell_type": "code",
   "execution_count": null,
   "metadata": {
    "ExecuteTime": {
     "start_time": "2021-12-05T15:59:49.913Z"
    }
   },
   "outputs": [],
   "source": [
    "encoder.save(f'models/encoder_{current_time}')\n",
    "decoder.save(f'models/decoder_{current_time}')"
   ]
  },
  {
   "cell_type": "code",
   "execution_count": null,
   "metadata": {
    "ExecuteTime": {
     "start_time": "2021-12-05T15:59:49.914Z"
    }
   },
   "outputs": [],
   "source": [
    "tf.saved_model.save(decoder, f'models/decoder_{current_time}', signatures=decoder.call.get_concrete_function(\n",
    "            tf.TensorSpec(shape=[1, 1], dtype=tf.int32, name='x'), \n",
    "            tf.TensorSpec(shape=[1, 64, 256], dtype=tf.float32, name=\"features\"),\n",
    "            tf.TensorSpec(shape=[1, 512], dtype=tf.float32, name=\"hidden\")\n",
    "))"
   ]
  },
  {
   "cell_type": "code",
   "execution_count": null,
   "metadata": {
    "ExecuteTime": {
     "start_time": "2021-12-05T15:59:49.916Z"
    }
   },
   "outputs": [],
   "source": [
    "decoder.save('models/decoder_{current_time}.h5')"
   ]
  },
  {
   "cell_type": "code",
   "execution_count": null,
   "metadata": {
    "ExecuteTime": {
     "start_time": "2021-12-05T15:59:49.917Z"
    }
   },
   "outputs": [],
   "source": [
    "decoder.save('models/decoder_{current_time}',save_format='tf')\n"
   ]
  },
  {
   "cell_type": "code",
   "execution_count": null,
   "metadata": {},
   "outputs": [],
   "source": []
  }
 ],
 "metadata": {
  "kernelspec": {
   "display_name": "cap1",
   "language": "python",
   "name": "cap1"
  },
  "language_info": {
   "codemirror_mode": {
    "name": "ipython",
    "version": 3
   },
   "file_extension": ".py",
   "mimetype": "text/x-python",
   "name": "python",
   "nbconvert_exporter": "python",
   "pygments_lexer": "ipython3",
   "version": "3.8.12"
  },
  "toc": {
   "base_numbering": 1,
   "nav_menu": {},
   "number_sections": true,
   "sideBar": true,
   "skip_h1_title": false,
   "title_cell": "Table of Contents",
   "title_sidebar": "Contents",
   "toc_cell": false,
   "toc_position": {},
   "toc_section_display": true,
   "toc_window_display": true
  }
 },
 "nbformat": 4,
 "nbformat_minor": 2
}
