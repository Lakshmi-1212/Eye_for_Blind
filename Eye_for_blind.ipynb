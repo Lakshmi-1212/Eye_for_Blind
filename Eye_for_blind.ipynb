{
 "cells": [
  {
   "cell_type": "markdown",
   "metadata": {},
   "source": [
    "<b>EYE FOR BLIND</b>  \n",
    "This notebook will be used to prepare the capstone project 'Eye for Blind'"
   ]
  },
  {
   "cell_type": "markdown",
   "metadata": {},
   "source": [
    "# IMPORT"
   ]
  },
  {
   "cell_type": "code",
   "execution_count": 84,
   "metadata": {
    "ExecuteTime": {
     "end_time": "2021-12-02T11:07:02.003342Z",
     "start_time": "2021-12-02T11:07:01.993202Z"
    }
   },
   "outputs": [],
   "source": [
    "import glob\n",
    "from PIL import Image\n",
    "from matplotlib.pyplot import imshow\n",
    "\n",
    "#from matplotlib.pyplot import figure, imshow, axis\n",
    "\n",
    "import os\n",
    "import pandas as pd\n",
    "import numpy as np \n",
    "\n",
    "from sklearn.model_selection import train_test_split\n",
    "\n",
    "import tensorflow as tf \n",
    "#from tensorflow import keras \n",
    "from tensorflow.keras import layers,Model \n",
    "from tensorflow.keras.datasets import mnist \n",
    "from tensorflow.keras.utils import plot_model \n",
    "#from tensorflow.keras.utils.vis_utils import plot_model\n",
    "\n",
    "import warnings\n",
    "warnings.filterwarnings(\"ignore\")\n",
    "\n",
    "pd.set_option('display.max_colwidth', None)"
   ]
  },
  {
   "cell_type": "markdown",
   "metadata": {},
   "source": [
    "Let's read the dataset"
   ]
  },
  {
   "cell_type": "markdown",
   "metadata": {},
   "source": [
    "# DATA LOADING\n"
   ]
  },
  {
   "cell_type": "markdown",
   "metadata": {},
   "source": [
    "1.Import the dataset and read image & captions into two seperate variables\n",
    "\n",
    "2.Visualise both the images & text present in the dataset\n",
    "\n",
    "3.Create a dataframe which summarizes the image, path & captions as a dataframe\n",
    "\n",
    "4.Create a list which contains all the captions & path\n",
    "\n",
    "5.Visualise the top 30 occuring words in the captions"
   ]
  },
  {
   "cell_type": "markdown",
   "metadata": {},
   "source": [
    "## Read the image paths"
   ]
  },
  {
   "cell_type": "code",
   "execution_count": 88,
   "metadata": {
    "ExecuteTime": {
     "end_time": "2021-12-02T11:09:06.723603Z",
     "start_time": "2021-12-02T11:09:06.683384Z"
    }
   },
   "outputs": [
    {
     "name": "stdout",
     "output_type": "stream",
     "text": [
      "The total images present in the dataset: 8091\n"
     ]
    },
    {
     "data": {
      "text/plain": [
       "'data/Images/2387197355_237f6f41ee.jpg'"
      ]
     },
     "execution_count": 88,
     "metadata": {},
     "output_type": "execute_result"
    }
   ],
   "source": [
    "#Import the dataset and read the image into a seperate variable\n",
    "\n",
    "images='data/Images'\n",
    "\n",
    "all_imgs = glob.glob(images + '/*.jpg',recursive=True)\n",
    "print(\"The total images present in the dataset: {}\".format(len(all_imgs)))\n",
    "all_imgs[0]"
   ]
  },
  {
   "cell_type": "markdown",
   "metadata": {
    "ExecuteTime": {
     "end_time": "2021-12-02T11:07:07.983393Z",
     "start_time": "2021-12-02T11:07:07.972544Z"
    }
   },
   "source": [
    "## Read the captions file"
   ]
  },
  {
   "cell_type": "code",
   "execution_count": 87,
   "metadata": {
    "ExecuteTime": {
     "end_time": "2021-12-02T11:07:09.564819Z",
     "start_time": "2021-12-02T11:07:09.489256Z"
    }
   },
   "outputs": [
    {
     "data": {
      "text/html": [
       "<div>\n",
       "<style scoped>\n",
       "    .dataframe tbody tr th:only-of-type {\n",
       "        vertical-align: middle;\n",
       "    }\n",
       "\n",
       "    .dataframe tbody tr th {\n",
       "        vertical-align: top;\n",
       "    }\n",
       "\n",
       "    .dataframe thead th {\n",
       "        text-align: right;\n",
       "    }\n",
       "</style>\n",
       "<table border=\"1\" class=\"dataframe\">\n",
       "  <thead>\n",
       "    <tr style=\"text-align: right;\">\n",
       "      <th></th>\n",
       "      <th>image</th>\n",
       "      <th>caption</th>\n",
       "    </tr>\n",
       "  </thead>\n",
       "  <tbody>\n",
       "    <tr>\n",
       "      <th>count</th>\n",
       "      <td>40455</td>\n",
       "      <td>40455</td>\n",
       "    </tr>\n",
       "    <tr>\n",
       "      <th>unique</th>\n",
       "      <td>8091</td>\n",
       "      <td>40201</td>\n",
       "    </tr>\n",
       "    <tr>\n",
       "      <th>top</th>\n",
       "      <td>1000268201_693b08cb0e.jpg</td>\n",
       "      <td>Two dogs playing in the snow .</td>\n",
       "    </tr>\n",
       "    <tr>\n",
       "      <th>freq</th>\n",
       "      <td>5</td>\n",
       "      <td>7</td>\n",
       "    </tr>\n",
       "  </tbody>\n",
       "</table>\n",
       "</div>"
      ],
      "text/plain": [
       "                            image                         caption\n",
       "count                       40455                           40455\n",
       "unique                       8091                           40201\n",
       "top     1000268201_693b08cb0e.jpg  Two dogs playing in the snow .\n",
       "freq                            5                               7"
      ]
     },
     "metadata": {},
     "output_type": "display_data"
    },
    {
     "data": {
      "text/html": [
       "<div>\n",
       "<style scoped>\n",
       "    .dataframe tbody tr th:only-of-type {\n",
       "        vertical-align: middle;\n",
       "    }\n",
       "\n",
       "    .dataframe tbody tr th {\n",
       "        vertical-align: top;\n",
       "    }\n",
       "\n",
       "    .dataframe thead th {\n",
       "        text-align: right;\n",
       "    }\n",
       "</style>\n",
       "<table border=\"1\" class=\"dataframe\">\n",
       "  <thead>\n",
       "    <tr style=\"text-align: right;\">\n",
       "      <th></th>\n",
       "      <th>image</th>\n",
       "      <th>caption</th>\n",
       "    </tr>\n",
       "  </thead>\n",
       "  <tbody>\n",
       "    <tr>\n",
       "      <th>0</th>\n",
       "      <td>1000268201_693b08cb0e.jpg</td>\n",
       "      <td>A child in a pink dress is climbing up a set o...</td>\n",
       "    </tr>\n",
       "    <tr>\n",
       "      <th>1</th>\n",
       "      <td>1000268201_693b08cb0e.jpg</td>\n",
       "      <td>A girl going into a wooden building .</td>\n",
       "    </tr>\n",
       "  </tbody>\n",
       "</table>\n",
       "</div>"
      ],
      "text/plain": [
       "                       image  \\\n",
       "0  1000268201_693b08cb0e.jpg   \n",
       "1  1000268201_693b08cb0e.jpg   \n",
       "\n",
       "                                             caption  \n",
       "0  A child in a pink dress is climbing up a set o...  \n",
       "1              A girl going into a wooden building .  "
      ]
     },
     "metadata": {},
     "output_type": "display_data"
    }
   ],
   "source": [
    "#Import the dataset and read the text file into a seperate variable\n",
    "\n",
    "captions_file = 'data/captions.txt'\n",
    "def load_doc(filename):\n",
    "    \n",
    "    text_df = pd.read_csv(filename,sep=',')\n",
    "    \n",
    "    return text_df\n",
    "\n",
    "captions_df = load_doc(captions_file)\n",
    "display(captions_df.describe())\n",
    "display(captions_df.head(2))"
   ]
  },
  {
   "cell_type": "markdown",
   "metadata": {},
   "source": [
    "## Visualize a sample image and its captions"
   ]
  },
  {
   "cell_type": "code",
   "execution_count": 6,
   "metadata": {
    "ExecuteTime": {
     "end_time": "2021-12-02T06:37:25.833083Z",
     "start_time": "2021-12-02T06:37:25.715981Z"
    }
   },
   "outputs": [
    {
     "name": "stdout",
     "output_type": "stream",
     "text": [
      "Captions:\n",
      "12105    A girl is smiling at the camera with a crowd o...\n",
      "12106    A girl with long dark hair wearing a yellow an...\n",
      "12107                A young girl smiling for the camera .\n",
      "12108     A young smiling girl wearing yellow in a crowd .\n",
      "12109       Young girl posing with crowd in the background\n",
      "Name: caption, dtype: object\n"
     ]
    },
    {
     "data": {
      "image/png": "[encoded data removed]",
      "text/plain": [
       "<Figure size 432x288 with 1 Axes>"
      ]
     },
     "metadata": {
      "needs_background": "light"
     },
     "output_type": "display_data"
    }
   ],
   "source": [
    "#Visualise both the images & text present in the dataset\n",
    "image_path = all_imgs[1]\n",
    "image_filename = os.path.basename(image_path)\n",
    "im = Image.open(image_path)\n",
    "imshow(im)\n",
    "\n",
    "print(f'Captions:\\n{captions_df[captions_df[\"image\"]==image_filename][\"caption\"]}')"
   ]
  },
  {
   "cell_type": "code",
   "execution_count": 7,
   "metadata": {
    "ExecuteTime": {
     "end_time": "2021-12-02T06:37:26.246677Z",
     "start_time": "2021-12-02T06:37:26.242886Z"
    }
   },
   "outputs": [],
   "source": [
    "# #Import the dataset and read the text file into a seperate variable\n",
    "\n",
    "# def load_doc(filename):\n",
    "    \n",
    "#     #your code here\n",
    "    \n",
    "#     return text\n",
    "\n",
    "# doc = load_doc(text_file)\n",
    "# print(doc[:300])"
   ]
  },
  {
   "cell_type": "markdown",
   "metadata": {},
   "source": [
    "## Create a combined dataframe"
   ]
  },
  {
   "cell_type": "markdown",
   "metadata": {},
   "source": [
    "Create a dataframe which summarizes the image, path & captions as a dataframe\n",
    "\n",
    "Each image id has 5 captions associated with it therefore the total dataset should have 40455 samples."
   ]
  },
  {
   "cell_type": "code",
   "execution_count": 8,
   "metadata": {
    "ExecuteTime": {
     "end_time": "2021-12-02T06:37:27.253792Z",
     "start_time": "2021-12-02T06:37:27.222801Z"
    }
   },
   "outputs": [
    {
     "name": "stdout",
     "output_type": "stream",
     "text": [
      "Shape:(40455, 3)\n"
     ]
    },
    {
     "data": {
      "text/html": [
       "<div>\n",
       "<style scoped>\n",
       "    .dataframe tbody tr th:only-of-type {\n",
       "        vertical-align: middle;\n",
       "    }\n",
       "\n",
       "    .dataframe tbody tr th {\n",
       "        vertical-align: top;\n",
       "    }\n",
       "\n",
       "    .dataframe thead th {\n",
       "        text-align: right;\n",
       "    }\n",
       "</style>\n",
       "<table border=\"1\" class=\"dataframe\">\n",
       "  <thead>\n",
       "    <tr style=\"text-align: right;\">\n",
       "      <th></th>\n",
       "      <th>filename</th>\n",
       "      <th>path</th>\n",
       "      <th>caption</th>\n",
       "    </tr>\n",
       "  </thead>\n",
       "  <tbody>\n",
       "    <tr>\n",
       "      <th>0</th>\n",
       "      <td>2387197355_237f6f41ee.jpg</td>\n",
       "      <td>data/Images/2387197355_237f6f41ee.jpg</td>\n",
       "      <td>A group of people are partying at a masquerade...</td>\n",
       "    </tr>\n",
       "    <tr>\n",
       "      <th>1</th>\n",
       "      <td>2387197355_237f6f41ee.jpg</td>\n",
       "      <td>data/Images/2387197355_237f6f41ee.jpg</td>\n",
       "      <td>A lady in red and black grins at the camera at...</td>\n",
       "    </tr>\n",
       "    <tr>\n",
       "      <th>2</th>\n",
       "      <td>2387197355_237f6f41ee.jpg</td>\n",
       "      <td>data/Images/2387197355_237f6f41ee.jpg</td>\n",
       "      <td>A woman in a domino mask and severe hair is at...</td>\n",
       "    </tr>\n",
       "    <tr>\n",
       "      <th>3</th>\n",
       "      <td>2387197355_237f6f41ee.jpg</td>\n",
       "      <td>data/Images/2387197355_237f6f41ee.jpg</td>\n",
       "      <td>A woman in a red dress and black mask is on a ...</td>\n",
       "    </tr>\n",
       "    <tr>\n",
       "      <th>4</th>\n",
       "      <td>2387197355_237f6f41ee.jpg</td>\n",
       "      <td>data/Images/2387197355_237f6f41ee.jpg</td>\n",
       "      <td>A woman wears a red dress and a black mask whi...</td>\n",
       "    </tr>\n",
       "  </tbody>\n",
       "</table>\n",
       "</div>"
      ],
      "text/plain": [
       "                    filename                                   path  \\\n",
       "0  2387197355_237f6f41ee.jpg  data/Images/2387197355_237f6f41ee.jpg   \n",
       "1  2387197355_237f6f41ee.jpg  data/Images/2387197355_237f6f41ee.jpg   \n",
       "2  2387197355_237f6f41ee.jpg  data/Images/2387197355_237f6f41ee.jpg   \n",
       "3  2387197355_237f6f41ee.jpg  data/Images/2387197355_237f6f41ee.jpg   \n",
       "4  2387197355_237f6f41ee.jpg  data/Images/2387197355_237f6f41ee.jpg   \n",
       "\n",
       "                                             caption  \n",
       "0  A group of people are partying at a masquerade...  \n",
       "1  A lady in red and black grins at the camera at...  \n",
       "2  A woman in a domino mask and severe hair is at...  \n",
       "3  A woman in a red dress and black mask is on a ...  \n",
       "4  A woman wears a red dress and a black mask whi...  "
      ]
     },
     "execution_count": 8,
     "metadata": {},
     "output_type": "execute_result"
    }
   ],
   "source": [
    "filepaths_df = pd.DataFrame({'filename' : [os.path.basename(image_path) for image_path in all_imgs],\n",
    "              'path' : all_imgs })\n",
    "df = pd.merge(filepaths_df,captions_df,left_on='filename',right_on='image')\n",
    "df.drop('image',axis=1, inplace=True)\n",
    "\n",
    "print(f'Shape:{df.shape}')\n",
    "df.head()"
   ]
  },
  {
   "cell_type": "markdown",
   "metadata": {},
   "source": [
    "# DATA PREPROCESSING"
   ]
  },
  {
   "cell_type": "code",
   "execution_count": 9,
   "metadata": {
    "ExecuteTime": {
     "end_time": "2021-12-02T06:37:27.763526Z",
     "start_time": "2021-12-02T06:37:27.757104Z"
    }
   },
   "outputs": [],
   "source": [
    "# all_img_id= #store all the image id here\n",
    "# all_img_vector= #store all the image path here\n",
    "# annotations= #store all the captions here\n",
    "\n",
    "# df = pd.DataFrame(list(zip(all_img_id, all_img_vector,annotations)),columns =['ID','Path', 'Captions']) \n",
    "    \n",
    "# df"
   ]
  },
  {
   "cell_type": "markdown",
   "metadata": {},
   "source": [
    "## Pre-processing Captions"
   ]
  },
  {
   "cell_type": "markdown",
   "metadata": {},
   "source": [
    "### Add the start & end tokens"
   ]
  },
  {
   "cell_type": "code",
   "execution_count": 91,
   "metadata": {
    "ExecuteTime": {
     "end_time": "2021-12-02T11:14:43.841032Z",
     "start_time": "2021-12-02T11:14:43.815921Z"
    }
   },
   "outputs": [],
   "source": [
    "df['caption'] = df['caption'].apply(lambda x: f'<start> {x} <end>')"
   ]
  },
  {
   "cell_type": "code",
   "execution_count": 95,
   "metadata": {
    "ExecuteTime": {
     "end_time": "2021-12-02T11:17:43.789292Z",
     "start_time": "2021-12-02T11:17:43.756510Z"
    }
   },
   "outputs": [
    {
     "name": "stdout",
     "output_type": "stream",
     "text": [
      "Total captions present in the dataset: 40201\n",
      "Total images present in the dataset: 8091\n"
     ]
    }
   ],
   "source": [
    "\n",
    "print(\"Total captions present in the dataset: \"+ str(len(df['caption'].unique())))\n",
    "print(\"Total images present in the dataset: \" + str(len(df['path'].unique())))"
   ]
  },
  {
   "cell_type": "code",
   "execution_count": 10,
   "metadata": {
    "ExecuteTime": {
     "end_time": "2021-12-02T06:37:28.465553Z",
     "start_time": "2021-12-02T06:37:28.431445Z"
    }
   },
   "outputs": [
    {
     "name": "stdout",
     "output_type": "stream",
     "text": [
      "Total captions present in the dataset: 40201\n",
      "Total images present in the dataset: 8091\n"
     ]
    }
   ],
   "source": [
    "# #Create a list which contains all the captions\n",
    "# annotations=list(df['caption'].unique())\n",
    " \n",
    "\n",
    "# #Create a list which contains all the path to the images\n",
    "# all_img_path=list(df['path'].unique())\n",
    "\n",
    "# print(\"Total captions present in the dataset: \"+ str(len(annotations)))\n",
    "# print(\"Total images present in the dataset: \" + str(len(all_img_path)))"
   ]
  },
  {
   "cell_type": "code",
   "execution_count": 11,
   "metadata": {
    "ExecuteTime": {
     "end_time": "2021-12-02T06:37:28.903348Z",
     "start_time": "2021-12-02T06:37:28.898008Z"
    }
   },
   "outputs": [],
   "source": [
    "# #Create the vocabulary & the counter for the captions\n",
    "\n",
    "# vocabulary= #write your code here\n",
    "\n",
    "# val_count=Counter(vocabulary)\n",
    "# val_count"
   ]
  },
  {
   "cell_type": "code",
   "execution_count": 98,
   "metadata": {
    "ExecuteTime": {
     "end_time": "2021-12-02T11:18:38.024835Z",
     "start_time": "2021-12-02T11:18:38.007829Z"
    }
   },
   "outputs": [
    {
     "data": {
      "text/plain": [
       "40455"
      ]
     },
     "execution_count": 98,
     "metadata": {},
     "output_type": "execute_result"
    }
   ],
   "source": [
    "#Visualise the top 30 occuring words in the captions\n",
    "#df['caption'].value_count()\n",
    "\n",
    "#write your code here"
   ]
  },
  {
   "cell_type": "markdown",
   "metadata": {},
   "source": [
    "1.Create the tokenized vectors by tokenizing the captions fore ex :split them using spaces & other filters. \n",
    "This gives us a vocabulary of all of the unique words in the data. Keep the total vocaublary to top 5,000 words for saving memory.\n",
    "\n",
    "2.Replace all other words with the unknown token \"UNK\" .\n",
    "\n",
    "3.Create word-to-index and index-to-word mappings.\n",
    "\n",
    "4.Pad all sequences to be the same length as the longest one."
   ]
  },
  {
   "cell_type": "markdown",
   "metadata": {},
   "source": [
    "### Tokenize to words"
   ]
  },
  {
   "cell_type": "code",
   "execution_count": null,
   "metadata": {},
   "outputs": [],
   "source": [
    "# create the tokenizer\n",
    "# Replace captions with UNK if word is not in the frequent words list\n",
    " # Get the top 5000 frequently occuring words from this vocabulary\n",
    "VOCAB_LENGTH = 5000\n",
    "tokenizer = tf.keras.preprocessing.text.Tokenizer(num_words=VOCAB_LENGTH,\n",
    "                                                  oov_token=\"<UNK>\",\n",
    "                                                  filters='!\"#$%&()*+.,-/:;=?@[\\]^_`{|}~')\n",
    "tokenizer.fit_on_texts(df['caption'])    \n"
   ]
  },
  {
   "cell_type": "markdown",
   "metadata": {},
   "source": [
    "### Pad sequences to longest length"
   ]
  },
  {
   "cell_type": "code",
   "execution_count": null,
   "metadata": {},
   "outputs": [],
   "source": [
    "    \n",
    "# Add the <pad> tag to the vocabulary\n",
    "tokenizer.word_index['<pad>'] = 0\n",
    "tokenizer.index_word[0] = '<pad>'\n",
    "\n",
    "# Create the tokenized vectors: word-to-index mapping\n",
    "caption_seqs = tokenizer.texts_to_sequences(df['caption'])\n",
    "\n",
    "# Pad all sequences to be the same length as the longest one\n",
    "captions_vector = tf.keras.preprocessing.sequence.pad_sequences(caption_seqs, padding='post')\n",
    "\n",
    "# Calculate the max_length of the caption, which is used to store the attention weights\n",
    "max_length = max(len(x) for x in caption_seqs)\n",
    "\n",
    "\n",
    "print(f'Total no. of captions      = {len(caption_seqs)}')\n",
    "print(f'Total no. of token words   = {len(tokenizer.word_index) + 1}')\n",
    "print(f'Vocab length for tokenizer = {VOCAB_LENGTH}')\n",
    "print(f'Maximum caption length     = {max_length}')"
   ]
  },
  {
   "cell_type": "code",
   "execution_count": 11,
   "metadata": {
    "ExecuteTime": {
     "end_time": "2021-12-02T03:59:16.197192Z",
     "start_time": "2021-12-02T03:59:15.972866Z"
    }
   },
   "outputs": [
    {
     "name": "stdout",
     "output_type": "stream",
     "text": [
      "['a', 'group', 'of', 'people', 'are', 'partying', 'at', 'a', 'masquerade', 'party', 'a', 'lady', 'in', 'red', 'and', 'black', 'grins', 'at', 'the', 'camera', 'at', 'a', 'costume', 'party', 'a', 'woman', 'in', 'a', 'domino', 'mask', 'and', 'severe', 'hair', 'is', 'at', 'a', 'party', 'a', 'woman', 'in', 'a', 'red', 'dress', 'and', 'black', 'mask', 'is', 'on', 'a', 'crowded', 'dance', 'floor', 'a', 'woman', 'wears', 'a', 'red', 'dress', 'and', 'a', 'black', 'mask', 'while', 'people', 'dance', 'behind', 'her']\n",
      "['mask', 'dance', 'are', 'woman', 'in', 'group', 'her', 'lady', 'masquerade', 'on', 'the', 'wears', 'a', 'and', 'grins', 'domino', 'floor', 'partying', 'costume', 'hair', 'is', 'people', 'party', 'camera', 'severe', 'behind', 'at', 'dress', 'while', 'black', 'red', 'of', 'crowded']\n"
     ]
    },
    {
     "ename": "NameError",
     "evalue": "name 'counts' is not defined",
     "output_type": "error",
     "traceback": [
      "\u001b[0;31m---------------------------------------------------------------------------\u001b[0m",
      "\u001b[0;31mNameError\u001b[0m                                 Traceback (most recent call last)",
      "\u001b[0;32m/var/folders/w_/yr5m04f94gn2rz2sp6071jpc0000gn/T/ipykernel_1264/257505314.py\u001b[0m in \u001b[0;36m<module>\u001b[0;34m\u001b[0m\n\u001b[1;32m     12\u001b[0m \u001b[0;31m# print(counts)\u001b[0m\u001b[0;34m\u001b[0m\u001b[0;34m\u001b[0m\u001b[0;34m\u001b[0m\u001b[0m\n\u001b[1;32m     13\u001b[0m \u001b[0;34m\u001b[0m\u001b[0m\n\u001b[0;32m---> 14\u001b[0;31m \u001b[0mmost_freq_words\u001b[0m \u001b[0;34m=\u001b[0m \u001b[0;34m[\u001b[0m\u001b[0mword\u001b[0m \u001b[0;32mfor\u001b[0m \u001b[0mword\u001b[0m\u001b[0;34m,\u001b[0m\u001b[0mcnt\u001b[0m \u001b[0;32min\u001b[0m \u001b[0mcounts\u001b[0m\u001b[0;34m.\u001b[0m\u001b[0mmost_common\u001b[0m\u001b[0;34m(\u001b[0m\u001b[0;36m10\u001b[0m\u001b[0;34m)\u001b[0m\u001b[0;34m]\u001b[0m\u001b[0;34m\u001b[0m\u001b[0;34m\u001b[0m\u001b[0m\n\u001b[0m\u001b[1;32m     15\u001b[0m \u001b[0mprint\u001b[0m\u001b[0;34m(\u001b[0m\u001b[0mmost_freq_words\u001b[0m\u001b[0;34m)\u001b[0m\u001b[0;34m\u001b[0m\u001b[0;34m\u001b[0m\u001b[0m\n\u001b[1;32m     16\u001b[0m \u001b[0;34m\u001b[0m\u001b[0m\n",
      "\u001b[0;31mNameError\u001b[0m: name 'counts' is not defined"
     ]
    }
   ],
   "source": [
    "# #### TEST - CHK & REMOVE LATER\n",
    "\n",
    "# # testwords = test['caption'].cat(sep=\"--\")\n",
    "# # testwords\n",
    "# test = df.head()\n",
    "# test['caption'] = test['caption'].str.replace(r'\\?|\\.|\\'', ' ').str.lower()\n",
    "# list_of_words = ' '.join(test['caption']).split()\n",
    "# print(list_of_words)\n",
    "# print(list(set(list_of_words)))\n",
    "\n",
    "# # from collections import Counter\n",
    "# # counts = Counter(list_of_words)\n",
    "# # print(counts)\n",
    "\n",
    "# most_freq_words = [word for word,cnt in counts.most_common(10)]\n",
    "# print(most_freq_words)\n",
    "\n",
    "\n",
    "# # from nltk.tokenize import word_tokenize\n",
    "\n",
    "# # # Get the list of unique words to create the vocabulary\n",
    "# # # words = df.apply(lambda row: word_tokenize(row['caption']), axis=1)\n",
    "# # all_captions = df['caption'].str.replace(r'\\?|\\.|\\'', ' ').str.lower()\n",
    "# # all_words = ' '.join(all_captions).split()\n",
    "# # vocab = list(set(all_words)) \n",
    "# # print(f'all words length:{len(all_words)}')\n",
    "# # print(f'vocab length:{len(vocab)}')\n",
    "\n",
    "# # # Get the top 5000 frequently occuring words from this vocabulary\n",
    "# # VOCAB_LENGTH = 5000\n",
    "# # from collections import Counter\n",
    "# # vocab_count = Counter(all_words)\n",
    "# # most_freq_words = [word for word,cnt in vocab_count.most_common(VOCAB_LENGTH)]\n",
    "# # #print(len(most_freq_words))\n",
    "# # print(f'most frequently occuring words:{len(most_freq_words)}')"
   ]
  },
  {
   "cell_type": "code",
   "execution_count": 75,
   "metadata": {
    "ExecuteTime": {
     "end_time": "2021-12-02T07:31:03.719120Z",
     "start_time": "2021-12-02T07:31:02.840344Z"
    }
   },
   "outputs": [
    {
     "ename": "NameError",
     "evalue": "name 'calc_max_length' is not defined",
     "output_type": "error",
     "traceback": [
      "\u001b[0;31m---------------------------------------------------------------------------\u001b[0m",
      "\u001b[0;31mNameError\u001b[0m                                 Traceback (most recent call last)",
      "\u001b[0;32m/var/folders/w_/yr5m04f94gn2rz2sp6071jpc0000gn/T/ipykernel_1748/3132680619.py\u001b[0m in \u001b[0;36m<module>\u001b[0;34m\u001b[0m\n\u001b[1;32m     24\u001b[0m \u001b[0;34m\u001b[0m\u001b[0m\n\u001b[1;32m     25\u001b[0m \u001b[0;31m# # Calculates the max_length, which is used to store the attention weights\u001b[0m\u001b[0;34m\u001b[0m\u001b[0;34m\u001b[0m\u001b[0;34m\u001b[0m\u001b[0m\n\u001b[0;32m---> 26\u001b[0;31m \u001b[0mmax_length\u001b[0m \u001b[0;34m=\u001b[0m \u001b[0mcalc_max_length\u001b[0m\u001b[0;34m(\u001b[0m\u001b[0mcaption_seqs\u001b[0m\u001b[0;34m)\u001b[0m\u001b[0;34m\u001b[0m\u001b[0;34m\u001b[0m\u001b[0m\n\u001b[0m\u001b[1;32m     27\u001b[0m \u001b[0;34m\u001b[0m\u001b[0m\n\u001b[1;32m     28\u001b[0m \u001b[0;34m\u001b[0m\u001b[0m\n",
      "\u001b[0;31mNameError\u001b[0m: name 'calc_max_length' is not defined"
     ]
    }
   ],
   "source": [
    "# # create the tokenizer\n",
    "\n",
    "# # # Replace captions with UNK if word is not in the frequent words list\n",
    " \n",
    "# # Get the top 5000 frequently occuring words from this vocabulary\n",
    "# VOCAB_LENGTH = 5000\n",
    "# tokenizer = tf.keras.preprocessing.text.Tokenizer(num_words=VOCAB_LENGTH,\n",
    "#                                                   oov_token=\"<UNK>\",\n",
    "#                                                   filters='!\"#$%&()*+.,-/:;=?@[\\]^_`{|}~')\n",
    "# tokenizer.fit_on_texts(df['caption'])    \n",
    "    \n",
    "# # Add the <pad> tag to the vocabulary\n",
    "# tokenizer.word_index['<pad>'] = 0\n",
    "# tokenizer.index_word[0] = '<pad>'\n",
    "\n",
    "\n",
    "# # Create the tokenized vectors\n",
    "# caption_seqs = tokenizer.texts_to_sequences(df['caption'])\n",
    "\n",
    "\n",
    "# # Pad all sequences to be the same length as the longest one\n",
    "# captions_vector = tf.keras.preprocessing.sequence.pad_sequences(caption_seqs, padding='post')\n",
    "\n",
    "\n",
    "# # # Calculates the max_length, which is used to store the attention weights\n",
    "# max_length = calc_max_length(caption_seqs)\n",
    "\n",
    "\n",
    "# print(f'Total no. of captions      = {len(caption_seqs)}')\n",
    "# print(f'Total no. of token words   = {len(tokenizer.word_index) + 1}')\n",
    "# print(f'Vocab length for tokenizer = {VOCAB_LENGTH}')\n",
    "# print(f'Maximum caption length     = {max_length}')"
   ]
  },
  {
   "cell_type": "code",
   "execution_count": 16,
   "metadata": {},
   "outputs": [],
   "source": [
    "# Create word-to-index and index-to-word mappings.\n",
    "# Add index to each word and create the captions column with index values \n",
    "\n",
    "#your code here"
   ]
  },
  {
   "cell_type": "markdown",
   "metadata": {},
   "source": [
    "### Visualize top-30 words"
   ]
  },
  {
   "cell_type": "code",
   "execution_count": 116,
   "metadata": {
    "ExecuteTime": {
     "end_time": "2021-12-02T12:15:37.108271Z",
     "start_time": "2021-12-02T12:15:37.083005Z"
    }
   },
   "outputs": [
    {
     "data": {
      "text/html": [
       "<div>\n",
       "<style scoped>\n",
       "    .dataframe tbody tr th:only-of-type {\n",
       "        vertical-align: middle;\n",
       "    }\n",
       "\n",
       "    .dataframe tbody tr th {\n",
       "        vertical-align: top;\n",
       "    }\n",
       "\n",
       "    .dataframe thead th {\n",
       "        text-align: right;\n",
       "    }\n",
       "</style>\n",
       "<table border=\"1\" class=\"dataframe\">\n",
       "  <thead>\n",
       "    <tr style=\"text-align: right;\">\n",
       "      <th></th>\n",
       "      <th>word</th>\n",
       "      <th>frequency</th>\n",
       "    </tr>\n",
       "  </thead>\n",
       "  <tbody>\n",
       "    <tr>\n",
       "      <th>0</th>\n",
       "      <td>a</td>\n",
       "      <td>62992</td>\n",
       "    </tr>\n",
       "    <tr>\n",
       "      <th>1</th>\n",
       "      <td>in</td>\n",
       "      <td>18986</td>\n",
       "    </tr>\n",
       "    <tr>\n",
       "      <th>2</th>\n",
       "      <td>the</td>\n",
       "      <td>18419</td>\n",
       "    </tr>\n",
       "    <tr>\n",
       "      <th>3</th>\n",
       "      <td>on</td>\n",
       "      <td>10745</td>\n",
       "    </tr>\n",
       "    <tr>\n",
       "      <th>4</th>\n",
       "      <td>is</td>\n",
       "      <td>9345</td>\n",
       "    </tr>\n",
       "    <tr>\n",
       "      <th>5</th>\n",
       "      <td>and</td>\n",
       "      <td>8862</td>\n",
       "    </tr>\n",
       "    <tr>\n",
       "      <th>6</th>\n",
       "      <td>dog</td>\n",
       "      <td>8138</td>\n",
       "    </tr>\n",
       "    <tr>\n",
       "      <th>7</th>\n",
       "      <td>with</td>\n",
       "      <td>7765</td>\n",
       "    </tr>\n",
       "    <tr>\n",
       "      <th>8</th>\n",
       "      <td>man</td>\n",
       "      <td>7274</td>\n",
       "    </tr>\n",
       "    <tr>\n",
       "      <th>9</th>\n",
       "      <td>of</td>\n",
       "      <td>6723</td>\n",
       "    </tr>\n",
       "    <tr>\n",
       "      <th>10</th>\n",
       "      <td>two</td>\n",
       "      <td>5642</td>\n",
       "    </tr>\n",
       "    <tr>\n",
       "      <th>11</th>\n",
       "      <td>white</td>\n",
       "      <td>3959</td>\n",
       "    </tr>\n",
       "    <tr>\n",
       "      <th>12</th>\n",
       "      <td>black</td>\n",
       "      <td>3848</td>\n",
       "    </tr>\n",
       "    <tr>\n",
       "      <th>13</th>\n",
       "      <td>boy</td>\n",
       "      <td>3581</td>\n",
       "    </tr>\n",
       "    <tr>\n",
       "      <th>14</th>\n",
       "      <td>are</td>\n",
       "      <td>3504</td>\n",
       "    </tr>\n",
       "    <tr>\n",
       "      <th>15</th>\n",
       "      <td>woman</td>\n",
       "      <td>3402</td>\n",
       "    </tr>\n",
       "    <tr>\n",
       "      <th>16</th>\n",
       "      <td>girl</td>\n",
       "      <td>3328</td>\n",
       "    </tr>\n",
       "    <tr>\n",
       "      <th>17</th>\n",
       "      <td>to</td>\n",
       "      <td>3176</td>\n",
       "    </tr>\n",
       "    <tr>\n",
       "      <th>18</th>\n",
       "      <td>wearing</td>\n",
       "      <td>3062</td>\n",
       "    </tr>\n",
       "    <tr>\n",
       "      <th>19</th>\n",
       "      <td>at</td>\n",
       "      <td>2915</td>\n",
       "    </tr>\n",
       "    <tr>\n",
       "      <th>20</th>\n",
       "      <td>people</td>\n",
       "      <td>2883</td>\n",
       "    </tr>\n",
       "    <tr>\n",
       "      <th>21</th>\n",
       "      <td>water</td>\n",
       "      <td>2790</td>\n",
       "    </tr>\n",
       "    <tr>\n",
       "      <th>22</th>\n",
       "      <td>red</td>\n",
       "      <td>2691</td>\n",
       "    </tr>\n",
       "    <tr>\n",
       "      <th>23</th>\n",
       "      <td>young</td>\n",
       "      <td>2630</td>\n",
       "    </tr>\n",
       "    <tr>\n",
       "      <th>24</th>\n",
       "      <td>brown</td>\n",
       "      <td>2578</td>\n",
       "    </tr>\n",
       "    <tr>\n",
       "      <th>25</th>\n",
       "      <td>an</td>\n",
       "      <td>2432</td>\n",
       "    </tr>\n",
       "    <tr>\n",
       "      <th>26</th>\n",
       "      <td>his</td>\n",
       "      <td>2357</td>\n",
       "    </tr>\n",
       "    <tr>\n",
       "      <th>27</th>\n",
       "      <td>blue</td>\n",
       "      <td>2279</td>\n",
       "    </tr>\n",
       "    <tr>\n",
       "      <th>28</th>\n",
       "      <td>dogs</td>\n",
       "      <td>2125</td>\n",
       "    </tr>\n",
       "    <tr>\n",
       "      <th>29</th>\n",
       "      <td>running</td>\n",
       "      <td>2073</td>\n",
       "    </tr>\n",
       "  </tbody>\n",
       "</table>\n",
       "</div>"
      ],
      "text/plain": [
       "       word  frequency\n",
       "0         a      62992\n",
       "1        in      18986\n",
       "2       the      18419\n",
       "3        on      10745\n",
       "4        is       9345\n",
       "5       and       8862\n",
       "6       dog       8138\n",
       "7      with       7765\n",
       "8       man       7274\n",
       "9        of       6723\n",
       "10      two       5642\n",
       "11    white       3959\n",
       "12    black       3848\n",
       "13      boy       3581\n",
       "14      are       3504\n",
       "15    woman       3402\n",
       "16     girl       3328\n",
       "17       to       3176\n",
       "18  wearing       3062\n",
       "19       at       2915\n",
       "20   people       2883\n",
       "21    water       2790\n",
       "22      red       2691\n",
       "23    young       2630\n",
       "24    brown       2578\n",
       "25       an       2432\n",
       "26      his       2357\n",
       "27     blue       2279\n",
       "28     dogs       2125\n",
       "29  running       2073"
      ]
     },
     "metadata": {},
     "output_type": "display_data"
    }
   ],
   "source": [
    "sort_orders = sorted(tokenizer.word_counts.items(), key=lambda x: x[1], reverse=True)\n",
    "common_words = [{\"word\":i[0], \"frequency\":i[1]} for i in sort_orders]\n",
    "common_words_df = pd.DataFrame(common_words)\n",
    "display(common_words_df.head(30)) "
   ]
  },
  {
   "cell_type": "code",
   "execution_count": 118,
   "metadata": {
    "ExecuteTime": {
     "end_time": "2021-12-02T12:16:36.266713Z",
     "start_time": "2021-12-02T12:16:36.109324Z"
    }
   },
   "outputs": [
    {
     "data": {
      "image/png": "[encoded data removed]",
      "text/plain": [
       "<Figure size 1152x576 with 1 Axes>"
      ]
     },
     "metadata": {},
     "output_type": "display_data"
    }
   ],
   "source": [
    "import seaborn as sns\n",
    "import matplotlib.pyplot as plt\n",
    "fig, ax = plt.subplots(figsize=(16, 8))\n",
    "sns.set_theme(style=\"darkgrid\")\n",
    "sns.barplot(x=\"word\", y = 'frequency', data = common_words_df.head(30))\n",
    "plt.xlabel(\"Words\")\n",
    "plt.ylabel(\"Frequency\")\n",
    "plt.title(\"Frequently Occuring Words\") # You can comment this line out if you don't need title\n",
    "plt.show()"
   ]
  },
  {
   "cell_type": "code",
   "execution_count": null,
   "metadata": {},
   "outputs": [],
   "source": []
  },
  {
   "cell_type": "markdown",
   "metadata": {},
   "source": [
    "## Pre-processing Images"
   ]
  },
  {
   "cell_type": "code",
   "execution_count": null,
   "metadata": {},
   "outputs": [],
   "source": [
    "\n",
    "1.Resize them into the shape of (299, 299)\n",
    "\n",
    "3.Normalize the image within the range of -1 to 1, such that it is in correct format for InceptionV3. "
   ]
  },
  {
   "cell_type": "markdown",
   "metadata": {},
   "source": [
    "<b> FAQs on how to resize the images::</b>\n",
    "* Since you have a list which contains all the image path, you need to first convert them to a dataset using <i>tf.data.Dataset.from_tensor_slices</i>. Once you have created a dataset consisting of image paths, you need to apply a function to the dataset which will apply the necessary preprocessing to each image. \n",
    "* This function should resize them and also should do the necessary preprocessing that it is in correct format for InceptionV3.\n"
   ]
  },
  {
   "cell_type": "code",
   "execution_count": null,
   "metadata": {},
   "outputs": [],
   "source": [
    "#write your code here to create the dataset consisting of image paths"
   ]
  },
  {
   "cell_type": "code",
   "execution_count": 13,
   "metadata": {
    "ExecuteTime": {
     "end_time": "2021-12-02T06:37:37.798011Z",
     "start_time": "2021-12-02T06:37:37.788763Z"
    }
   },
   "outputs": [],
   "source": [
    "#write your code here for creating the function. This function should return images & their path\n",
    " \n",
    "\n",
    "def load_image(image_path):\n",
    "    #write your pre-processing steps here\n",
    "    img = tf.io.read_file(image_path)\n",
    "    img = tf.io.decode_jpeg(img, channels=3)\n",
    "    img = tf.image.resize(img, (299, 299))\n",
    "    # Preprocess the images using the preprocess_input method to normalize the image so that it \n",
    "    # contains pixels in the range of -1 to 1, which matches the format of the images used to train InceptionV3.\n",
    "    img = tf.keras.applications.inception_v3.preprocess_input(img)\n",
    "    return img, image_path"
   ]
  },
  {
   "cell_type": "code",
   "execution_count": 14,
   "metadata": {
    "ExecuteTime": {
     "end_time": "2021-12-02T06:37:38.359804Z",
     "start_time": "2021-12-02T06:37:38.291144Z"
    }
   },
   "outputs": [],
   "source": [
    "#write your code here for applying the function to the image path dataset, such that the transformed dataset should contain images & their path\n",
    "\n",
    "# Get unique image paths\n",
    "img_paths = sorted(df['path'].unique())\n",
    "\n",
    "# Set batch size\n",
    "BATCH_SIZE=16\n",
    "\n",
    "image_dataset = tf.data.Dataset.from_tensor_slices(img_paths)\n",
    "image_dataset = image_dataset.map(\n",
    "  load_image, num_parallel_calls=tf.data.AUTOTUNE).batch(BATCH_SIZE)\n",
    "    \n",
    "\n"
   ]
  },
  {
   "cell_type": "markdown",
   "metadata": {},
   "source": [
    "## Load the pretrained Imagenet weights of Inception net V3\n",
    "\n",
    "1.To save the memory(RAM) from getting exhausted, extract the features of the images using the last layer of pre-trained model. Including this as part of training will lead to higher computational time.\n",
    "\n",
    "2.The shape of the output of this layer is 8x8x2048. \n",
    "\n",
    "3.Use a function to extract the features of each image in the train & test dataset such that the shape of each image should be (batch_size, 8*8, 2048)\n",
    "\n"
   ]
  },
  {
   "cell_type": "code",
   "execution_count": 15,
   "metadata": {
    "ExecuteTime": {
     "end_time": "2021-12-02T06:37:42.413191Z",
     "start_time": "2021-12-02T06:37:41.515637Z"
    }
   },
   "outputs": [],
   "source": [
    "image_model = tf.keras.applications.InceptionV3(include_top=False,weights='imagenet')\n",
    "\n",
    "new_input = image_model.input\n",
    "hidden_layer = image_model.layers[-1].output\n",
    "\n",
    "#build the final model using both input & output layer\n",
    "image_features_extract_model = tf.keras.Model(new_input, hidden_layer)\n"
   ]
  },
  {
   "cell_type": "code",
   "execution_count": 17,
   "metadata": {
    "ExecuteTime": {
     "end_time": "2021-12-02T04:00:19.765877Z",
     "start_time": "2021-12-02T04:00:19.758436Z"
    }
   },
   "outputs": [],
   "source": [
    "# # Get unique images\n",
    "# encode_train = sorted(df['path'].unique())\n",
    "\n",
    "# # Set batch size\n",
    "# BATCH_SIZE=16\n",
    "\n",
    "# print(\"Read the image data using tf data\")\n",
    "# # Load the images\n",
    "# image_dataset = tf.data.Dataset.from_tensor_slices(encode_train)\n",
    "# image_dataset = image_dataset.map(\n",
    "#   load_image, num_parallel_calls=tf.data.AUTOTUNE).batch(BATCH_SIZE)\n",
    "\n",
    "# print(\"After reading image data using tf data\")\n",
    "\n",
    "# for img, path in image_dataset:\n",
    "#     batch_features = image_features_extract_model(img)\n",
    "#     batch_features = tf.reshape(batch_features,\n",
    "#                               (batch_features.shape[0], -1, batch_features.shape[3]))\n",
    "\n",
    "# print(\"After extracting features for each image.\")\n",
    "# for bf, p in zip(batch_features, path):\n",
    "#     path_of_feature = p.numpy().decode(\"utf-8\")\n",
    "#     np.save(path_of_feature, bf.numpy())\n",
    "    \n",
    "# print(\"Done\")"
   ]
  },
  {
   "cell_type": "code",
   "execution_count": 48,
   "metadata": {
    "ExecuteTime": {
     "end_time": "2021-12-02T07:20:06.547068Z",
     "start_time": "2021-12-02T07:12:15.883196Z"
    }
   },
   "outputs": [],
   "source": [
    "# write the code to apply the feature_extraction model to your earlier created dataset \n",
    "# which contained images & their respective paths\n",
    "# Once the features are created, you need to reshape them such that feature shape \n",
    "# is in order of (batch_size, 8*8, 2048)\n",
    "\n",
    "\n",
    "# import tensorflow.compat.v1.keras.backend as K\n",
    "# import tensorflow as tf\n",
    "# tf.compat.v1.disable_eager_execution()\n",
    "\n",
    "#feature_dict = {}\n",
    "#featlist = []\n",
    "#print(image_dataset)\n",
    "\n",
    "CREATE_FEATURE_NUMPY_FILE = False # Takes ~8min to create the batch features numpy file for all the imagesa\n",
    "if(CREATE_FEATURE_NUMPY_FILE):\n",
    "    for imgs,paths in image_dataset:\n",
    "        batch_features = image_features_extract_model(imgs)\n",
    "        batch_features = tf.reshape(batch_features,\n",
    "                                  (batch_features.shape[0], -1, batch_features.shape[3]))\n",
    "\n",
    "        for bf, p in zip(batch_features, paths):\n",
    "            path_of_feature = p.numpy().decode(\"utf-8\")\n",
    "            np.save(path_of_feature, bf.numpy())\n",
    "\n",
    "    #     for batch_feature, path in zip(batch_features, paths):\n",
    "    #         img_path = path.numpy().decode(\"utf-8\")\n",
    "    #         feature_dict[img_path] = batch_feature.numpy()\n",
    "        "
   ]
  },
  {
   "cell_type": "markdown",
   "metadata": {},
   "source": [
    "### FAQs on how to store the features:\n",
    "* You can store the features using a dictionary with the path as the key and values as the feature extracted by the inception net v3 model OR\n",
    "* You can store using numpy(np.save) to store the resulting vector."
   ]
  },
  {
   "cell_type": "markdown",
   "metadata": {},
   "source": [
    "## Dataset creation - Train/Test split\n",
    "1.Apply train_test_split on both image path & captions to create the train & test list. Create the train-test spliit using 80-20 ratio & random state = 42\n",
    "\n",
    "2.Create a function which maps the image path to their feature. \n",
    "\n",
    "3.Create a builder function to create train & test dataset & apply the function created earlier to transform the dataset\n",
    "\n",
    "2.Make sure you have done Shuffle and batch while building the dataset\n",
    "\n",
    "3.The shape of each image in the dataset after building should be (batch_size, 8*8, 2048)\n",
    "\n",
    "4.The shape of each caption in the dataset after building should be(batch_size, max_len)\n"
   ]
  },
  {
   "cell_type": "code",
   "execution_count": 49,
   "metadata": {
    "ExecuteTime": {
     "end_time": "2021-12-02T07:21:49.470879Z",
     "start_time": "2021-12-02T07:21:49.450912Z"
    }
   },
   "outputs": [],
   "source": [
    "path_train, path_test, cap_train, cap_test = train_test_split(\n",
    "                                                    #df[['filename','path']],\n",
    "                                                    df[['path']],\n",
    "                                                    df['caption'],\n",
    "                                                    test_size = 0.2, \n",
    "                                                    random_state = 42)\n",
    "\n",
    "\n"
   ]
  },
  {
   "cell_type": "code",
   "execution_count": 50,
   "metadata": {
    "ExecuteTime": {
     "end_time": "2021-12-02T07:21:50.498536Z",
     "start_time": "2021-12-02T07:21:50.488272Z"
    }
   },
   "outputs": [
    {
     "name": "stdout",
     "output_type": "stream",
     "text": [
      "Training data for images: 32364\n",
      "Testing data for images: 8091\n",
      "Training data for Captions: 32364\n",
      "Testing data for Captions: 8091\n"
     ]
    }
   ],
   "source": [
    "print(\"Training data for images: \" + str(len(path_train)))\n",
    "print(\"Testing data for images: \" + str(len(path_test)))\n",
    "print(\"Training data for Captions: \" + str(len(cap_train)))\n",
    "print(\"Testing data for Captions: \" + str(len(cap_test)))"
   ]
  },
  {
   "cell_type": "code",
   "execution_count": null,
   "metadata": {},
   "outputs": [],
   "source": []
  },
  {
   "cell_type": "code",
   "execution_count": null,
   "metadata": {},
   "outputs": [],
   "source": []
  },
  {
   "cell_type": "code",
   "execution_count": null,
   "metadata": {},
   "outputs": [],
   "source": []
  },
  {
   "cell_type": "code",
   "execution_count": 64,
   "metadata": {
    "ExecuteTime": {
     "end_time": "2021-12-02T07:24:33.554697Z",
     "start_time": "2021-12-02T07:24:33.547221Z"
    }
   },
   "outputs": [],
   "source": [
    "# Create a function which maps the image path to their feature. \n",
    "# This function will take the image_path & caption and return it's feature & respective caption.\n",
    "\n",
    "# Load the numpy files\n",
    "def map_func(img_name, cap):\n",
    "  img_tensor = np.load(img_name[0].numpy().decode('utf-8')+'.npy')\n",
    "  return img_tensor, cap"
   ]
  },
  {
   "cell_type": "code",
   "execution_count": 68,
   "metadata": {
    "ExecuteTime": {
     "end_time": "2021-12-02T07:25:10.332301Z",
     "start_time": "2021-12-02T07:25:10.321056Z"
    }
   },
   "outputs": [],
   "source": [
    "# create a builder function to create dataset which takes in the image path & captions as input\n",
    "# This function should transform the created dataset(img_path,cap) to (features,cap) using the map_func created earlier\n",
    "\n",
    "BUFFER_SIZE = 1000\n",
    "\n",
    "def gen_dataset(img_path,cap_data):\n",
    "    img_dataset = tf.data.Dataset.from_tensor_slices((img_path,cap_data))\n",
    "#    img_dataset = img_dataset.map(map_func)\n",
    "    \n",
    "    img_dataset = img_dataset.map(lambda item1, item2: tf.py_function(\n",
    "          map_func, [item1, item2], [tf.float32, tf.string]), ### NOTE: TO be changed to tf.int32 instead of tf.string after string-index mapping is implemented\n",
    "          num_parallel_calls=tf.data.AUTOTUNE)\n",
    "    # your code goes here to create the dataset & transform it\n",
    "    \n",
    "    # Shuffle and batch\n",
    "    img_dataset = img_dataset.shuffle(BUFFER_SIZE).batch(BATCH_SIZE)\n",
    "    img_dataset = img_dataset.prefetch(buffer_size=tf.data.AUTOTUNE)\n",
    "    \n",
    "    return img_dataset,cap_data\n",
    "\n"
   ]
  },
  {
   "cell_type": "code",
   "execution_count": 69,
   "metadata": {
    "ExecuteTime": {
     "end_time": "2021-12-02T07:25:11.611100Z",
     "start_time": "2021-12-02T07:25:11.541280Z"
    }
   },
   "outputs": [],
   "source": [
    "train_dataset,path_series=gen_dataset(path_train,cap_train)\n",
    "test_dataset,path_seriestst=gen_dataset(path_test,cap_test)"
   ]
  },
  {
   "cell_type": "code",
   "execution_count": 70,
   "metadata": {
    "ExecuteTime": {
     "end_time": "2021-12-02T07:25:12.515046Z",
     "start_time": "2021-12-02T07:25:12.086542Z"
    }
   },
   "outputs": [
    {
     "name": "stdout",
     "output_type": "stream",
     "text": [
      "(16, 64, 2048)\n",
      "(16,)\n"
     ]
    }
   ],
   "source": [
    "sample_img_batch, sample_cap_batch = next(iter(train_dataset))\n",
    "#sample_img_batch, sample_cap_batch = train_dataset.get_next()\n",
    "print(sample_img_batch.shape)  #(batch_size, 8*8, 2048)\n",
    "print(sample_cap_batch.shape) #(batch_size,max_len)"
   ]
  },
  {
   "cell_type": "code",
   "execution_count": null,
   "metadata": {},
   "outputs": [],
   "source": []
  },
  {
   "cell_type": "code",
   "execution_count": null,
   "metadata": {},
   "outputs": [],
   "source": []
  },
  {
   "cell_type": "code",
   "execution_count": null,
   "metadata": {},
   "outputs": [],
   "source": []
  },
  {
   "cell_type": "code",
   "execution_count": null,
   "metadata": {},
   "outputs": [],
   "source": []
  },
  {
   "cell_type": "markdown",
   "metadata": {},
   "source": [
    "## Model Building\n",
    "1.Set the parameters\n",
    "\n",
    "2.Build the Encoder, Attention model & Decoder"
   ]
  },
  {
   "cell_type": "code",
   "execution_count": 165,
   "metadata": {
    "ExecuteTime": {
     "end_time": "2021-12-02T06:17:57.920777Z",
     "start_time": "2021-12-02T06:17:57.915761Z"
    }
   },
   "outputs": [],
   "source": [
    "# # Feel free to change these parameters according to your system's configuration\n",
    "\n",
    "# BATCH_SIZE = 64\n",
    "# BUFFER_SIZE = 1000\n",
    "# embedding_dim = 256\n",
    "# units = 512\n",
    "# vocab_size = top_k + 1\n",
    "# num_steps = len(img_name_train) // BATCH_SIZE\n",
    "# # Shape of the vector extracted from InceptionV3 is (64, 2048)\n",
    "# # These two variables represent that vector shape\n",
    "# features_shape = 2048\n",
    "# attention_features_shape = 64"
   ]
  },
  {
   "cell_type": "code",
   "execution_count": 77,
   "metadata": {
    "ExecuteTime": {
     "end_time": "2021-12-02T07:31:20.533348Z",
     "start_time": "2021-12-02T07:31:20.525014Z"
    }
   },
   "outputs": [],
   "source": [
    "embedding_dim = 256 \n",
    "units = 512\n",
    "vocab_size = VOCAB_LENGTH + 1 #top 5,000 words +1\n",
    "train_num_steps = len(path_train) // BATCH_SIZE\n",
    "test_num_steps =  len(path_test) // BATCH_SIZE"
   ]
  },
  {
   "cell_type": "markdown",
   "metadata": {},
   "source": [
    "### Encoder"
   ]
  },
  {
   "cell_type": "code",
   "execution_count": 78,
   "metadata": {
    "ExecuteTime": {
     "end_time": "2021-12-02T07:31:27.781228Z",
     "start_time": "2021-12-02T07:31:27.770765Z"
    }
   },
   "outputs": [],
   "source": [
    "class Encoder(Model):\n",
    "    # Pass the features extracted from V3 inception through a fully connected dense layer  \n",
    "    def __init__(self,embed_dim):\n",
    "        super(Encoder, self).__init__()\n",
    "        self.dense = tf.keras.layers.Dense(embed_dim)#build your Dense layer with relu activation\n",
    "        \n",
    "    def call(self, features):\n",
    "        features =  self.dense(features)\n",
    "        features = tf.nn.relu(features) # extract the features from the image shape: (batch, 8*8, embed_dim)\n",
    "        \n",
    "        return features\n",
    "    \n",
    "   "
   ]
  },
  {
   "cell_type": "code",
   "execution_count": 79,
   "metadata": {
    "ExecuteTime": {
     "end_time": "2021-12-02T07:31:29.784383Z",
     "start_time": "2021-12-02T07:31:29.767851Z"
    }
   },
   "outputs": [],
   "source": [
    "encoder=Encoder(embedding_dim)"
   ]
  },
  {
   "cell_type": "markdown",
   "metadata": {},
   "source": [
    "### Attention model"
   ]
  },
  {
   "cell_type": "code",
   "execution_count": 80,
   "metadata": {
    "ExecuteTime": {
     "end_time": "2021-12-02T10:06:14.036579Z",
     "start_time": "2021-12-02T10:06:14.024336Z"
    }
   },
   "outputs": [],
   "source": [
    "class Attention_model(Model):\n",
    "    def __init__(self, units):\n",
    "        super(Attention_model, self).__init__()\n",
    "        self.W1 = tf.keras.layers.Dense(units)#build your Dense layer\n",
    "        self.W2 = tf.keras.layers.Dense(units)#build your Dense layer\n",
    "        self.V = tf.keras.layers.Dense(1) #build your final Dense layer with unit 1\n",
    "        self.units=units\n",
    "\n",
    "    def call(self, features, hidden):\n",
    "        #features shape: (batch_size, 8*8, embedding_dim)\n",
    "        # hidden shape: (batch_size, hidden_size)\n",
    "        \n",
    "        # Expand the hidden shape to shape: (batch_size, 1, hidden_size)\n",
    "        hidden_with_time_axis =  tf.expand_dims(hidden, 1)\n",
    "        \n",
    "        # build your score funciton to shape: (batch_size, 8*8, units)\n",
    "        # This gives you an unnormalized score for each image feature.\n",
    "        score = self.V(tf.nn.tanh(self.W1(features) + self.W2(hidden_with_time_axis)))\n",
    "        \n",
    "        # extract your attention weights with shape: (batch_size, 8*8, 1)\n",
    "        attention_weights = tf.nn.softmax(score, axis=1) \n",
    "        \n",
    "        #shape: create the context vector with shape (batch_size, 8*8,embedding_dim)\n",
    "        context_vector =  attention_weights * features\n",
    "        \n",
    "        \n",
    "        # reduce the shape to (batch_size, embedding_dim)\n",
    "        context_vector = tf.reduce_sum(context_vector, axis=1)\n",
    "        \n",
    "\n",
    "        return context_vector, attention_weights"
   ]
  },
  {
   "cell_type": "markdown",
   "metadata": {},
   "source": [
    "### Decoder"
   ]
  },
  {
   "cell_type": "code",
   "execution_count": 81,
   "metadata": {
    "ExecuteTime": {
     "end_time": "2021-12-02T10:18:24.595822Z",
     "start_time": "2021-12-02T10:18:24.580087Z"
    }
   },
   "outputs": [],
   "source": [
    "class Decoder(Model):\n",
    "    def __init__(self, embed_dim, units, vocab_size):\n",
    "        super(Decoder, self).__init__()\n",
    "        self.units=units\n",
    "        \n",
    "        #initialise your Attention model with units\n",
    "        self.attention = Attention_model(self.units)\n",
    "        \n",
    "        #build your Embedding layer\n",
    "        self.embed = tf.keras.layers.Embedding(vocab_size, embed_dim)\n",
    "        \n",
    "        self.gru = tf.keras.layers.GRU(self.units,\n",
    "                                       return_sequences=True,\n",
    "                                       return_state=True,\n",
    "                                       recurrent_initializer='glorot_uniform')\n",
    "        \n",
    "        #build the dense layer layer\n",
    "        self.d1 = tf.keras.layers.Dense(self.units)\n",
    "        #build your Dense layer\n",
    "        self.d2 = tf.keras.layers.Dense(vocab_size)\n",
    "        \n",
    "\n",
    "    def call(self,x,features, hidden):\n",
    "        #create your context vector & attention weights from attention model\n",
    "        # defining attention as a separate model\n",
    "        context_vector, attention_weights = self.attention(features, hidden)\n",
    "        \n",
    "        # embed your input to shape: (batch_size, 1, embedding_dim)\n",
    "        # x shape after passing through embedding == (batch_size, 1, embedding_dim)\n",
    "        embed =  self.embedding(x)\n",
    "        \n",
    "        # Concatenate your input with the context vector from attention layer. \n",
    "        # Shape after concatenation: (batch_size, 1, embedding_dim + hidden_size)\n",
    "        embed =  tf.concat([tf.expand_dims(context_vector, 1), embed], axis=-1)\n",
    "        \n",
    "        # Extract the output & hidden state from GRU layer. Output shape : (batch_size, max_length, hidden_size)\n",
    "        output,state = self.gru(embed)\n",
    "        \n",
    "        # shape == (batch_size, max_length, hidden_size)\n",
    "        output = self.d1(output)\n",
    "        \n",
    "        # shape : (batch_size * max_length, hidden_size)\n",
    "        output = tf.reshape(output, (-1, output.shape[2])) \n",
    "        \n",
    "        # shape : (batch_size * max_length, vocab_size)\n",
    "        output = self.d2(output) \n",
    "        \n",
    "        return output,state, attention_weights\n",
    "    \n",
    "    def init_state(self, batch_size):\n",
    "        return tf.zeros((batch_size, self.units))"
   ]
  },
  {
   "cell_type": "code",
   "execution_count": 82,
   "metadata": {
    "ExecuteTime": {
     "end_time": "2021-12-02T10:18:25.520540Z",
     "start_time": "2021-12-02T10:18:25.496594Z"
    }
   },
   "outputs": [],
   "source": [
    "decoder=Decoder(embedding_dim, units, vocab_size)"
   ]
  },
  {
   "cell_type": "code",
   "execution_count": 83,
   "metadata": {
    "ExecuteTime": {
     "end_time": "2021-12-02T10:18:26.265958Z",
     "start_time": "2021-12-02T10:18:26.233255Z"
    }
   },
   "outputs": [
    {
     "ename": "KeyError",
     "evalue": "'<start>'",
     "output_type": "error",
     "traceback": [
      "\u001b[0;31m---------------------------------------------------------------------------\u001b[0m",
      "\u001b[0;31mKeyError\u001b[0m                                  Traceback (most recent call last)",
      "\u001b[0;32m/var/folders/w_/yr5m04f94gn2rz2sp6071jpc0000gn/T/ipykernel_1748/1985238110.py\u001b[0m in \u001b[0;36m<module>\u001b[0;34m\u001b[0m\n\u001b[1;32m      2\u001b[0m \u001b[0;34m\u001b[0m\u001b[0m\n\u001b[1;32m      3\u001b[0m \u001b[0mhidden\u001b[0m \u001b[0;34m=\u001b[0m \u001b[0mdecoder\u001b[0m\u001b[0;34m.\u001b[0m\u001b[0minit_state\u001b[0m\u001b[0;34m(\u001b[0m\u001b[0mbatch_size\u001b[0m\u001b[0;34m=\u001b[0m\u001b[0msample_cap_batch\u001b[0m\u001b[0;34m.\u001b[0m\u001b[0mshape\u001b[0m\u001b[0;34m[\u001b[0m\u001b[0;36m0\u001b[0m\u001b[0;34m]\u001b[0m\u001b[0;34m)\u001b[0m\u001b[0;34m\u001b[0m\u001b[0;34m\u001b[0m\u001b[0m\n\u001b[0;32m----> 4\u001b[0;31m \u001b[0mdec_input\u001b[0m \u001b[0;34m=\u001b[0m \u001b[0mtf\u001b[0m\u001b[0;34m.\u001b[0m\u001b[0mexpand_dims\u001b[0m\u001b[0;34m(\u001b[0m\u001b[0;34m[\u001b[0m\u001b[0mtokenizer\u001b[0m\u001b[0;34m.\u001b[0m\u001b[0mword_index\u001b[0m\u001b[0;34m[\u001b[0m\u001b[0;34m'<start>'\u001b[0m\u001b[0;34m]\u001b[0m\u001b[0;34m]\u001b[0m \u001b[0;34m*\u001b[0m \u001b[0msample_cap_batch\u001b[0m\u001b[0;34m.\u001b[0m\u001b[0mshape\u001b[0m\u001b[0;34m[\u001b[0m\u001b[0;36m0\u001b[0m\u001b[0;34m]\u001b[0m\u001b[0;34m,\u001b[0m \u001b[0;36m1\u001b[0m\u001b[0;34m)\u001b[0m\u001b[0;34m\u001b[0m\u001b[0;34m\u001b[0m\u001b[0m\n\u001b[0m\u001b[1;32m      5\u001b[0m \u001b[0;34m\u001b[0m\u001b[0m\n\u001b[1;32m      6\u001b[0m \u001b[0mpredictions\u001b[0m\u001b[0;34m,\u001b[0m \u001b[0mhidden_out\u001b[0m\u001b[0;34m,\u001b[0m \u001b[0mattention_weights\u001b[0m\u001b[0;34m=\u001b[0m \u001b[0mdecoder\u001b[0m\u001b[0;34m(\u001b[0m\u001b[0mdec_input\u001b[0m\u001b[0;34m,\u001b[0m \u001b[0mfeatures\u001b[0m\u001b[0;34m,\u001b[0m \u001b[0mhidden\u001b[0m\u001b[0;34m)\u001b[0m\u001b[0;34m\u001b[0m\u001b[0;34m\u001b[0m\u001b[0m\n",
      "\u001b[0;31mKeyError\u001b[0m: '<start>'"
     ]
    }
   ],
   "source": [
    "features=encoder(sample_img_batch)\n",
    "\n",
    "hidden = decoder.init_state(batch_size=sample_cap_batch.shape[0])\n",
    "dec_input = tf.expand_dims([tokenizer.word_index['<start>']] * sample_cap_batch.shape[0], 1)\n",
    "\n",
    "predictions, hidden_out, attention_weights= decoder(dec_input, features, hidden)\n",
    "print('Feature shape from Encoder: {}'.format(features.shape)) #(batch, 8*8, embed_dim)\n",
    "print('Predcitions shape from Decoder: {}'.format(predictions.shape)) #(batch,vocab_size)\n",
    "print('Attention weights shape from Decoder: {}'.format(attention_weights.shape)) #(batch, 8*8, embed_dim)"
   ]
  },
  {
   "cell_type": "markdown",
   "metadata": {},
   "source": [
    "## Model training & optimization\n",
    "1.Set the optimizer & loss object\n",
    "\n",
    "2.Create your checkpoint path\n",
    "\n",
    "3.Create your training & testing step functions\n",
    "\n",
    "4.Create your loss function for the test dataset"
   ]
  },
  {
   "cell_type": "code",
   "execution_count": null,
   "metadata": {},
   "outputs": [],
   "source": [
    "#define the optimizer\n",
    "optimizer = tf.keras.optimizers.Adam()\n",
    "#define your loss object\n",
    "loss_object = tf.keras.losses.SparseCategoricalCrossentropy(\n",
    "    from_logits=True, reduction='none')\n"
   ]
  },
  {
   "cell_type": "code",
   "execution_count": null,
   "metadata": {},
   "outputs": [],
   "source": [
    "def loss_function(real, pred):\n",
    "    mask = tf.math.logical_not(tf.math.equal(real, 0))\n",
    "    loss_ = loss_object(real, pred)\n",
    "\n",
    "    mask = tf.cast(mask, dtype=loss_.dtype)\n",
    "    loss_ *= mask\n",
    "\n",
    "    return tf.reduce_mean(loss_)"
   ]
  },
  {
   "cell_type": "code",
   "execution_count": null,
   "metadata": {},
   "outputs": [],
   "source": [
    "checkpoint_path = \"./checkpoints/train_chkpts\"\n",
    "ckpt = tf.train.Checkpoint(encoder=encoder,\n",
    "                           decoder=decoder,\n",
    "                           optimizer = optimizer)\n",
    "ckpt_manager = tf.train.CheckpointManager(ckpt, checkpoint_path_ckpt, max_to_keep=5)"
   ]
  },
  {
   "cell_type": "code",
   "execution_count": null,
   "metadata": {},
   "outputs": [],
   "source": [
    "start_epoch = 0\n",
    "if ckpt_manager.latest_checkpoint:\n",
    "    start_epoch = int(ckpt_manager.latest_checkpoint.split('-')[-1])\n",
    "    # restoring the latest checkpoint in checkpoint_path\n",
    "    ckpt.restore(ckpt_manager.latest_checkpoint)"
   ]
  },
  {
   "cell_type": "markdown",
   "metadata": {},
   "source": [
    "* While creating the training step for your model, you will apply Teacher forcing.\n",
    "* Teacher forcing is a technique where the target/real word is passed as the next input to the decoder instead of previous prediciton."
   ]
  },
  {
   "cell_type": "code",
   "execution_count": null,
   "metadata": {},
   "outputs": [],
   "source": [
    "@tf.function\n",
    "def train_step(img_tensor, target):\n",
    "  loss = 0\n",
    "\n",
    "  # initializing the hidden state for each batch\n",
    "  # because the captions are not related from image to image\n",
    "  hidden = decoder.reset_state(batch_size=target.shape[0])\n",
    "\n",
    "  dec_input = tf.expand_dims([tokenizer.word_index['<start>']] * target.shape[0], 1)\n",
    "\n",
    "  with tf.GradientTape() as tape:\n",
    "      features = encoder(img_tensor)\n",
    "\n",
    "      for i in range(1, target.shape[1]):\n",
    "          # passing the features through the decoder\n",
    "          predictions, hidden, _ = decoder(dec_input, features, hidden)\n",
    "\n",
    "          loss += loss_function(target[:, i], predictions)\n",
    "\n",
    "          # using teacher forcing\n",
    "          dec_input = tf.expand_dims(target[:, i], 1)\n",
    "\n",
    "  total_loss = (loss / int(target.shape[1]))\n",
    "\n",
    "  trainable_variables = encoder.trainable_variables + decoder.trainable_variables\n",
    "\n",
    "  gradients = tape.gradient(loss, trainable_variables)\n",
    "\n",
    "  optimizer.apply_gradients(zip(gradients, trainable_variables))\n",
    "\n",
    "  return loss, total_loss"
   ]
  },
  {
   "cell_type": "code",
   "execution_count": null,
   "metadata": {},
   "outputs": [],
   "source": [
    "@tf.function\n",
    "def train_step(img_tensor, target):\n",
    "    loss = 0\n",
    "    \n",
    "  # initialize the hidden state for each batch as the captions are not related from image to image\n",
    "    hidden = decoder.reset_state(batch_size=target.shape[0])\n",
    "    dec_input = tf.expand_dims([tokenizer.word_index['<start>']] * target.shape[0], 1)\n",
    "    \n",
    "    with tf.GradientTape() as tape:\n",
    "        features = encoder(img_tensor)\n",
    "\n",
    "        for i in range(1, target.shape[1]):\n",
    "            # passing the features through the decoder\n",
    "            predictions, hidden, _ = decoder(dec_input, features, hidden)\n",
    "\n",
    "            loss += loss_function(target[:, i], predictions)\n",
    "\n",
    "            # using teacher forcing\n",
    "            dec_input = tf.expand_dims(target[:, i], 1)\n",
    "\n",
    "    total_loss = (loss / int(target.shape[1]))\n",
    "\n",
    "    trainable_variables = encoder.trainable_variables + decoder.trainable_variables\n",
    "\n",
    "    gradients = tape.gradient(loss, trainable_variables)\n",
    "\n",
    "    optimizer.apply_gradients(zip(gradients, trainable_variables)) \n",
    "        \n",
    "    return loss, avg_loss"
   ]
  },
  {
   "cell_type": "markdown",
   "metadata": {},
   "source": [
    "* While creating the test step for your model, you will pass your previous prediciton as the next input to the decoder."
   ]
  },
  {
   "cell_type": "code",
   "execution_count": null,
   "metadata": {},
   "outputs": [],
   "source": [
    "@tf.function\n",
    "def test_step(img_tensor, target):\n",
    "    loss = 0\n",
    "    \n",
    "    #write your code here to do the testing steps\n",
    "        \n",
    "    return loss, avg_loss"
   ]
  },
  {
   "cell_type": "code",
   "execution_count": null,
   "metadata": {},
   "outputs": [],
   "source": [
    "def test_loss_cal(test_dataset):\n",
    "    total_loss = 0\n",
    "\n",
    "    #write your code to get the average loss result on your test data\n",
    "    \n",
    "    return avg_test_loss"
   ]
  },
  {
   "cell_type": "code",
   "execution_count": null,
   "metadata": {},
   "outputs": [],
   "source": [
    "loss_plot = []\n",
    "test_loss_plot = []\n",
    "EPOCHS = 15\n",
    "\n",
    "best_test_loss=100\n",
    "for epoch in tqdm(range(start_epoch, EPOCHS)):\n",
    "    start = time.time()\n",
    "    total_loss = 0\n",
    "\n",
    "    for (batch, (img_tensor, target)) in enumerate(train_dataset):\n",
    "        batch_loss, t_loss = train_step(img_tensor, target)\n",
    "        total_loss += t_loss\n",
    "        avg_train_loss=total_loss / train_num_steps\n",
    "        \n",
    "        \n",
    "        if batch % 100 == 0:\n",
    "            average_batch_loss = batch_loss.numpy()/int(target.shape[1])\n",
    "            print(f'Epoch {epoch+1} Batch {batch} Loss {average_batch_loss:.4f}')\n",
    "        \n",
    "    # storing the epoch end loss value to plot later\n",
    "    loss_plot.append(avg_train_loss)    \n",
    "    \n",
    "    test_loss = test_loss_cal(test_dataset)\n",
    "    test_loss_plot.append(test_loss)\n",
    "    \n",
    "    \n",
    "    print(f'Epoch: {epoch+1}, Train Loss: {avg_train_loss:.6f}, Test Loss: {test_loss:.6f}')\n",
    "    print(f'Time taken for 1 epoch {time.time()-start:.2f} sec\\n')\n",
    "    \n",
    "    if test_loss < best_test_loss:\n",
    "        print('Test loss has been reduced from %.3f to %.3f' % (best_test_loss, test_loss))\n",
    "        best_test_loss = test_loss\n",
    "        ckpt_manager.save()"
   ]
  },
  {
   "cell_type": "code",
   "execution_count": null,
   "metadata": {},
   "outputs": [],
   "source": [
    "plt.plot(loss_plot)\n",
    "plt.plot(test_loss_plot)\n",
    "plt.xlabel('Epochs')\n",
    "plt.ylabel('Loss')\n",
    "plt.title('Loss Plot')\n",
    "plt.show()"
   ]
  },
  {
   "cell_type": "markdown",
   "metadata": {},
   "source": [
    "#### NOTE: \n",
    "* Since there is a difference between the train & test steps ( Presence of teacher forcing), you may observe that the train loss is decreasing while your test loss is not. \n",
    "* This doesn't mean that the model is overfitting, as we can't compare the train & test results here, as both approach is different.\n",
    "* Also, if you want to achieve better results you can run it more epochs, but the intent of this capstone is to give you an idea on how to integrate attention mechanism with E-D architecture for images. The intent is not to create the state of art model. "
   ]
  },
  {
   "cell_type": "markdown",
   "metadata": {},
   "source": [
    "## Model Evaluation\n",
    "1.Define your evaluation function using greedy search\n",
    "\n",
    "2.Define your evaluation function using beam search ( optional)\n",
    "\n",
    "3.Test it on a sample data using BLEU score"
   ]
  },
  {
   "cell_type": "markdown",
   "metadata": {},
   "source": [
    "### Greedy Search"
   ]
  },
  {
   "cell_type": "code",
   "execution_count": null,
   "metadata": {},
   "outputs": [],
   "source": [
    "def evaluate(image):\n",
    "    attention_plot = np.zeros((max_length, attention_features_shape))\n",
    "\n",
    "    hidden = decoder.reset_state(batch_size=1)\n",
    "\n",
    "    temp_input = tf.expand_dims(load_image(image)[0], 0) #process the input image to desired format before extracting features\n",
    "    img_tensor_val = image_features_extract_model(temp_input) # Extract features using our feature extraction model\n",
    "    img_tensor_val = tf.reshape(img_tensor_val, (img_tensor_val.shape[0], -1, img_tensor_val.shape[3]))\n",
    "\n",
    "    features = encoder(img_tensor_val)# extract the features by passing the input to encoder\n",
    "\n",
    "    dec_input = tf.expand_dims([tokenizer.word_index['<start>']], 0)\n",
    "    result = []\n",
    "\n",
    "    for i in range(max_length):\n",
    "        predictions, hidden, attention_weights = decoder(dec_input,\n",
    "                                                         features,\n",
    "                                                         hidden)# get the output from decoder\n",
    "\n",
    "        attention_plot[i] = tf.reshape(attention_weights, (-1, )).numpy()\n",
    "\n",
    "        predicted_id = tf.random.categorical(predictions, 1)[0][0].numpy()#extract the predicted id(embedded value) which carries the max value\n",
    "        #map the id to the word from tokenizer and append the value to the result list\n",
    "        result.append(tokenizer.index_word[predicted_id])\n",
    "\n",
    "        if tokenizer.index_word[predicted_id] == '<end>':\n",
    "            return result, attention_plot,predictions\n",
    "\n",
    "        dec_input = tf.expand_dims([predicted_id], 0)\n",
    "\n",
    "    attention_plot = attention_plot[:len(result), :]\n",
    "    return result, attention_plot,predictions\n"
   ]
  },
  {
   "cell_type": "markdown",
   "metadata": {},
   "source": [
    "### Beam Search(optional)"
   ]
  },
  {
   "cell_type": "code",
   "execution_count": null,
   "metadata": {},
   "outputs": [],
   "source": [
    "def beam_evaluate(image, beam_index = #your value for beam index):\n",
    "\n",
    "    #write your code to evaluate the result using beam search\n",
    "                  \n",
    "    return final_caption\n",
    "\n"
   ]
  },
  {
   "cell_type": "code",
   "execution_count": null,
   "metadata": {},
   "outputs": [],
   "source": [
    "def plot_attmap(caption, weights, image):\n",
    "\n",
    "    fig = plt.figure(figsize=(10, 10))\n",
    "    temp_img = np.array(Image.open(image))\n",
    "    \n",
    "    len_cap = len(caption)\n",
    "    for cap in range(len_cap):\n",
    "        weights_img = np.reshape(weights[cap], (8,8))\n",
    "        weights_img = np.array(Image.fromarray(weights_img).resize((224, 224), Image.LANCZOS))\n",
    "        \n",
    "        ax = fig.add_subplot(len_cap//2, len_cap//2, cap+1)\n",
    "        ax.set_title(caption[cap], fontsize=15)\n",
    "        \n",
    "        img=ax.imshow(temp_img)\n",
    "        \n",
    "        ax.imshow(weights_img, cmap='gist_heat', alpha=0.6,extent=img.get_extent())\n",
    "        ax.axis('off')\n",
    "    plt.subplots_adjust(hspace=0.2, wspace=0.2)\n",
    "    plt.show()"
   ]
  },
  {
   "cell_type": "code",
   "execution_count": null,
   "metadata": {},
   "outputs": [],
   "source": [
    "from nltk.translate.bleu_score import sentence_bleu"
   ]
  },
  {
   "cell_type": "code",
   "execution_count": null,
   "metadata": {},
   "outputs": [],
   "source": [
    "def filt_text(text):\n",
    "    filt=['<start>','<unk>','<end>'] \n",
    "    temp= text.split()\n",
    "    [temp.remove(j) for k in filt for j in temp if k==j]\n",
    "    text=' '.join(temp)\n",
    "    return text"
   ]
  },
  {
   "cell_type": "code",
   "execution_count": null,
   "metadata": {},
   "outputs": [],
   "source": [
    "rid = np.random.randint(0, len(img_test))\n",
    "test_image = img_test[rid]\n",
    "#test_image = './images/413231421_43833a11f5.jpg'\n",
    "#real_caption = '<start> black dog is digging in the snow <end>'\n",
    "\n",
    "real_caption = ' '.join([tokenizer.index_word[i] for i in cap_test[rid] if i not in [0]])\n",
    "result, attention_plot,pred_test = evaluate(test_image)\n",
    "\n",
    "\n",
    "real_caption=filt_text(real_caption)      \n",
    "\n",
    "\n",
    "pred_caption=' '.join(result).rsplit(' ', 1)[0]\n",
    "\n",
    "real_appn = []\n",
    "real_appn.append(real_caption.split())\n",
    "reference = real_appn\n",
    "candidate = pred_caption.split()\n",
    "\n",
    "score = sentence_bleu(reference, candidate, weights=#set your weights)\n",
    "print(f\"BLEU score: {score*100}\")\n",
    "\n",
    "print ('Real Caption:', real_caption)\n",
    "print ('Prediction Caption:', pred_caption)\n",
    "plot_attmap(result, attention_plot, test_image)\n",
    "\n",
    "\n",
    "Image.open(test_image)"
   ]
  },
  {
   "cell_type": "code",
   "execution_count": null,
   "metadata": {},
   "outputs": [],
   "source": [
    "captions=beam_evaluate(test_image)\n",
    "print(captions)"
   ]
  }
 ],
 "metadata": {
  "kernelspec": {
   "display_name": "Capstone (TF - Py 3.8)",
   "language": "python",
   "name": "capstone"
  },
  "language_info": {
   "codemirror_mode": {
    "name": "ipython",
    "version": 3
   },
   "file_extension": ".py",
   "mimetype": "text/x-python",
   "name": "python",
   "nbconvert_exporter": "python",
   "pygments_lexer": "ipython3",
   "version": "3.8.12"
  },
  "toc": {
   "base_numbering": 1,
   "nav_menu": {},
   "number_sections": true,
   "sideBar": true,
   "skip_h1_title": false,
   "title_cell": "Table of Contents",
   "title_sidebar": "Contents",
   "toc_cell": false,
   "toc_position": {},
   "toc_section_display": true,
   "toc_window_display": true
  }
 },
 "nbformat": 4,
 "nbformat_minor": 2
}
